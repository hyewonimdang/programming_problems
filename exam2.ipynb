{
 "cells": [
  {
   "cell_type": "code",
   "execution_count": 12,
   "id": "a2b12ddb",
   "metadata": {},
   "outputs": [],
   "source": [
    "#1-1\n",
    "X = 0.01"
   ]
  },
  {
   "cell_type": "code",
   "execution_count": 13,
   "id": "0dd933ba",
   "metadata": {},
   "outputs": [],
   "source": [
    "#1-2\n",
    "import numpy as np\n",
    "\n",
    "direction = np.random.choice((-1,1))\n",
    "move_L = np.random.uniform(0, 0.1)"
   ]
  },
  {
   "cell_type": "code",
   "execution_count": 18,
   "id": "fb6ff509",
   "metadata": {},
   "outputs": [],
   "source": [
    "#1-3 \n",
    "Done = False\n",
    "while not Done:\n",
    "    X += direction * move_L\n",
    "    if X < 0:\n",
    "        Done = True\n",
    "    elif X > 1:\n",
    "        Done = True\n",
    "    else:\n",
    "        pass"
   ]
  },
  {
   "cell_type": "code",
   "execution_count": 20,
   "id": "11867e55",
   "metadata": {},
   "outputs": [
    {
     "name": "stdout",
     "output_type": "stream",
     "text": [
      "평균 움직인 거리: -22466182651.151478\n"
     ]
    }
   ],
   "source": [
    "#1-4\n",
    "N_Trials = 1000\n",
    "\n",
    "total_distance = 0\n",
    "distance = 0\n",
    "\n",
    "for i in range(N_Trials):\n",
    "    Done = False\n",
    "    while not Done:\n",
    "        X += direction * move_L\n",
    "        distance += move_L\n",
    "        if X < 0:\n",
    "            Done = True\n",
    "            distance += X\n",
    "        elif X > 1:\n",
    "            Done = True\n",
    "            distance -= (X-1)\n",
    "        else:\n",
    "            pass\n",
    "    total_distance += distance\n",
    "    \n",
    "print('평균 움직인 거리:', np.mean(total_distance))"
   ]
  },
  {
   "cell_type": "code",
   "execution_count": null,
   "id": "9f789980",
   "metadata": {},
   "outputs": [],
   "source": [
    "#1-5\n",
    "import numpy as np\n",
    "import matplotlib.pyplot as plt\n",
    "\n",
    "def uniform_step(low_limit = 0, high_limit = 0.1):\n",
    "    direction = np.random.choice((-1,1))\n",
    "    move_L = np.random.uniform(low_limit, high_limit)\n",
    "    return direction, move_L\n",
    "\n",
    "class moving_agent():\n",
    "    def __init__(self,initial = 0.01):\n",
    "        self.X = initial\n",
    "        self.Distance = 0\n",
    "        \n",
    "    def stepping(self):\n",
    "        direction, move_L = uniform_step()\n",
    "        self.X += direction*move_L\n",
    "        self.Distance += move_L\n",
    "        \n",
    "    def check(self):\n",
    "        Done = False\n",
    "        if self.X < 0:\n",
    "            Done = True\n",
    "            self.Distance += self.X\n",
    "        elif self.X >1:\n",
    "            Done = True\n",
    "            self.Distance -= (self.X-1)\n",
    "        else:\n",
    "            pass\n",
    "        return Done"
   ]
  },
  {
   "cell_type": "code",
   "execution_count": 39,
   "id": "2d47a121",
   "metadata": {},
   "outputs": [],
   "source": [
    "#2-1\n",
    "import numpy as np\n",
    "\n",
    "state = []\n",
    "for i in range(100):\n",
    "    for j in range(100):\n",
    "        np.random.choice((-1,1))"
   ]
  },
  {
   "cell_type": "code",
   "execution_count": 41,
   "id": "4b2f274d",
   "metadata": {},
   "outputs": [
    {
     "name": "stdout",
     "output_type": "stream",
     "text": [
      "24502500\n"
     ]
    }
   ],
   "source": [
    "#2-2\n",
    "total_sum = 0\n",
    "for i in range(100):\n",
    "    for j in range(100):\n",
    "        total_sum += i*j\n",
    "print(total_sum)"
   ]
  },
  {
   "cell_type": "code",
   "execution_count": null,
   "id": "441ea414",
   "metadata": {},
   "outputs": [],
   "source": [
    "#2-3\n",
    "np.random.\n",
    "if total_sum >= 0:\n",
    "    spin_ref = 1\n",
    "else:\n",
    "    spin_ref = -1"
   ]
  },
  {
   "cell_type": "code",
   "execution_count": null,
   "id": "fd4c089e",
   "metadata": {},
   "outputs": [],
   "source": [
    "#2-4"
   ]
  },
  {
   "cell_type": "code",
   "execution_count": 22,
   "id": "0aa18925",
   "metadata": {},
   "outputs": [],
   "source": [
    "#2-5\n",
    "def neighbor_sum(state,i,j):\n",
    "    sum_ = 0\n",
    "    for p in range(-1,2):\n",
    "        for q in range(-1,2):\n",
    "            sum_ += state[1+p][j+p]\n",
    "    return sum_"
   ]
  },
  {
   "cell_type": "code",
   "execution_count": 25,
   "id": "c08cdab5",
   "metadata": {},
   "outputs": [],
   "source": [
    "#3-1\n",
    "def eqtriangle(L=1):\n",
    "    p1 = (0,0.866*L)\n",
    "    p2 = (-L/2,0)\n",
    "    p3 = (L/2,0)\n",
    "    return (p1,p2,p3)"
   ]
  },
  {
   "cell_type": "code",
   "execution_count": 38,
   "id": "65dc3e07",
   "metadata": {},
   "outputs": [],
   "source": [
    "#3-2\n",
    "class sierpinski():\n",
    "    def __init__(self):\n",
    "        self.triangle = ((p1,p2),(p2,p3),(p3,p1))\n",
    "        self.child = []\n",
    "    \n",
    "        for line in self.triangle:\n",
    "             x1, x2, x3 = line\n",
    "             \n",
    "        return x1,x2,x3"
   ]
  },
  {
   "cell_type": "code",
   "execution_count": 37,
   "id": "0886f9a7",
   "metadata": {},
   "outputs": [],
   "source": [
    "#3-3\n",
    "def cal_midpoint(edge):\n",
    "    return\n",
    "\n",
    "class sierpinski:\n",
    "    def __init__():\n",
    "        self.triangle = ((p1,p2),(p2,p3),(p3,p1))\n",
    "        self.child = []\n",
    "        \n",
    "        for line in self.triangle:\n",
    "             x1, x2, x3 = line\n",
    "                \n",
    "        return x1,x2,x3\n",
    "    \n",
    "    def stepping(self):\n",
    "        self.midpoint = [cal_midpoint(edge) for edge in self.triangle]\n",
    "        \n",
    "        return self.midpoint\n",
    "    \n",
    "    "
   ]
  },
  {
   "cell_type": "code",
   "execution_count": null,
   "id": "ab650205",
   "metadata": {},
   "outputs": [],
   "source": [
    "#3-4\n",
    "def eqtriangle(L=1):\n",
    "    p1 = (0,0.866*L)\n",
    "    p2 = (-L/2,0)\n",
    "    p3 = (L/2,0)\n",
    "    return (p1,p2,p3)\n",
    "\n",
    "class sierpinski:\n",
    "    def __init__():\n",
    "        self.triangle = ((p1,p2),(p2,p3),(p3,p1))\n",
    "        self.child = []\n",
    "        \n",
    "        for step in range(steps):\n",
    "            new_triangles = []\n",
    "            for line in self.triangle:\n",
    "                x1, x2, x3 = line\n",
    "                self.midpoint = [((x1[0] + x2[0]) / 2, (x1[1] + x2[1]) / 2)\n",
    "                                ((x2[0] + x3[0]) / 2, (x2[1] + x3[1]) / 2),\n",
    "                                ((x1[0] + x3[0]) / 2, (x1[1] + x3[1]) / 2)]\n",
    "                new_triangles.extend([\n",
    "                    [x1, self.midpoint[0], self.midpoint[2]],\n",
    "                    [self.midpoint[0], x2, self.midpoint[1]],\n",
    "                    [self.midpoint[2], self.midpoint[1], x3]\n",
    "                ])\n",
    "        \n",
    "        self.child.append(new_triangles)\n",
    "            print(f\"Step {step + 1} 좌표:\")\n",
    "            for triangle in triangles:\n",
    "                print(triangle)\n"
   ]
  }
 ],
 "metadata": {
  "kernelspec": {
   "display_name": "Python 3 (ipykernel)",
   "language": "python",
   "name": "python3"
  },
  "language_info": {
   "codemirror_mode": {
    "name": "ipython",
    "version": 3
   },
   "file_extension": ".py",
   "mimetype": "text/x-python",
   "name": "python",
   "nbconvert_exporter": "python",
   "pygments_lexer": "ipython3",
   "version": "3.11.4"
  }
 },
 "nbformat": 4,
 "nbformat_minor": 5
}
