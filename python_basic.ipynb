{
 "cells": [
  {
   "cell_type": "code",
   "execution_count": 1,
   "id": "795a0a0d",
   "metadata": {},
   "outputs": [],
   "source": [
    "Major = 'Smart Factory'"
   ]
  },
  {
   "cell_type": "code",
   "execution_count": 3,
   "id": "36beebbe",
   "metadata": {},
   "outputs": [
    {
     "name": "stdout",
     "output_type": "stream",
     "text": [
      "Ateendance\n"
     ]
    }
   ],
   "source": [
    "if Major == 'Smart Factory':\n",
    "    print('Ateendance')\n",
    "else:\n",
    "    print('No')"
   ]
  },
  {
   "cell_type": "code",
   "execution_count": 4,
   "id": "21519233",
   "metadata": {},
   "outputs": [],
   "source": [
    "num_class = 'A'"
   ]
  },
  {
   "cell_type": "code",
   "execution_count": 6,
   "id": "2883981d",
   "metadata": {},
   "outputs": [
    {
     "name": "stdout",
     "output_type": "stream",
     "text": [
      "Yes\n"
     ]
    }
   ],
   "source": [
    "if Major == 'Smart Factory' and num_class == 'A':\n",
    "    print('Yes')\n",
    "else:\n",
    "    pass"
   ]
  },
  {
   "cell_type": "code",
   "execution_count": 7,
   "id": "b773e99a",
   "metadata": {},
   "outputs": [],
   "source": [
    "A = [1,2,3]\n",
    "B = [4,5,6]\n",
    "C = 'S'"
   ]
  },
  {
   "cell_type": "code",
   "execution_count": 8,
   "id": "e4abbea5",
   "metadata": {},
   "outputs": [
    {
     "data": {
      "text/plain": [
       "True"
      ]
     },
     "execution_count": 8,
     "metadata": {},
     "output_type": "execute_result"
    }
   ],
   "source": [
    "1 in A"
   ]
  },
  {
   "cell_type": "code",
   "execution_count": 9,
   "id": "3b206c3e",
   "metadata": {},
   "outputs": [
    {
     "name": "stdout",
     "output_type": "stream",
     "text": [
      "Yes\n"
     ]
    }
   ],
   "source": [
    "if 1 in A:\n",
    "    print('Yes')\n",
    "else:\n",
    "    print('No')"
   ]
  },
  {
   "cell_type": "code",
   "execution_count": 13,
   "id": "9975b23d",
   "metadata": {},
   "outputs": [
    {
     "name": "stdout",
     "output_type": "stream",
     "text": [
      "1\n",
      "2\n",
      "3\n",
      "4\n",
      "5\n",
      "6\n",
      "7\n",
      "8\n",
      "9\n",
      "10\n",
      "11\n",
      "12\n",
      "13\n",
      "14\n",
      "15\n"
     ]
    }
   ],
   "source": [
    "num_week = 0\n",
    "while num_week <15:\n",
    "    num_week += 1\n",
    "    print(num_week)\n",
    "    if num_week == 15:\n",
    "        break"
   ]
  },
  {
   "cell_type": "code",
   "execution_count": 17,
   "id": "92f30c2a",
   "metadata": {},
   "outputs": [
    {
     "name": "stdout",
     "output_type": "stream",
     "text": [
      "Attend this class in week 1\n",
      "Attend this class in week 2\n",
      "Attend this class in week 3\n",
      "Attend this class in week 4\n",
      "Attend this class in week 5\n",
      "Attend this class in week 6\n",
      "Attend this class in week 7\n",
      "Attend this class in week 8\n",
      "Attend this class in week 9\n",
      "Attend this class in week 10\n",
      "Attend this class in week 11\n",
      "Attend this class in week 12\n",
      "Attend this class in week 13\n",
      "Attend this class in week 14\n",
      "Attend this class in week 15\n",
      "End\n"
     ]
    }
   ],
   "source": [
    "weeks = 0\n",
    "while True:\n",
    "    weeks += 1\n",
    "    print('Attend this class in week %d' % weeks)\n",
    "    if weeks == 15:\n",
    "        print('End')\n",
    "        break"
   ]
  },
  {
   "cell_type": "code",
   "execution_count": 21,
   "id": "b47d2b77",
   "metadata": {},
   "outputs": [
    {
     "name": "stdout",
     "output_type": "stream",
     "text": [
      "1\n",
      "2\n",
      "3\n",
      "4\n",
      "5\n",
      "6\n",
      "7\n",
      "8\n",
      "9\n",
      "10\n",
      "11\n",
      "12\n",
      "13\n",
      "14\n",
      "15\n",
      "End\n"
     ]
    }
   ],
   "source": [
    "weeks = 0\n",
    "while True:\n",
    "    weeks += 1\n",
    "    print(weeks)\n",
    "    if weeks == 15:\n",
    "        print('End')\n",
    "        break"
   ]
  },
  {
   "cell_type": "code",
   "execution_count": 25,
   "id": "780f80fe",
   "metadata": {},
   "outputs": [
    {
     "name": "stdout",
     "output_type": "stream",
     "text": [
      "2\n",
      "4\n",
      "6\n",
      "8\n",
      "10\n",
      "12\n",
      "14\n"
     ]
    }
   ],
   "source": [
    "weeks = 0\n",
    "while True:\n",
    "    weeks += 1\n",
    "    if weeks % 2 == 0:\n",
    "        print(weeks)\n",
    "        if weeks == 14:\n",
    "            break"
   ]
  },
  {
   "cell_type": "code",
   "execution_count": 26,
   "id": "0fee6bff",
   "metadata": {},
   "outputs": [
    {
     "name": "stdout",
     "output_type": "stream",
     "text": [
      "Test 2\n",
      "Test 4\n",
      "Test 6\n",
      "Test 8\n",
      "Test 10\n",
      "Test 12\n",
      "Test 14\n"
     ]
    }
   ],
   "source": [
    "weeks = 0\n",
    "while weeks < 15:\n",
    "    weeks += 1\n",
    "    if weeks % 2 == 1:\n",
    "        continue\n",
    "    print('Test %d' % weeks)"
   ]
  },
  {
   "cell_type": "code",
   "execution_count": 27,
   "id": "f603923c",
   "metadata": {},
   "outputs": [],
   "source": [
    "class_list = ['스페인어','프로그래밍','일본어']"
   ]
  },
  {
   "cell_type": "code",
   "execution_count": 28,
   "id": "a3646c83",
   "metadata": {},
   "outputs": [
    {
     "name": "stdout",
     "output_type": "stream",
     "text": [
      "스페인어\n",
      "프로그래밍\n",
      "일본어\n"
     ]
    }
   ],
   "source": [
    "for i in class_list:\n",
    "    print(i)"
   ]
  },
  {
   "cell_type": "code",
   "execution_count": 29,
   "id": "e03c1b23",
   "metadata": {},
   "outputs": [],
   "source": []
  },
  {
   "cell_type": "code",
   "execution_count": 36,
   "id": "63dea7f6",
   "metadata": {},
   "outputs": [
    {
     "name": "stdout",
     "output_type": "stream",
     "text": [
      "주형규 는 물리 를 가르친다\n",
      "이정수 는 프로그래밍 를 가르친다\n",
      "사라 오 는 스페인어 를 가르친다\n"
     ]
    }
   ],
   "source": [
    "A = [('주형규','물리'),('이정수','프로그래밍'),('사라 오', '스페인어')]\n",
    "\n",
    "for (professor,subject) in A:\n",
    "    print('%s 는 %s 를 가르친다' % (professor, subject))"
   ]
  },
  {
   "cell_type": "code",
   "execution_count": 39,
   "id": "d7763e12",
   "metadata": {},
   "outputs": [
    {
     "name": "stdout",
     "output_type": "stream",
     "text": [
      "나는 가비를 사랑한다\n",
      "나는 효은를 사랑한다\n"
     ]
    }
   ],
   "source": [
    "A = [('가비','사랑'),('효은','사랑')]\n",
    "for (friend,love) in A:\n",
    "    print('나는 %s를 %s한다' % (friend,love))"
   ]
  },
  {
   "cell_type": "code",
   "execution_count": 49,
   "id": "c890f76a",
   "metadata": {},
   "outputs": [
    {
     "data": {
      "text/plain": [
       "2"
      ]
     },
     "execution_count": 49,
     "metadata": {},
     "output_type": "execute_result"
    }
   ],
   "source": [
    "len(A)"
   ]
  },
  {
   "cell_type": "code",
   "execution_count": 50,
   "id": "830adebc",
   "metadata": {},
   "outputs": [],
   "source": [
    "for i in range(0):\n",
    "    print(A)"
   ]
  },
  {
   "cell_type": "code",
   "execution_count": 55,
   "id": "87814a0c",
   "metadata": {},
   "outputs": [],
   "source": [
    "my_class = ['지정기', '미적분', '프로그래밍', '과기글']"
   ]
  },
  {
   "cell_type": "code",
   "execution_count": 58,
   "id": "20126637",
   "metadata": {},
   "outputs": [
    {
     "name": "stdout",
     "output_type": "stream",
     "text": [
      "1 : 지정기\n",
      "2 : 미적분\n",
      "3 : 프로그래밍\n",
      "4 : 과기글\n"
     ]
    }
   ],
   "source": [
    "num = 1\n",
    "for i in my_class:\n",
    "    print(num, ':' ,i)\n",
    "    num += 1"
   ]
  },
  {
   "cell_type": "code",
   "execution_count": 67,
   "id": "1f84affa",
   "metadata": {},
   "outputs": [
    {
     "name": "stdout",
     "output_type": "stream",
     "text": [
      "1 : 지정기\n",
      "2 : 미적분\n",
      "3 : 프로그래밍\n",
      "4 : 과기글\n",
      " \n",
      "1 : 지정기\n",
      "2 : 미적분\n",
      "3 : 프로그래밍\n",
      "4 : 과기글\n"
     ]
    }
   ],
   "source": [
    "A = [(1, '지정기'), (2, '미적분'), (3, '프로그래밍'), (4, '과기글')]\n",
    "\n",
    "for a in A:\n",
    "    num1 = a[0]\n",
    "    num2 = a[1]\n",
    "    print(num1, ':' , num2)\n",
    "  \n",
    "print(' ')\n",
    "\n",
    "for (num1,num2) in A:\n",
    "    print(num1, ':' , num2)"
   ]
  },
  {
   "cell_type": "code",
   "execution_count": 68,
   "id": "3d33dcd0",
   "metadata": {},
   "outputs": [
    {
     "name": "stdout",
     "output_type": "stream",
     "text": [
      "민수 : 70\n",
      "소미 : 30\n",
      "공칠 : 80\n",
      "혜원 : 100\n"
     ]
    }
   ],
   "source": [
    "my_class = [('민수',70),('소미',30),('공칠',80),('혜원',100)]\n",
    "\n",
    "for (x,y) in my_class:\n",
    "    print(x, ':' , y)"
   ]
  },
  {
   "cell_type": "code",
   "execution_count": 71,
   "id": "ab470ab3",
   "metadata": {},
   "outputs": [
    {
     "name": "stdout",
     "output_type": "stream",
     "text": [
      "0 class: ('민수', 70)\n",
      "1 class: ('소미', 30)\n",
      "2 class: ('공칠', 80)\n",
      "3 class: ('혜원', 100)\n"
     ]
    }
   ],
   "source": [
    "for i, b in enumerate(my_class):\n",
    "    print('%d class: %s' % (i,b))"
   ]
  },
  {
   "cell_type": "code",
   "execution_count": 74,
   "id": "0a5c7aa4",
   "metadata": {},
   "outputs": [
    {
     "name": "stdout",
     "output_type": "stream",
     "text": [
      "Student 0: Pass\n",
      "Student 1: Fail\n",
      "Student 2: Pass\n",
      "Student 3: Pass\n"
     ]
    }
   ],
   "source": [
    "scores = [('민수',70),('소미',30),('공칠',80),('혜원',100)]\n",
    "\n",
    "for i, (name,score) in enumerate(scores):\n",
    "    if score >= 60:\n",
    "        print('Student %d: Pass' % i)\n",
    "    else:\n",
    "        print('Student %d: Fail' % i)"
   ]
  },
  {
   "cell_type": "code",
   "execution_count": 75,
   "id": "4acd0a95",
   "metadata": {},
   "outputs": [
    {
     "name": "stdout",
     "output_type": "stream",
     "text": [
      "1 : ('민수', 70)\n",
      "2 : ('소미', 30)\n",
      "3 : ('공칠', 80)\n",
      "4 : ('혜원', 100)\n"
     ]
    }
   ],
   "source": [
    "for i, score in enumerate(scores):\n",
    "    print(i+1, ':', score)"
   ]
  },
  {
   "cell_type": "code",
   "execution_count": 76,
   "id": "1caa71e4",
   "metadata": {},
   "outputs": [
    {
     "name": "stdout",
     "output_type": "stream",
     "text": [
      "(0, ('민수', 70))\n",
      "(1, ('소미', 30))\n",
      "(2, ('공칠', 80))\n",
      "(3, ('혜원', 100))\n"
     ]
    }
   ],
   "source": [
    "for data in enumerate(scores):\n",
    "    print(data)"
   ]
  },
  {
   "cell_type": "code",
   "execution_count": 85,
   "id": "27eef1c5",
   "metadata": {},
   "outputs": [
    {
     "name": "stdout",
     "output_type": "stream",
     "text": [
      "Studnet 0 : Pass\n",
      "Student 1: Fail\n",
      "Student 2: Fail\n",
      "Studnet 3 : Pass\n"
     ]
    }
   ],
   "source": [
    "# 점수가 60점 이상이면 합격, 아니면 불합격인 코드\n",
    "\n",
    "scores = [60,40,0,200]\n",
    "for i in range(len(scores)):\n",
    "    if scores[i] >= 60:\n",
    "        print('Studnet %d : Pass' % i)\n",
    "    else:\n",
    "        print('Student %d: Fail' % i)"
   ]
  },
  {
   "cell_type": "code",
   "execution_count": 90,
   "id": "a6d5f490",
   "metadata": {},
   "outputs": [
    {
     "name": "stdout",
     "output_type": "stream",
     "text": [
      "Student 0: Pass\n",
      "Student 3: Pass\n"
     ]
    }
   ],
   "source": [
    "scores = [60,40,0,200]\n",
    "for i in range(len(scores)):\n",
    "    if scores[i] < 60:\n",
    "        continue\n",
    "    print('Student %d: Pass' % i)"
   ]
  },
  {
   "cell_type": "code",
   "execution_count": 91,
   "id": "4a711a06",
   "metadata": {},
   "outputs": [
    {
     "name": "stdout",
     "output_type": "stream",
     "text": [
      "[0, 1, 2]\n"
     ]
    }
   ],
   "source": [
    "print(list(range(3)))"
   ]
  },
  {
   "cell_type": "code",
   "execution_count": 93,
   "id": "5cd35e4f",
   "metadata": {},
   "outputs": [
    {
     "name": "stdout",
     "output_type": "stream",
     "text": [
      "1\n",
      "2\n",
      "3\n"
     ]
    }
   ],
   "source": [
    "for i in range(0,3):\n",
    "    for j in range(1,2):\n",
    "        print(i+j)"
   ]
  },
  {
   "cell_type": "code",
   "execution_count": 97,
   "id": "c397e6b7",
   "metadata": {},
   "outputs": [
    {
     "name": "stdout",
     "output_type": "stream",
     "text": [
      "01 \n",
      "12 \n",
      "23 \n"
     ]
    }
   ],
   "source": [
    "for i in range(0,3):\n",
    "    for j in range(0,2):\n",
    "        print(i+j, end='')\n",
    "    print(' ')"
   ]
  },
  {
   "cell_type": "code",
   "execution_count": 100,
   "id": "0dc9f0b5",
   "metadata": {},
   "outputs": [
    {
     "name": "stdout",
     "output_type": "stream",
     "text": [
      "2\n",
      "4\n",
      "6\n",
      "8\n",
      "10\n",
      "[3]\n",
      "[3, 6]\n",
      "[3, 6, 9]\n",
      "[3, 6, 9, 12]\n",
      "[3, 6, 9, 12, 15]\n"
     ]
    }
   ],
   "source": [
    "# 집합 a에 5배 한 집합을 구해라.\n",
    "\n",
    "a = [1,2,3,4,5]\n",
    "for i in range(len(a)):\n",
    "    print(a[i] *2)\n",
    "   \n",
    "a = [1,2,3,4,5]\n",
    "b=[]\n",
    "for num in a:\n",
    "    b.append(num*3)\n",
    "    print(b)"
   ]
  },
  {
   "cell_type": "code",
   "execution_count": 101,
   "id": "e4e9e063",
   "metadata": {},
   "outputs": [],
   "source": [
    "a = ()\n",
    "b = (1,2,3)\n",
    "c = ('a','b',(1,2,3),[1,2])"
   ]
  },
  {
   "cell_type": "code",
   "execution_count": 102,
   "id": "1ac5e9a1",
   "metadata": {},
   "outputs": [
    {
     "data": {
      "text/plain": [
       "(1, 2, 3)"
      ]
     },
     "execution_count": 102,
     "metadata": {},
     "output_type": "execute_result"
    }
   ],
   "source": [
    "a+b"
   ]
  },
  {
   "cell_type": "code",
   "execution_count": 104,
   "id": "915fc838",
   "metadata": {},
   "outputs": [
    {
     "data": {
      "text/plain": [
       "1"
      ]
     },
     "execution_count": 104,
     "metadata": {},
     "output_type": "execute_result"
    }
   ],
   "source": [
    "c[2][0]"
   ]
  },
  {
   "cell_type": "code",
   "execution_count": 105,
   "id": "f4590731",
   "metadata": {},
   "outputs": [
    {
     "ename": "TypeError",
     "evalue": "'tuple' object does not support item assignment",
     "output_type": "error",
     "traceback": [
      "\u001b[1;31m---------------------------------------------------------------------------\u001b[0m",
      "\u001b[1;31mTypeError\u001b[0m                                 Traceback (most recent call last)",
      "Cell \u001b[1;32mIn[105], line 1\u001b[0m\n\u001b[1;32m----> 1\u001b[0m b[\u001b[38;5;241m0\u001b[39m] \u001b[38;5;241m=\u001b[39m \u001b[38;5;241m7\u001b[39m\n",
      "\u001b[1;31mTypeError\u001b[0m: 'tuple' object does not support item assignment"
     ]
    }
   ],
   "source": [
    "b[0] = 7"
   ]
  },
  {
   "cell_type": "code",
   "execution_count": 106,
   "id": "d501430d",
   "metadata": {},
   "outputs": [],
   "source": [
    "# for A in B\n",
    "# for A in range(len(B))\n",
    "# for a, b in enumerate(A)"
   ]
  },
  {
   "cell_type": "code",
   "execution_count": 107,
   "id": "33ac169d",
   "metadata": {},
   "outputs": [
    {
     "name": "stdout",
     "output_type": "stream",
     "text": [
      "1\n",
      "2\n",
      "3\n",
      "4\n",
      "5\n",
      "6\n",
      "7\n",
      "8\n",
      "9\n",
      "10\n",
      "11\n",
      "12\n",
      "13\n",
      "14\n",
      "15\n",
      "End\n"
     ]
    }
   ],
   "source": [
    "num_week = 0\n",
    "while num_week < 15:\n",
    "    num_week += 1\n",
    "    print(num_week)\n",
    "print('End')"
   ]
  },
  {
   "cell_type": "code",
   "execution_count": 108,
   "id": "52b34d3d",
   "metadata": {},
   "outputs": [
    {
     "name": "stdout",
     "output_type": "stream",
     "text": [
      "1\n",
      "2\n",
      "3\n",
      "4\n",
      "5\n",
      "6\n",
      "7\n",
      "8\n",
      "9\n",
      "10\n",
      "11\n",
      "12\n",
      "13\n",
      "14\n",
      "15\n",
      "End\n"
     ]
    }
   ],
   "source": [
    "num_week = 1\n",
    "while num_week <= 15:\n",
    "    print(num_week)\n",
    "    num_week += 1\n",
    "print('End')"
   ]
  },
  {
   "cell_type": "code",
   "execution_count": 113,
   "id": "efe3a121",
   "metadata": {},
   "outputs": [
    {
     "name": "stdout",
     "output_type": "stream",
     "text": [
      "2\n",
      "4\n",
      "6\n",
      "8\n",
      "10\n",
      "12\n",
      "14\n",
      "16\n"
     ]
    }
   ],
   "source": [
    "num_week = 1\n",
    "while True:\n",
    "    num_week += 1\n",
    "    if num_week % 2 == 1:\n",
    "        continue\n",
    "    print(num_week)\n",
    "    if num_week == 16:\n",
    "        break"
   ]
  },
  {
   "cell_type": "code",
   "execution_count": 114,
   "id": "4d988b4b",
   "metadata": {},
   "outputs": [
    {
     "data": {
      "text/plain": [
       "0"
      ]
     },
     "execution_count": 114,
     "metadata": {},
     "output_type": "execute_result"
    }
   ],
   "source": [
    "0%2"
   ]
  },
  {
   "cell_type": "code",
   "execution_count": 115,
   "id": "10ad4489",
   "metadata": {},
   "outputs": [
    {
     "data": {
      "text/plain": [
       "(0, 0)"
      ]
     },
     "execution_count": 115,
     "metadata": {},
     "output_type": "execute_result"
    }
   ],
   "source": [
    "divmod(0,2)"
   ]
  },
  {
   "cell_type": "code",
   "execution_count": 117,
   "id": "4da6a6b1",
   "metadata": {},
   "outputs": [
    {
     "name": "stdout",
     "output_type": "stream",
     "text": [
      "2\n",
      "4\n",
      "6\n",
      "8\n",
      "10\n",
      "12\n",
      "14\n",
      "End\n"
     ]
    }
   ],
   "source": [
    "num_week = 0\n",
    "while True:\n",
    "    num_week += 1\n",
    "    if num_week % 2 == 1:\n",
    "        continue\n",
    "    print(num_week)\n",
    "    if num_week > 13:\n",
    "        break\n",
    "print('End')"
   ]
  },
  {
   "cell_type": "code",
   "execution_count": 118,
   "id": "1a28cdbb",
   "metadata": {},
   "outputs": [
    {
     "name": "stdout",
     "output_type": "stream",
     "text": [
      "Smart Factory\n",
      "Applied Statistics\n",
      "Industrial\n"
     ]
    }
   ],
   "source": [
    "class_list = ['Smart Factory', 'Applied Statistics','Industrial']\n",
    "for class_name in class_list:\n",
    "    print(class_name)"
   ]
  },
  {
   "cell_type": "code",
   "execution_count": 120,
   "id": "5eff6115",
   "metadata": {},
   "outputs": [
    {
     "name": "stdout",
     "output_type": "stream",
     "text": [
      "Smart Factory\n",
      "Applied Statistics\n",
      "Industrial\n"
     ]
    }
   ],
   "source": [
    "n = len(class_list)\n",
    "i = 0\n",
    "while i< n:\n",
    "    print(class_list[i])\n",
    "    i += 1"
   ]
  },
  {
   "cell_type": "code",
   "execution_count": 123,
   "id": "c2c3d4a3",
   "metadata": {},
   "outputs": [
    {
     "name": "stdout",
     "output_type": "stream",
     "text": [
      "Smart Factory\n",
      "Applied Statistics\n",
      "Industrial\n"
     ]
    }
   ],
   "source": [
    "# 길이가 전체 길이보다 짧은 것만 내보내기\n",
    "n = len(class_list)\n",
    "i = 0\n",
    "while i<n:\n",
    "    print(class_list[i])\n",
    "    i += 1"
   ]
  },
  {
   "cell_type": "code",
   "execution_count": 124,
   "id": "bcd2c968",
   "metadata": {},
   "outputs": [
    {
     "name": "stdout",
     "output_type": "stream",
     "text": [
      "Smart Factory\n",
      "Applied Statistics\n",
      "Industrial\n"
     ]
    }
   ],
   "source": [
    "for a in class_list:\n",
    "    print(a)"
   ]
  },
  {
   "cell_type": "code",
   "execution_count": 125,
   "id": "17d9b182",
   "metadata": {},
   "outputs": [
    {
     "name": "stdout",
     "output_type": "stream",
     "text": [
      "Smart Factory\n",
      "Applied Statistics\n",
      "Industrial\n"
     ]
    }
   ],
   "source": [
    "for a in class_list:\n",
    "    print(a)"
   ]
  },
  {
   "cell_type": "code",
   "execution_count": 137,
   "id": "291b5c85",
   "metadata": {},
   "outputs": [
    {
     "name": "stdout",
     "output_type": "stream",
     "text": [
      "Pass\n",
      "Pass\n",
      "Pass\n",
      "Fail\n",
      "Pass\n"
     ]
    }
   ],
   "source": [
    "scores = {'철수':70,\n",
    "          '영희':55,\n",
    "          '민희':60,\n",
    "          '영수':45,\n",
    "          '영철':50,\n",
    "         }\n",
    "\n",
    "for score in scores.values():\n",
    "    if score >= 50:\n",
    "        print('Pass')\n",
    "    else:\n",
    "        print('Fail')"
   ]
  },
  {
   "cell_type": "code",
   "execution_count": 140,
   "id": "d9e29346",
   "metadata": {},
   "outputs": [
    {
     "ename": "TypeError",
     "evalue": "unhashable type: 'dict_keys'",
     "output_type": "error",
     "traceback": [
      "\u001b[1;31m---------------------------------------------------------------------------\u001b[0m",
      "\u001b[1;31mTypeError\u001b[0m                                 Traceback (most recent call last)",
      "Cell \u001b[1;32mIn[140], line 3\u001b[0m\n\u001b[0;32m      1\u001b[0m \u001b[38;5;28;01mfor\u001b[39;00m name, score \u001b[38;5;129;01min\u001b[39;00m scores:\n\u001b[0;32m      2\u001b[0m     name \u001b[38;5;241m=\u001b[39m scores\u001b[38;5;241m.\u001b[39mkeys()\n\u001b[1;32m----> 3\u001b[0m     \u001b[38;5;28;01mif\u001b[39;00m scores[name] \u001b[38;5;241m>\u001b[39m\u001b[38;5;241m=\u001b[39m \u001b[38;5;241m50\u001b[39m:\n\u001b[0;32m      4\u001b[0m         \u001b[38;5;28mprint\u001b[39m(name, \u001b[38;5;124m'\u001b[39m\u001b[38;5;124m:\u001b[39m\u001b[38;5;124m'\u001b[39m , \u001b[38;5;124m'\u001b[39m\u001b[38;5;124mPass\u001b[39m\u001b[38;5;124m'\u001b[39m)\n\u001b[0;32m      5\u001b[0m     \u001b[38;5;28;01melse\u001b[39;00m:\n",
      "\u001b[1;31mTypeError\u001b[0m: unhashable type: 'dict_keys'"
     ]
    }
   ],
   "source": [
    "for name, score in scores:\n",
    "    if score >= 50:\n",
    "        print(name, ':' , 'Pass')\n",
    "    else:\n",
    "        print(name, ':', 'Fail')"
   ]
  },
  {
   "cell_type": "code",
   "execution_count": 141,
   "id": "c19fabd1",
   "metadata": {},
   "outputs": [
    {
     "name": "stdout",
     "output_type": "stream",
     "text": [
      "철수 : Pass\n",
      "영희 : Pass\n",
      "민희 : Pass\n",
      "영수 : Fail\n",
      "영철 : Pass\n"
     ]
    }
   ],
   "source": [
    "scores = {'철수': 70, '영희': 55, '민희': 60, '영수': 45, '영철': 50}\n",
    "\n",
    "for name, score in scores.items():     # 딕셔너리 : a.keys(), a.values(),a.items()\n",
    "    if score >= 50:\n",
    "        print(name, ': Pass')\n",
    "    else:\n",
    "        print(name, ': Fail')\n",
    "    "
   ]
  },
  {
   "cell_type": "code",
   "execution_count": 161,
   "id": "16bfd4c6",
   "metadata": {},
   "outputs": [
    {
     "name": "stdout",
     "output_type": "stream",
     "text": [
      "20\n"
     ]
    },
    {
     "ename": "ZeroDivisionError",
     "evalue": "division by zero",
     "output_type": "error",
     "traceback": [
      "\u001b[1;31m---------------------------------------------------------------------------\u001b[0m",
      "\u001b[1;31mZeroDivisionError\u001b[0m                         Traceback (most recent call last)",
      "Cell \u001b[1;32mIn[161], line 7\u001b[0m\n\u001b[0;32m      4\u001b[0m \u001b[38;5;28;01mfor\u001b[39;00m num \u001b[38;5;129;01min\u001b[39;00m \u001b[38;5;28mrange\u001b[39m(\u001b[38;5;28mint\u001b[39m(\u001b[38;5;28minput\u001b[39m())):\n\u001b[0;32m      5\u001b[0m     total \u001b[38;5;241m+\u001b[39m\u001b[38;5;241m=\u001b[39m num\n\u001b[1;32m----> 7\u001b[0m average \u001b[38;5;241m=\u001b[39m total \u001b[38;5;241m/\u001b[39m \u001b[38;5;28mlen\u001b[39m(numbers)\n\u001b[0;32m      8\u001b[0m \u001b[38;5;28mprint\u001b[39m(average)\n",
      "\u001b[1;31mZeroDivisionError\u001b[0m: division by zero"
     ]
    }
   ],
   "source": [
    "numbers = []\n",
    "total = 0\n",
    "\n",
    "for i in range(int(input())):\n",
    "    total += num\n",
    "    \n",
    "average = total / len(numbers)\n",
    "print(average)"
   ]
  },
  {
   "cell_type": "code",
   "execution_count": null,
   "id": "852daf8a",
   "metadata": {},
   "outputs": [],
   "source": []
  }
 ],
 "metadata": {
  "kernelspec": {
   "display_name": "Python 3 (ipykernel)",
   "language": "python",
   "name": "python3"
  },
  "language_info": {
   "codemirror_mode": {
    "name": "ipython",
    "version": 3
   },
   "file_extension": ".py",
   "mimetype": "text/x-python",
   "name": "python",
   "nbconvert_exporter": "python",
   "pygments_lexer": "ipython3",
   "version": "3.11.4"
  }
 },
 "nbformat": 4,
 "nbformat_minor": 5
}
