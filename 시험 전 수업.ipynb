{
 "cells": [
  {
   "cell_type": "code",
   "execution_count": 1,
   "id": "8d9d7709",
   "metadata": {},
   "outputs": [],
   "source": [
    "def double(a):\n",
    "    return 2*a"
   ]
  },
  {
   "cell_type": "code",
   "execution_count": 4,
   "id": "927bfd5a",
   "metadata": {},
   "outputs": [
    {
     "name": "stdout",
     "output_type": "stream",
     "text": [
      "[2, 4, 6, 8, 10]\n"
     ]
    }
   ],
   "source": [
    "A = [1,2,3,4,5]\n",
    "B = []\n",
    "for a in A:\n",
    "    B.append(2*a)\n",
    "print(B)"
   ]
  },
  {
   "cell_type": "code",
   "execution_count": 10,
   "id": "9cfc5970",
   "metadata": {},
   "outputs": [
    {
     "name": "stdout",
     "output_type": "stream",
     "text": [
      "[2, 4, 6, 8, 10]\n",
      "[2, 4, 6, 8, 10]\n"
     ]
    }
   ],
   "source": [
    "A = [1,2,3,4,5]\n",
    "B = []\n",
    "for a in A:\n",
    "    B.append(double(a))\n",
    "print(B)\n",
    "\n",
    "B = [double(1),double(2),double(3),double(4),double(5)]\n",
    "print(B)"
   ]
  },
  {
   "cell_type": "code",
   "execution_count": 11,
   "id": "621b5239",
   "metadata": {},
   "outputs": [
    {
     "name": "stdout",
     "output_type": "stream",
     "text": [
      "[2, 4, 6, 8, 10]\n"
     ]
    }
   ],
   "source": [
    "B2 = list(map(double,A))\n",
    "print(B2)"
   ]
  },
  {
   "cell_type": "code",
   "execution_count": 12,
   "id": "9f6aa7fa",
   "metadata": {},
   "outputs": [
    {
     "data": {
      "text/plain": [
       "[2, 4, 6, 8, 10]"
      ]
     },
     "execution_count": 12,
     "metadata": {},
     "output_type": "execute_result"
    }
   ],
   "source": [
    "list(map(double,A))"
   ]
  },
  {
   "cell_type": "code",
   "execution_count": 13,
   "id": "3bb084f4",
   "metadata": {},
   "outputs": [
    {
     "data": {
      "text/plain": [
       "(2, 4, 6, 8, 10)"
      ]
     },
     "execution_count": 13,
     "metadata": {},
     "output_type": "execute_result"
    }
   ],
   "source": [
    "tuple(map(double,A))"
   ]
  },
  {
   "cell_type": "code",
   "execution_count": 14,
   "id": "940de1ca",
   "metadata": {},
   "outputs": [
    {
     "data": {
      "text/plain": [
       "[2, 4, 6, 8, 10]"
      ]
     },
     "execution_count": 14,
     "metadata": {},
     "output_type": "execute_result"
    }
   ],
   "source": [
    "def double(a):\n",
    "    return 2*a\n",
    "\n",
    "# ==\n",
    "\n",
    "list(map(lambda a:2*a,A))"
   ]
  },
  {
   "cell_type": "code",
   "execution_count": 15,
   "id": "d9e42cef",
   "metadata": {},
   "outputs": [
    {
     "data": {
      "text/plain": [
       "<function __main__.<lambda>(a)>"
      ]
     },
     "execution_count": 15,
     "metadata": {},
     "output_type": "execute_result"
    }
   ],
   "source": [
    "lambda a: 2*a"
   ]
  },
  {
   "cell_type": "code",
   "execution_count": 16,
   "id": "600a0074",
   "metadata": {},
   "outputs": [
    {
     "data": {
      "text/plain": [
       "2"
      ]
     },
     "execution_count": 16,
     "metadata": {},
     "output_type": "execute_result"
    }
   ],
   "source": [
    "(lambda a:2*a)(1)"
   ]
  },
  {
   "cell_type": "code",
   "execution_count": 17,
   "id": "7cb934a6",
   "metadata": {},
   "outputs": [
    {
     "data": {
      "text/plain": [
       "[2, 4, 6, 8, 10]"
      ]
     },
     "execution_count": 17,
     "metadata": {},
     "output_type": "execute_result"
    }
   ],
   "source": [
    "[2*a for a in A]"
   ]
  },
  {
   "cell_type": "code",
   "execution_count": 18,
   "id": "18d6528c",
   "metadata": {},
   "outputs": [
    {
     "data": {
      "text/plain": [
       "5"
      ]
     },
     "execution_count": 18,
     "metadata": {},
     "output_type": "execute_result"
    }
   ],
   "source": [
    "abs(-5)"
   ]
  },
  {
   "cell_type": "code",
   "execution_count": 20,
   "id": "abaca4af",
   "metadata": {},
   "outputs": [
    {
     "data": {
      "text/plain": [
       "5.0"
      ]
     },
     "execution_count": 20,
     "metadata": {},
     "output_type": "execute_result"
    }
   ],
   "source": [
    "abs(-5.0)"
   ]
  },
  {
   "cell_type": "code",
   "execution_count": 21,
   "id": "3b8d4a7d",
   "metadata": {},
   "outputs": [],
   "source": [
    "A = [True, True, True]\n",
    "B = [True, True, False]"
   ]
  },
  {
   "cell_type": "code",
   "execution_count": 22,
   "id": "326b94c9",
   "metadata": {},
   "outputs": [
    {
     "data": {
      "text/plain": [
       "(2, 1)"
      ]
     },
     "execution_count": 22,
     "metadata": {},
     "output_type": "execute_result"
    }
   ],
   "source": [
    "divmod(5,2)"
   ]
  },
  {
   "cell_type": "code",
   "execution_count": 23,
   "id": "749e2aee",
   "metadata": {},
   "outputs": [
    {
     "data": {
      "text/plain": [
       "'divmod(5,2)'"
      ]
     },
     "execution_count": 23,
     "metadata": {},
     "output_type": "execute_result"
    }
   ],
   "source": [
    "'divmod(5,2)'"
   ]
  },
  {
   "cell_type": "code",
   "execution_count": 24,
   "id": "a69770a1",
   "metadata": {},
   "outputs": [
    {
     "data": {
      "text/plain": [
       "(2, 1)"
      ]
     },
     "execution_count": 24,
     "metadata": {},
     "output_type": "execute_result"
    }
   ],
   "source": [
    "eval('divmod(5,2)')"
   ]
  },
  {
   "cell_type": "code",
   "execution_count": 28,
   "id": "37c14a6c",
   "metadata": {},
   "outputs": [
    {
     "name": "stdout",
     "output_type": "stream",
     "text": [
      "'1+5'\n"
     ]
    },
    {
     "data": {
      "text/plain": [
       "'1+5'"
      ]
     },
     "execution_count": 28,
     "metadata": {},
     "output_type": "execute_result"
    }
   ],
   "source": [
    "eval(input())"
   ]
  },
  {
   "cell_type": "code",
   "execution_count": 30,
   "id": "8618b140",
   "metadata": {},
   "outputs": [],
   "source": [
    "f = open('sample.txt','w')"
   ]
  },
  {
   "cell_type": "code",
   "execution_count": 31,
   "id": "5aab039e",
   "metadata": {},
   "outputs": [
    {
     "data": {
      "text/plain": [
       "<_io.TextIOWrapper name='sample.txt' mode='w' encoding='cp949'>"
      ]
     },
     "execution_count": 31,
     "metadata": {},
     "output_type": "execute_result"
    }
   ],
   "source": [
    "f"
   ]
  },
  {
   "cell_type": "code",
   "execution_count": 32,
   "id": "3113a277",
   "metadata": {},
   "outputs": [],
   "source": [
    "f.close()"
   ]
  },
  {
   "cell_type": "code",
   "execution_count": 36,
   "id": "7926d575",
   "metadata": {},
   "outputs": [],
   "source": [
    "f = open('sample.txt', 'w')\n",
    "f.write('Hello')\n",
    "f.close()"
   ]
  },
  {
   "cell_type": "code",
   "execution_count": 42,
   "id": "847dd175",
   "metadata": {},
   "outputs": [],
   "source": [
    "f = open('sample.txt', 'w')\n",
    "for i in range(10):\n",
    "    f.write('Line%s\\n'% i)\n",
    "f.close()          # Hello 사라짐.(이전꺼)"
   ]
  },
  {
   "cell_type": "code",
   "execution_count": 43,
   "id": "6ed93521",
   "metadata": {},
   "outputs": [],
   "source": [
    "f = open('sample.txt','a')  # 이전꺼 지우기 싫고 이어지게 하려면\n",
    "for i in range(10,20):\n",
    "    f.write('Line%s\\n' % i)\n",
    "f.close()"
   ]
  },
  {
   "cell_type": "code",
   "execution_count": 44,
   "id": "49611fba",
   "metadata": {},
   "outputs": [],
   "source": [
    "f = open('sample.txt', 'r')\n",
    "A = f.readlines()\n",
    "f.close()"
   ]
  },
  {
   "cell_type": "code",
   "execution_count": 48,
   "id": "134047f6",
   "metadata": {},
   "outputs": [
    {
     "data": {
      "text/plain": [
       "'Line0'"
      ]
     },
     "execution_count": 48,
     "metadata": {},
     "output_type": "execute_result"
    }
   ],
   "source": [
    "A[0].strip()"
   ]
  },
  {
   "cell_type": "code",
   "execution_count": 49,
   "id": "8358abbe",
   "metadata": {},
   "outputs": [
    {
     "data": {
      "text/plain": [
       "'i'"
      ]
     },
     "execution_count": 49,
     "metadata": {},
     "output_type": "execute_result"
    }
   ],
   "source": [
    "A[0][1]"
   ]
  },
  {
   "cell_type": "code",
   "execution_count": 50,
   "id": "d809f453",
   "metadata": {},
   "outputs": [],
   "source": [
    "# class\n",
    "number = 1"
   ]
  },
  {
   "cell_type": "code",
   "execution_count": 1,
   "id": "828a7260",
   "metadata": {},
   "outputs": [
    {
     "data": {
      "text/plain": [
       "-3"
      ]
     },
     "execution_count": 1,
     "metadata": {},
     "output_type": "execute_result"
    }
   ],
   "source": [
    "# +,-\n",
    "def add(a,b):\n",
    "    return a+b\n",
    "def subs(a,b):\n",
    "    return a-b\n",
    "\n",
    "number = 0\n",
    "number = add(number, 2)\n",
    "number = subs(number,5)\n",
    "number"
   ]
  },
  {
   "cell_type": "code",
   "execution_count": 73,
   "id": "9aa21880",
   "metadata": {},
   "outputs": [],
   "source": [
    "class Calculator:\n",
    "    pass\n",
    "cal = Calculator()"
   ]
  },
  {
   "cell_type": "code",
   "execution_count": 75,
   "id": "0865c27e",
   "metadata": {},
   "outputs": [
    {
     "name": "stdout",
     "output_type": "stream",
     "text": [
      "Hello\n"
     ]
    }
   ],
   "source": [
    "class Calculator:\n",
    "    def __init__(self,name):\n",
    "        print('Hello')\n",
    "        self.name = name\n",
    "        \n",
    "cal = Calculator('Smart Factory')"
   ]
  },
  {
   "cell_type": "code",
   "execution_count": 2,
   "id": "89455437",
   "metadata": {},
   "outputs": [
    {
     "name": "stdout",
     "output_type": "stream",
     "text": [
      "Hello\n"
     ]
    }
   ],
   "source": [
    "class Calculator:\n",
    "    def __init__(self,a,b):\n",
    "        print('Hello')\n",
    "        self.name = a   # 얜 달라도 됨\n",
    "        self.grade = b\n",
    "        \n",
    "cal1 = Calculator('Smart Factory',1)"
   ]
  },
  {
   "cell_type": "code",
   "execution_count": 86,
   "id": "c63afb67",
   "metadata": {},
   "outputs": [
    {
     "data": {
      "text/plain": [
       "'Smart Factory'"
      ]
     },
     "execution_count": 86,
     "metadata": {},
     "output_type": "execute_result"
    }
   ],
   "source": [
    "cal1.name"
   ]
  },
  {
   "cell_type": "code",
   "execution_count": 87,
   "id": "d0242b8a",
   "metadata": {},
   "outputs": [
    {
     "data": {
      "text/plain": [
       "1"
      ]
     },
     "execution_count": 87,
     "metadata": {},
     "output_type": "execute_result"
    }
   ],
   "source": [
    "cal1.grade"
   ]
  },
  {
   "cell_type": "code",
   "execution_count": 1,
   "id": "9bb61d86",
   "metadata": {},
   "outputs": [],
   "source": [
    "# 삼각형\n",
    "import numpy as np\n",
    "direction = np.random.choice((-1,2))\n",
    "move_L = np.random.uniform(0,0.1)      # 이런 건 주어질 것."
   ]
  },
  {
   "cell_type": "code",
   "execution_count": 2,
   "id": "fb06f59a",
   "metadata": {},
   "outputs": [],
   "source": [
    "X = 0.01"
   ]
  },
  {
   "cell_type": "code",
   "execution_count": 3,
   "id": "a52a460a",
   "metadata": {},
   "outputs": [],
   "source": [
    "X += direction * move_L      # 어느 위치에 있는지에 대한 코드 작성하시오"
   ]
  },
  {
   "cell_type": "code",
   "execution_count": 4,
   "id": "b65ba7ec",
   "metadata": {},
   "outputs": [
    {
     "data": {
      "text/plain": [
       "0.1609086137016597"
      ]
     },
     "execution_count": 4,
     "metadata": {},
     "output_type": "execute_result"
    }
   ],
   "source": [
    "X "
   ]
  },
  {
   "cell_type": "code",
   "execution_count": 6,
   "id": "6ad9be92",
   "metadata": {},
   "outputs": [
    {
     "name": "stdout",
     "output_type": "stream",
     "text": [
      "Not End\n"
     ]
    }
   ],
   "source": [
    "if X<0:\n",
    "    print('End')\n",
    "elif X>1:\n",
    "    print('ENd')\n",
    "else:\n",
    "    print('Not End')"
   ]
  },
  {
   "cell_type": "code",
   "execution_count": 9,
   "id": "d9de3812",
   "metadata": {},
   "outputs": [
    {
     "name": "stdout",
     "output_type": "stream",
     "text": [
      "0.05337105766408615\n"
     ]
    }
   ],
   "source": [
    "# 레비 플라이트 answer    # 한 스텝마다 해야할 것들을 줄 글로 주고 그거 모아 놓으면 문제 풀리게~ 이런 식으로 나옴\n",
    "X = 0.01\n",
    "total_distance = 0\n",
    "\n",
    "N_trials = 1000\n",
    "\n",
    "for i in range(N_trials):\n",
    "    Done = False\n",
    "    while not Done:\n",
    "        direction = np.random.choice((-1,2))\n",
    "        move_L = np.random.uniform(0,0.1)\n",
    "    \n",
    "        total_distance += move_L\n",
    "        X += direction*move_L\n",
    "    \n",
    "        if X<0:\n",
    "            Done =True\n",
    "        elif X>1:\n",
    "            Done = True\n",
    "        else:\n",
    "            pass\n",
    "print(total_distance/N_trials)"
   ]
  },
  {
   "cell_type": "code",
   "execution_count": null,
   "id": "fae18607",
   "metadata": {},
   "outputs": [],
   "source": [
    "# 2번 문제\n",
    "def uniform_distribution(low_limit = 0., upper_limit=0.1):\n",
    "    direction = np.random.choice((-1,2))\n",
    "    move_L = np.random.uniform(0,0.1)\n",
    "    return direction,move_L"
   ]
  },
  {
   "cell_type": "code",
   "execution_count": null,
   "id": "4f0b0b22",
   "metadata": {},
   "outputs": [],
   "source": [
    "X = 0.01\n",
    "total_distance = 0\n",
    "\n",
    "N_trials = 1000\n",
    "\n",
    "for i in range(N_trials):\n",
    "    Done = False\n",
    "    while not Done:\n",
    "        direction,move_L = uniform_step()\n",
    "    \n",
    "        X += direction*move_L\n",
    "        Trial += 1\n",
    "        distance += move_L\n",
    "    \n",
    "        if X<0:\n",
    "            Done =True\n",
    "        elif X>1:\n",
    "            Done = True\n",
    "        else:\n",
    "            pass\n",
    "print(total_distance/N_trials)"
   ]
  },
  {
   "cell_type": "code",
   "execution_count": null,
   "id": "6e7e1f61",
   "metadata": {},
   "outputs": [],
   "source": [
    "class moving_agent:\n",
    "    def __init__(self, initial=0.01):\n",
    "        self.X = initial\n",
    "        self.distance = 0\n",
    "        self.Trial = 0\n",
    "    def stepplng(self):\n",
    "        direction, move_L = uniform_distribution()\n",
    "        self.X"
   ]
  },
  {
   "cell_type": "code",
   "execution_count": null,
   "id": "eb4c239d",
   "metadata": {},
   "outputs": [],
   "source": [
    "X = 0.01\n",
    "total_distance = 0\n",
    "N_trials = 1000\n",
    "for i in range(N_trials):\n",
    "    agent = moving_agent()\n",
    "    Done = False\n",
    "    while not Done:\n",
    "        agent.stepping()\n",
    "        if agent.X<0:\n",
    "            Done = True\n",
    "            Distance_set.append(agent.Distance + agent.X)\n",
    "            Trial_set.append(agent.Trial)\n",
    "        elif agent.X>1:\n",
    "            Done = True\n",
    "            Distance_set.append(agent.distance - agent.X + 1)\n",
    "            Trial_set.append(agent.Trial)\n",
    "        else:\n",
    "            pass\n",
    "print(total_distance/N_trials)"
   ]
  }
 ],
 "metadata": {
  "kernelspec": {
   "display_name": "Python 3 (ipykernel)",
   "language": "python",
   "name": "python3"
  },
  "language_info": {
   "codemirror_mode": {
    "name": "ipython",
    "version": 3
   },
   "file_extension": ".py",
   "mimetype": "text/x-python",
   "name": "python",
   "nbconvert_exporter": "python",
   "pygments_lexer": "ipython3",
   "version": "3.11.4"
  }
 },
 "nbformat": 4,
 "nbformat_minor": 5
}
