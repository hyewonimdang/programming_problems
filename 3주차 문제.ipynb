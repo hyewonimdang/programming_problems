{
 "cells": [
  {
   "cell_type": "code",
   "execution_count": 17,
   "id": "fa3d701d",
   "metadata": {},
   "outputs": [
    {
     "name": "stdout",
     "output_type": "stream",
     "text": [
      "5\n",
      "3\n",
      "4\n",
      "3\n"
     ]
    },
    {
     "data": {
      "text/plain": [
       "1.0"
      ]
     },
     "execution_count": 17,
     "metadata": {},
     "output_type": "execute_result"
    }
   ],
   "source": [
    "#1\n",
    "x1 = float(input())\n",
    "y1 = float(input())\n",
    "x2 = float(input())\n",
    "y2 = float(input())\n",
    "float(((x2-x1)**2 - (y2-y1)**2)**0.5)"
   ]
  },
  {
   "cell_type": "code",
   "execution_count": 3,
   "id": "ee13eaa9",
   "metadata": {},
   "outputs": [],
   "source": [
    "#2\n",
    "import random\n",
    "win_one = random.randint(1,9)\n",
    "win_two = random.randint(1,9)\n",
    "\n",
    "def lucky(one, two):\n",
    "    if one == win_one and two == win_two:\n",
    "        money = 1000000\n",
    "    elif one == win_one and two != win_two:\n",
    "        money = 500000\n",
    "    elif one != win_one and two == win_two:\n",
    "        money = 500000\n",
    "    elif one != win_one and two != win_two:\n",
    "        money = 0\n",
    "    return money"
   ]
  },
  {
   "cell_type": "code",
   "execution_count": 7,
   "id": "57a459a5",
   "metadata": {},
   "outputs": [
    {
     "data": {
      "text/plain": [
       "0"
      ]
     },
     "execution_count": 7,
     "metadata": {},
     "output_type": "execute_result"
    }
   ],
   "source": [
    "lucky(5,5)"
   ]
  },
  {
   "cell_type": "code",
   "execution_count": 16,
   "id": "8c44ac0a",
   "metadata": {},
   "outputs": [],
   "source": [
    "#3\n",
    "def add(number):\n",
    "    add_ = 0\n",
    "    initial = 2\n",
    "    \n",
    "    while initial < number:\n",
    "        add_m = all(initial % i != 0 for i in range(2,int(initial**0.5)+1))\n",
    "        if add_:\n",
    "            \n",
    "    add = True\n",
    "    while i < number:\n",
    "        if number % i == 0:\n",
    "            add = False\n",
    "    if add:\n",
    "        \n",
    "    return add"
   ]
  },
  {
   "cell_type": "code",
   "execution_count": 17,
   "id": "a504b18b",
   "metadata": {},
   "outputs": [
    {
     "data": {
      "text/plain": [
       "1"
      ]
     },
     "execution_count": 17,
     "metadata": {},
     "output_type": "execute_result"
    }
   ],
   "source": [
    "function(21)"
   ]
  },
  {
   "cell_type": "code",
   "execution_count": 20,
   "id": "db89a320",
   "metadata": {},
   "outputs": [
    {
     "name": "stdout",
     "output_type": "stream",
     "text": [
      "숫자를 입력하세요: 3\n",
      "3보다 작은 소수의 합: 2\n"
     ]
    }
   ],
   "source": [
    "#3\n",
    "def get_prime_sum(limit):\n",
    "    prime_sum = 0\n",
    "    current_number = 2\n",
    "\n",
    "    while current_number < limit:\n",
    "        is_prime = all(current_number % i != 0 for i in range(2, int(current_number**0.5) + 1))\n",
    "        if is_prime:\n",
    "            prime_sum += current_number\n",
    "        current_number += 1\n",
    "\n",
    "    return prime_sum\n",
    "\n",
    "user_limit = int(input(\"숫자를 입력하세요: \"))\n",
    "result = get_prime_sum(user_limit)\n",
    "print(f\"{user_limit}보다 작은 소수의 합: {result}\")"
   ]
  },
  {
   "cell_type": "code",
   "execution_count": 38,
   "id": "2d0508bc",
   "metadata": {},
   "outputs": [],
   "source": [
    "#4-1\n",
    "import random\n",
    "move = random.choice((1,-1))\n",
    "\n",
    "def minsu_location(N):\n",
    "    location = 0\n",
    "    for i in range(N):\n",
    "        location += move\n",
    "    return location"
   ]
  },
  {
   "cell_type": "code",
   "execution_count": 39,
   "id": "c7f4b668",
   "metadata": {},
   "outputs": [
    {
     "data": {
      "text/plain": [
       "50"
      ]
     },
     "execution_count": 39,
     "metadata": {},
     "output_type": "execute_result"
    }
   ],
   "source": [
    "minsu_location(50)"
   ]
  },
  {
   "cell_type": "code",
   "execution_count": 42,
   "id": "b09ece55",
   "metadata": {},
   "outputs": [],
   "source": [
    "def one_game(N):\n",
    "    final_position = minsu_location(50)\n",
    "    return final_position\n",
    "        "
   ]
  },
  {
   "cell_type": "code",
   "execution_count": 43,
   "id": "3b572dc1",
   "metadata": {},
   "outputs": [
    {
     "data": {
      "text/plain": [
       "50"
      ]
     },
     "execution_count": 43,
     "metadata": {},
     "output_type": "execute_result"
    }
   ],
   "source": [
    "one_game(100)"
   ]
  },
  {
   "cell_type": "code",
   "execution_count": 44,
   "id": "70f87663",
   "metadata": {},
   "outputs": [
    {
     "name": "stdout",
     "output_type": "stream",
     "text": [
      "100번의 게임 평균 위치: -0.0916\n",
      "100번의 게임 분산: 50.418809439993666\n"
     ]
    }
   ],
   "source": [
    "import random\n",
    "\n",
    "def throw_coin():\n",
    "    return random.choice((-1, 1))\n",
    "\n",
    "def play_game(N):\n",
    "    position_history = []\n",
    "\n",
    "    for _ in range(100):\n",
    "        position = 0\n",
    "\n",
    "        for _ in range(N):\n",
    "            move = throw_coin()\n",
    "            position += move\n",
    "\n",
    "        position_history.append(position)\n",
    "\n",
    "    return position_history\n",
    "\n",
    "def calculate_statistics(positions):\n",
    "    average_position = sum(positions) / len(positions)\n",
    "    variance = sum((pos - average_position) ** 2 for pos in positions) / len(positions)\n",
    "    return average_position, variance\n",
    "\n",
    "# 게임을 100번 반복하며 최종 위치 기록\n",
    "game_results = []\n",
    "for _ in range(100):\n",
    "    final_positions = play_game(50)\n",
    "    game_results.extend(final_positions)\n",
    "\n",
    "# 평균과 분산 계산\n",
    "average, variance = calculate_statistics(game_results)\n",
    "\n",
    "print(f\"100번의 게임 평균 위치: {average}\")\n",
    "print(f\"100번의 게임 분산: {variance}\")"
   ]
  },
  {
   "cell_type": "code",
   "execution_count": 45,
   "id": "a8bec197",
   "metadata": {},
   "outputs": [
    {
     "name": "stdout",
     "output_type": "stream",
     "text": [
      "100번의 게임 평균 위치: 20.0176\n",
      "100번의 게임 분산: 42.28129023999973\n"
     ]
    }
   ],
   "source": [
    "import random\n",
    "\n",
    "def throw_coin():\n",
    "    outcomes = ['앞면', '뒷면']\n",
    "    probabilities = [0.7, 0.3]\n",
    "    result = random.choices(outcomes, weights=probabilities, k=1)\n",
    "    return 1 if result[0] == '앞면' else -1\n",
    "\n",
    "def play_game(N):\n",
    "    position_history = []\n",
    "\n",
    "    for _ in range(100):\n",
    "        position = 0\n",
    "\n",
    "        for _ in range(N):\n",
    "            move = throw_coin()\n",
    "            position += move\n",
    "\n",
    "        position_history.append(position)\n",
    "\n",
    "    return position_history\n",
    "\n",
    "def calculate_statistics(positions):\n",
    "    average_position = sum(positions) / len(positions)\n",
    "    variance = sum((pos - average_position) ** 2 for pos in positions) / len(positions)\n",
    "    return average_position, variance\n",
    "\n",
    "# 게임을 100번 반복하며 최종 위치 기록\n",
    "game_results = []\n",
    "for _ in range(100):\n",
    "    final_positions = play_game(50)\n",
    "    game_results.extend(final_positions)\n",
    "\n",
    "# 평균과 분산 계산\n",
    "average, variance = calculate_statistics(game_results)\n",
    "\n",
    "print(f\"100번의 게임 평균 위치: {average}\")\n",
    "print(f\"100번의 게임 분산: {variance}\")"
   ]
  },
  {
   "cell_type": "code",
   "execution_count": null,
   "id": "514b9a4a",
   "metadata": {},
   "outputs": [],
   "source": []
  }
 ],
 "metadata": {
  "kernelspec": {
   "display_name": "Python 3 (ipykernel)",
   "language": "python",
   "name": "python3"
  },
  "language_info": {
   "codemirror_mode": {
    "name": "ipython",
    "version": 3
   },
   "file_extension": ".py",
   "mimetype": "text/x-python",
   "name": "python",
   "nbconvert_exporter": "python",
   "pygments_lexer": "ipython3",
   "version": "3.11.4"
  }
 },
 "nbformat": 4,
 "nbformat_minor": 5
}
