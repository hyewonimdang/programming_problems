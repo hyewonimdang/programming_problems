{
 "cells": [
  {
   "cell_type": "code",
   "execution_count": 17,
   "id": "fa3d701d",
   "metadata": {},
   "outputs": [
    {
     "name": "stdout",
     "output_type": "stream",
     "text": [
      "5\n",
      "3\n",
      "4\n",
      "3\n"
     ]
    },
    {
     "data": {
      "text/plain": [
       "1.0"
      ]
     },
     "execution_count": 17,
     "metadata": {},
     "output_type": "execute_result"
    }
   ],
   "source": [
    "#1\n",
    "x1 = float(input())\n",
    "y1 = float(input())\n",
    "x2 = float(input())\n",
    "y2 = float(input())\n",
    "float(((x2-x1)**2 - (y2-y1)**2)**0.5)"
   ]
  },
  {
   "cell_type": "code",
   "execution_count": null,
   "id": "ee13eaa9",
   "metadata": {},
   "outputs": [],
   "source": [
    "#2\n",
    "import random\n",
    "win_one = random.randint((1,9))\n",
    "win_two = random.randint((1,9))\n",
    "\n",
    "def lucky(one, two):\n",
    "    if one == win_one or two == win_two:\n",
    "        "
   ]
  },
  {
   "cell_type": "code",
   "execution_count": 16,
   "id": "8c44ac0a",
   "metadata": {},
   "outputs": [],
   "source": [
    "#3\n",
    "def add(number):\n",
    "    add_ = 0\n",
    "    initial = 2\n",
    "    \n",
    "    while initial < number:\n",
    "        add_m = all(initial % i != 0 for i in range(2,int(initial**0.5)+1))\n",
    "        if add_:\n",
    "            \n",
    "    add = True\n",
    "    while i < number:\n",
    "        if number % i == 0:\n",
    "            add = False\n",
    "    if add:\n",
    "        \n",
    "    return add"
   ]
  },
  {
   "cell_type": "code",
   "execution_count": 17,
   "id": "a504b18b",
   "metadata": {},
   "outputs": [
    {
     "data": {
      "text/plain": [
       "1"
      ]
     },
     "execution_count": 17,
     "metadata": {},
     "output_type": "execute_result"
    }
   ],
   "source": [
    "function(21)"
   ]
  },
  {
   "cell_type": "code",
   "execution_count": 20,
   "id": "db89a320",
   "metadata": {},
   "outputs": [
    {
     "name": "stdout",
     "output_type": "stream",
     "text": [
      "숫자를 입력하세요: 3\n",
      "3보다 작은 소수의 합: 2\n"
     ]
    }
   ],
   "source": [
    "def get_prime_sum(limit):\n",
    "    prime_sum = 0\n",
    "    current_number = 2\n",
    "\n",
    "    while current_number < limit:\n",
    "        is_prime = all(current_number % i != 0 for i in range(2, int(current_number**0.5) + 1))\n",
    "        if is_prime:\n",
    "            prime_sum += current_number\n",
    "        current_number += 1\n",
    "\n",
    "    return prime_sum\n",
    "\n",
    "user_limit = int(input(\"숫자를 입력하세요: \"))\n",
    "result = get_prime_sum(user_limit)\n",
    "print(f\"{user_limit}보다 작은 소수의 합: {result}\")"
   ]
  },
  {
   "cell_type": "code",
   "execution_count": null,
   "id": "2d0508bc",
   "metadata": {},
   "outputs": [],
   "source": [
    "#4\n",
    "import random\n",
    "random.choice((1,-1))"
   ]
  }
 ],
 "metadata": {
  "kernelspec": {
   "display_name": "Python 3 (ipykernel)",
   "language": "python",
   "name": "python3"
  },
  "language_info": {
   "codemirror_mode": {
    "name": "ipython",
    "version": 3
   },
   "file_extension": ".py",
   "mimetype": "text/x-python",
   "name": "python",
   "nbconvert_exporter": "python",
   "pygments_lexer": "ipython3",
   "version": "3.11.4"
  }
 },
 "nbformat": 4,
 "nbformat_minor": 5
}
