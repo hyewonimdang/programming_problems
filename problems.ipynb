{
 "cells": [
  {
   "cell_type": "code",
   "execution_count": 6,
   "id": "acd0a20a",
   "metadata": {},
   "outputs": [
    {
     "name": "stdout",
     "output_type": "stream",
     "text": [
      "-4\n"
     ]
    }
   ],
   "source": [
    "import random\n",
    "position = 0\n",
    "num_iterations = 10\n",
    "\n",
    "for i in range(num_iterations):\n",
    "    movement = random.choice((1,-1))\n",
    "    position += movement\n",
    "        \n",
    "print(position)"
   ]
  },
  {
   "cell_type": "code",
   "execution_count": 8,
   "id": "c00b224a",
   "metadata": {},
   "outputs": [
    {
     "name": "stdout",
     "output_type": "stream",
     "text": [
      "5\n",
      "-1\n"
     ]
    }
   ],
   "source": [
    "import random\n",
    "\n",
    "def toss_coin():\n",
    "    result = random.choice((1,-1))\n",
    "    return result\n",
    "\n",
    "def location(N):\n",
    "    position = 0\n",
    "    \n",
    "    for i in range(N):\n",
    "        move = toss_coin()\n",
    "        position += move\n",
    "        \n",
    "    return position\n",
    "\n",
    "N = int(input())\n",
    "print(location(N))"
   ]
  },
  {
   "cell_type": "code",
   "execution_count": 9,
   "id": "a9e04f95",
   "metadata": {},
   "outputs": [
    {
     "name": "stdout",
     "output_type": "stream",
     "text": [
      "동전을 던진 횟수 N을 입력하세요: 5\n",
      "민수의 현재 위치: 1\n"
     ]
    }
   ],
   "source": [
    "def toss_coin():\n",
    "    # 랜덤하게 0 또는 1을 선택하여 앞면(1) 또는 뒷면(-1)을 반환\n",
    "    result = random.choice([1, -1])\n",
    "    return result\n",
    "\n",
    "def minsoo_location(N):\n",
    "    position = 0  # 민수의 시작 위치\n",
    "\n",
    "    for _ in range(N):\n",
    "        move = toss_coin()  # 동전 던지기 결과\n",
    "        position += move  # 위치 업데이트\n",
    "\n",
    "    return position\n",
    "\n",
    "# 동전을 던진 횟수 N을 입력 받아 민수의 위치 출력\n",
    "N = int(input(\"동전을 던진 횟수 N을 입력하세요: \"))\n",
    "current_location = minsoo_location(N)\n",
    "print(\"민수의 현재 위치:\", current_location)"
   ]
  },
  {
   "cell_type": "code",
   "execution_count": 14,
   "id": "19cab7b2",
   "metadata": {},
   "outputs": [
    {
     "name": "stdout",
     "output_type": "stream",
     "text": [
      "동전 던진 횟수: 3\n",
      "위치: -3\n"
     ]
    }
   ],
   "source": [
    "import random\n",
    "random.choice((1,-1))\n",
    "\n",
    "def toss_coin():\n",
    "    result = random.choice((1,-1))\n",
    "    return result\n",
    "\n",
    "def location(N):\n",
    "    position = 0\n",
    "    \n",
    "    for i in range(N):\n",
    "        move = toss_coin()\n",
    "        position += move\n",
    "        \n",
    "    return position\n",
    "\n",
    "N = int(input('동전 던진 횟수: '))\n",
    "print(\"위치:\", location(N))"
   ]
  },
  {
   "cell_type": "code",
   "execution_count": 33,
   "id": "a91221cc",
   "metadata": {},
   "outputs": [],
   "source": [
    "import random\n",
    "random.choice((1,-1))\n",
    "\n",
    "def toss_coin():\n",
    "    result = random.choice((1,-1))\n",
    "    return result\n",
    "\n",
    "def one_game(N):\n",
    "    position = 0\n",
    "\n",
    "    for i in range(N):\n",
    "        move = toss_coin()\n",
    "        position += move\n",
    "        \n",
    "    return position\n",
    "\n",
    "def games(N):\n",
    "    N = 50\n",
    "    result2 = one_game(N) * 100\n",
    "    return result2\n",
    "\n",
    "    total = 0\n",
    "    total += result2\n",
    "\n",
    "    avarage = total / 100\n",
    "    print(avarage)"
   ]
  },
  {
   "cell_type": "code",
   "execution_count": null,
   "id": "51b9de63",
   "metadata": {},
   "outputs": [],
   "source": []
  }
 ],
 "metadata": {
  "kernelspec": {
   "display_name": "Python 3 (ipykernel)",
   "language": "python",
   "name": "python3"
  },
  "language_info": {
   "codemirror_mode": {
    "name": "ipython",
    "version": 3
   },
   "file_extension": ".py",
   "mimetype": "text/x-python",
   "name": "python",
   "nbconvert_exporter": "python",
   "pygments_lexer": "ipython3",
   "version": "3.11.4"
  }
 },
 "nbformat": 4,
 "nbformat_minor": 5
}
