{
 "cells": [
  {
   "cell_type": "code",
   "execution_count": 5,
   "id": "3ae9ed65",
   "metadata": {},
   "outputs": [],
   "source": [
    "class Calculator:\n",
    "    def __init__(self,a):\n",
    "        print('Hello')\n",
    "        self.name = a\n",
    "    def call(self):\n",
    "        print('Smart Factory')"
   ]
  },
  {
   "cell_type": "code",
   "execution_count": 9,
   "id": "42f3067f",
   "metadata": {},
   "outputs": [
    {
     "name": "stdout",
     "output_type": "stream",
     "text": [
      "Hello\n"
     ]
    }
   ],
   "source": [
    "cal1 = Calculator('Python')"
   ]
  },
  {
   "cell_type": "code",
   "execution_count": 10,
   "id": "cd3a1e78",
   "metadata": {},
   "outputs": [
    {
     "data": {
      "text/plain": [
       "'Python'"
      ]
     },
     "execution_count": 10,
     "metadata": {},
     "output_type": "execute_result"
    }
   ],
   "source": [
    "cal1.name"
   ]
  },
  {
   "cell_type": "code",
   "execution_count": 11,
   "id": "e1162b55",
   "metadata": {},
   "outputs": [],
   "source": [
    "cal1.name = 'Smart'"
   ]
  },
  {
   "cell_type": "code",
   "execution_count": 12,
   "id": "40eb07ab",
   "metadata": {},
   "outputs": [
    {
     "data": {
      "text/plain": [
       "'Smart'"
      ]
     },
     "execution_count": 12,
     "metadata": {},
     "output_type": "execute_result"
    }
   ],
   "source": [
    "cal1.name"
   ]
  },
  {
   "cell_type": "code",
   "execution_count": 21,
   "id": "cb966bb6",
   "metadata": {},
   "outputs": [],
   "source": [
    "class Calculator:\n",
    "    def __init__(self,number):\n",
    "        self.number = number\n",
    "        print('Current number is %s' % self.number)\n",
    "    def add(self, value):\n",
    "        self.number += value\n",
    "        print('Current number is %s' % self.number)\n",
    "    def subs(self, value):\n",
    "        self.number -= value\n",
    "        print('Current number is %s' % self.number)\n",
    "    def multiply(self, value):\n",
    "        self.number  *= value\n",
    "        print('Current number is %s' % self.number)\n",
    "    def divide(self, value):\n",
    "        self.number /= value\n",
    "        print('Current number is %s' % self.number)\n",
    "    def reset(self, number = 0):\n",
    "        self.number = number\n",
    "        print('Current number is %s' % self.number)"
   ]
  },
  {
   "cell_type": "code",
   "execution_count": 14,
   "id": "170563e0",
   "metadata": {},
   "outputs": [],
   "source": [
    "#계산기\n",
    "class Calculator:\n",
    "    def __init__(self,number=0):\n",
    "        self.number = number\n",
    "        print(self.number)\n",
    "    def add(self, value):\n",
    "        self.number += value\n",
    "        print(self.number)"
   ]
  },
  {
   "cell_type": "code",
   "execution_count": 15,
   "id": "ab264cce",
   "metadata": {},
   "outputs": [],
   "source": [
    "# 상속받기-- 많이 쓰임\n",
    "class new_(Calculator):\n",
    "    def power(self, value):\n",
    "        self.number = self.number**value\n",
    "        print(self,number)"
   ]
  },
  {
   "cell_type": "code",
   "execution_count": 16,
   "id": "58fa3ab8",
   "metadata": {},
   "outputs": [
    {
     "name": "stdout",
     "output_type": "stream",
     "text": [
      "0\n"
     ]
    }
   ],
   "source": [
    "cal2 = new_()"
   ]
  },
  {
   "cell_type": "code",
   "execution_count": 17,
   "id": "9aa2cc19",
   "metadata": {},
   "outputs": [
    {
     "name": "stdout",
     "output_type": "stream",
     "text": [
      "5\n"
     ]
    }
   ],
   "source": [
    "cal2.add(5)"
   ]
  },
  {
   "cell_type": "code",
   "execution_count": 18,
   "id": "4424430f",
   "metadata": {},
   "outputs": [],
   "source": [
    "class new_(Calculator):\n",
    "    def divide(self,value):\n",
    "        if value == 0:\n",
    "            print('Cannot divide with zero')\n",
    "        else:\n",
    "            self.number = self.number/value\n",
    "            print('Current number is %s' % self.number)\n",
    "        def _pow(self,value):\n",
    "            self.number = self.number**value\n",
    "            print('Current number is %s' % self.number)"
   ]
  },
  {
   "cell_type": "code",
   "execution_count": 20,
   "id": "d08d45ad",
   "metadata": {},
   "outputs": [
    {
     "name": "stdout",
     "output_type": "stream",
     "text": [
      "5\n"
     ]
    }
   ],
   "source": [
    "new_cal1 = new_(5)"
   ]
  },
  {
   "cell_type": "code",
   "execution_count": null,
   "id": "397bdfc8",
   "metadata": {},
   "outputs": [],
   "source": []
  }
 ],
 "metadata": {
  "kernelspec": {
   "display_name": "Python 3 (ipykernel)",
   "language": "python",
   "name": "python3"
  },
  "language_info": {
   "codemirror_mode": {
    "name": "ipython",
    "version": 3
   },
   "file_extension": ".py",
   "mimetype": "text/x-python",
   "name": "python",
   "nbconvert_exporter": "python",
   "pygments_lexer": "ipython3",
   "version": "3.11.4"
  }
 },
 "nbformat": 4,
 "nbformat_minor": 5
}
