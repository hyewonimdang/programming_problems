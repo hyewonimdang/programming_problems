{
 "cells": [
  {
   "cell_type": "code",
   "execution_count": 26,
   "id": "829a23d0",
   "metadata": {},
   "outputs": [],
   "source": [
    "#1-1\n",
    "def function(keyword, *numbers):\n",
    "    if keyword == 'add':\n",
    "        result = sum(numbers)         # 튜플에서는 += (X) / sum 쓰기!!\n",
    "        print(f\"The sum of the numbers is: {result}\")\n",
    "    elif keyword == 'multiply':\n",
    "        result = 1\n",
    "        for num in numbers:\n",
    "            result *= num\n",
    "        print(f\"The product of the numbers is: {result}\")"
   ]
  },
  {
   "cell_type": "code",
   "execution_count": 27,
   "id": "00125926",
   "metadata": {},
   "outputs": [
    {
     "name": "stdout",
     "output_type": "stream",
     "text": [
      "The sum of the numbers is: 4\n"
     ]
    }
   ],
   "source": [
    "function('add',1,3)"
   ]
  },
  {
   "cell_type": "code",
   "execution_count": 23,
   "id": "0bd3dbc1",
   "metadata": {},
   "outputs": [
    {
     "name": "stdout",
     "output_type": "stream",
     "text": [
      "The product of the numbers is: 3\n"
     ]
    }
   ],
   "source": [
    "function('multiply',1,3)"
   ]
  },
  {
   "cell_type": "code",
   "execution_count": 28,
   "id": "f56633f1",
   "metadata": {},
   "outputs": [],
   "source": [
    "#1-2\n",
    "# 그냥 간단하게\n",
    "def function2(keyword, num1, num2):\n",
    "    if keyword == 'subtract':\n",
    "        if num1> num2:\n",
    "            result = num1-num2\n",
    "        else:\n",
    "            result = num2-num1\n",
    "        print(f\"The subtract is: {result}\")\n",
    "    elif keyword == 'divide':\n",
    "        if num1 > num2:\n",
    "            result = num1/num2\n",
    "        else:\n",
    "            result = num2/num1\n",
    "        print(f\"result is: {result}\")\n",
    "\n",
    "        \n",
    "# args 사용할 때       \n",
    "def function2(keyword, *args):\n",
    "    if keyword == 'subtract':\n",
    "        len(args) == 2\n",
    "        result = max(args)-min(args)\n",
    "        print(f\"The difference is: {result}\")\n",
    "    elif keyword == 'divide':\n",
    "        len(args) == 2\n",
    "        result = max(args) / min(args)\n",
    "        print(f\"The divide is: {result}\")"
   ]
  },
  {
   "cell_type": "code",
   "execution_count": 29,
   "id": "818fdee2",
   "metadata": {},
   "outputs": [
    {
     "name": "stdout",
     "output_type": "stream",
     "text": [
      "The subtract is: 1\n"
     ]
    }
   ],
   "source": [
    "function2('subtract',1,2)"
   ]
  },
  {
   "cell_type": "code",
   "execution_count": 32,
   "id": "7e0376cc",
   "metadata": {},
   "outputs": [
    {
     "name": "stdout",
     "output_type": "stream",
     "text": [
      "result is: 10.0\n"
     ]
    }
   ],
   "source": [
    "function2('divide',4,40)"
   ]
  },
  {
   "cell_type": "code",
   "execution_count": 38,
   "id": "d2d1dc92",
   "metadata": {},
   "outputs": [],
   "source": [
    "#1-3 ((((((이거 맞아?????????????))))))\n",
    "# 오류 발생 원인 = 두 번째 수가 0일 경우\n",
    "def function2(keyword, num1, num2):\n",
    "    if keyword == 'subtract':\n",
    "        if num1> num2:\n",
    "            num2 != 0\n",
    "            result = num1-num2\n",
    "        else:\n",
    "            num1 != 0\n",
    "            result = num2-num1\n",
    "        print(f\"The subtract is: {result}\")\n",
    "    elif keyword == 'divide':\n",
    "        if num1 > num2:\n",
    "            num2 != 0\n",
    "            result = num1/num2\n",
    "        else:\n",
    "            num1 != 0\n",
    "            result = num2/num1\n",
    "        print(f\"result is: {result}\")\n",
    "        \n",
    "def function2(keyword, *args): \n",
    "    len(args) == 2\n",
    "    args[i] != 0\n",
    "    if keyword == 'subtract':\n",
    "        result = max(args)-min(args)\n",
    "        print(f\"The difference is: {result}\")\n",
    "    elif keyword == 'divide':\n",
    "        result = max(args) / min(args)\n",
    "        print(f\"The divide is: {result}\")"
   ]
  },
  {
   "cell_type": "code",
   "execution_count": 39,
   "id": "2b9ed1f9",
   "metadata": {},
   "outputs": [],
   "source": [
    "#1-3 ((((이거 맞아??????????????))))\n",
    "def function2(keyword, *args):\n",
    "    len(args) == 2\n",
    "    if keyword == 'subtract':\n",
    "        result = max(args)-min(args)\n",
    "        print(f\"The difference is: {result}\")\n",
    "    elif keyword == 'divide':\n",
    "        args[i] != 0\n",
    "        result = max(args) / min(args)\n",
    "        print(f\"The divide is: {result}\")"
   ]
  },
  {
   "cell_type": "code",
   "execution_count": 40,
   "id": "b9b28ca6",
   "metadata": {},
   "outputs": [],
   "source": [
    "#2-1\n",
    "dictionary = {'철수':70, '영희':55, '민희':60, '영수':45, '영철':50}"
   ]
  },
  {
   "cell_type": "code",
   "execution_count": null,
   "id": "96cb6c4f",
   "metadata": {},
   "outputs": [],
   "source": [
    "#2-2 ((((????????????????????))))\n",
    "f = open('result.txt','w')\n",
    "for i in range(6.10):\n",
    "    f.write('studnet ')"
   ]
  },
  {
   "cell_type": "code",
   "execution_count": null,
   "id": "2a61710d",
   "metadata": {},
   "outputs": [],
   "source": [
    "#3-1\n",
    "class Calculator(self):\n",
    "    def __init__(self,start_point=0):\n",
    "        self.result = start_point\n",
    "    def add(self,num):\n",
    "        if not self.result:\n",
    "            self.result = value\n",
    "        else:\n",
    "            self.result \n",
    "        \n",
    "        "
   ]
  },
  {
   "cell_type": "code",
   "execution_count": 43,
   "id": "4b3e4fa6",
   "metadata": {},
   "outputs": [],
   "source": [
    "#4-1 (((????????????)))\n",
    "import numpy as np\n",
    "\n",
    "class Board_game():\n",
    "    def __init__(self, initial = 0):\n",
    "        self.minsu = initial\n",
    "        self.yeongchul = initial\n",
    "        self.winner = None"
   ]
  },
  {
   "cell_type": "code",
   "execution_count": 7,
   "id": "81019282",
   "metadata": {},
   "outputs": [],
   "source": [
    "#4-2\n",
    "class Board_game():\n",
    "    def roll_dice(self):\n",
    "        move =  np.random.randint((1,7))   # 구글에서는 포함이라는데 왜 gpt는 7이래????\n",
    "        \n",
    "    def minsu_stepping(self):\n",
    "        move = self.roll_dice()\n",
    "        self.minsu += move\n",
    "        return self.minsu\n",
    "    \n",
    "    def yeongchul_stepping(self):\n",
    "        move =  self.roll_dice()\n",
    "        self.yeongchul += move\n",
    "        return self.yeongchul"
   ]
  },
  {
   "cell_type": "code",
   "execution_count": 6,
   "id": "05b0e3e0",
   "metadata": {},
   "outputs": [],
   "source": [
    "#4-3\n",
    "def check(self): #self 넣어야 함?\n",
    "    trial = 0\n",
    "    \n",
    "    while True:\n",
    "        trial += 1\n",
    "        agent = Board_game()\n",
    "        Done = False\n",
    "        if agent.minsu_stepping == 100:\n",
    "            Done = True\n",
    "            winner = 'minsu'\n",
    "        elif agent.yeongchul_stepping == 100:\n",
    "            Done = True\n",
    "            winner = 'yeongchul'\n",
    "        else:\n",
    "            break\n",
    "    return \n"
   ]
  },
  {
   "cell_type": "code",
   "execution_count": null,
   "id": "d8240367",
   "metadata": {},
   "outputs": [],
   "source": [
    "#4-4\n",
    "N_Trials = 1000\n",
    "for i in range(N_Trials):\n",
    "    "
   ]
  },
  {
   "cell_type": "code",
   "execution_count": 3,
   "id": "92e30a05",
   "metadata": {},
   "outputs": [
    {
     "name": "stdout",
     "output_type": "stream",
     "text": [
      "행렬 A:\n",
      "[[1 1 1]\n",
      " [6 0 3]\n",
      " [2 1 2]]\n",
      "행렬 b:\n",
      "[10 18 15]\n"
     ]
    }
   ],
   "source": [
    "#5-1\n",
    "import numpy as np\n",
    "\n",
    "A = np.array([[1,1,1],\n",
    "              [6,0,3],\n",
    "              [2,1,2]])\n",
    "\n",
    "b = np.array([10,18,15])\n",
    "\n",
    "print(\"행렬 A:\")\n",
    "print(A)\n",
    "print(\"행렬 b:\")\n",
    "print(b)"
   ]
  },
  {
   "cell_type": "code",
   "execution_count": 5,
   "id": "d29e6de6",
   "metadata": {},
   "outputs": [
    {
     "name": "stdout",
     "output_type": "stream",
     "text": [
      "연립방정식의 해:\n",
      "[[1.]\n",
      " [5.]\n",
      " [4.]]\n"
     ]
    }
   ],
   "source": [
    "import numpy as np\n",
    "\n",
    "# 연립방정식의 계수 행렬 A\n",
    "A = np.array([[1, 1, 1],\n",
    "              [6, 0, 3],\n",
    "              [2, 1, 2]])\n",
    "\n",
    "# 연립방정식의 우변 상수 벡터 b\n",
    "b = np.array([10, 18, 15])\n",
    "\n",
    "# 1. 행렬 A의 역행렬 계산\n",
    "A_inv = np.linalg.inv(A)\n",
    "\n",
    "# 2. 벡터 b를 열 벡터로 변환\n",
    "b_column = b.reshape((-1, 1))\n",
    "# 3. 해 계산\n",
    "solution = np.dot(A_inv, b_column)\n",
    "\n",
    "# 결과 출력\n",
    "print(\"연립방정식의 해:\")\n",
    "print(solution)"
   ]
  },
  {
   "cell_type": "code",
   "execution_count": null,
   "id": "c2f9f09f",
   "metadata": {},
   "outputs": [],
   "source": []
  }
 ],
 "metadata": {
  "kernelspec": {
   "display_name": "Python 3 (ipykernel)",
   "language": "python",
   "name": "python3"
  },
  "language_info": {
   "codemirror_mode": {
    "name": "ipython",
    "version": 3
   },
   "file_extension": ".py",
   "mimetype": "text/x-python",
   "name": "python",
   "nbconvert_exporter": "python",
   "pygments_lexer": "ipython3",
   "version": "3.11.4"
  }
 },
 "nbformat": 4,
 "nbformat_minor": 5
}
