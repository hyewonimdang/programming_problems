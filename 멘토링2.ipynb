{
 "cells": [
  {
   "cell_type": "code",
   "execution_count": 1,
   "id": "0f8b966f",
   "metadata": {},
   "outputs": [],
   "source": [
    "#1\n",
    "fruit = ['사과','바나나','파인애플']\n",
    "price = [1200,1000,7000]"
   ]
  },
  {
   "cell_type": "code",
   "execution_count": 13,
   "id": "2316dcc5",
   "metadata": {},
   "outputs": [
    {
     "data": {
      "text/plain": [
       "{'사과': 1200, '바나나': 1000, '파인애플': 7000}"
      ]
     },
     "execution_count": 13,
     "metadata": {},
     "output_type": "execute_result"
    }
   ],
   "source": [
    "dict(zip(fruit,price))"
   ]
  },
  {
   "cell_type": "code",
   "execution_count": 9,
   "id": "0bbc8a77",
   "metadata": {},
   "outputs": [
    {
     "name": "stdout",
     "output_type": "stream",
     "text": [
      "x는?: 50\n",
      "y는?: 20\n",
      "1000\n"
     ]
    }
   ],
   "source": [
    "#2-1\n",
    "x= int(input('x는?: '))\n",
    "y = int(input('y는?: '))\n",
    "print(x*y)"
   ]
  },
  {
   "cell_type": "code",
   "execution_count": 43,
   "id": "8557552b",
   "metadata": {},
   "outputs": [],
   "source": [
    "#2-2\n",
    "def add_m(x,y,key):\n",
    "    if key == 'multiply':\n",
    "        result = x*y\n",
    "    elif key == 'add':\n",
    "        result = x+y\n",
    "    return result"
   ]
  },
  {
   "cell_type": "code",
   "execution_count": 51,
   "id": "cb8ab6cb",
   "metadata": {},
   "outputs": [
    {
     "name": "stdout",
     "output_type": "stream",
     "text": [
      "7\n"
     ]
    }
   ],
   "source": [
    "result = add_m(5, 2, 'add')\n",
    "print(result)"
   ]
  },
  {
   "cell_type": "code",
   "execution_count": 58,
   "id": "d3ffac48",
   "metadata": {},
   "outputs": [],
   "source": [
    "#2-3\n",
    "def add_m(x,y,key):\n",
    "    if key == 'multiply':\n",
    "        result = x*y\n",
    "    elif key == 'add':\n",
    "        result = x+y\n",
    "    elif key == 'divide':\n",
    "        if x>y:\n",
    "            result = tuple(divmod(x,y))\n",
    "        elif x<y:\n",
    "            result = tuple(divmod(y,x))\n",
    "        else:\n",
    "            pass\n",
    "    return result"
   ]
  },
  {
   "cell_type": "code",
   "execution_count": 60,
   "id": "236e3118",
   "metadata": {},
   "outputs": [
    {
     "name": "stdout",
     "output_type": "stream",
     "text": [
      "(5, 0)\n"
     ]
    }
   ],
   "source": [
    "result = add_m(10,2,'divide')\n",
    "print(result)"
   ]
  },
  {
   "cell_type": "code",
   "execution_count": 77,
   "id": "ea61ebb1",
   "metadata": {},
   "outputs": [],
   "source": [
    "#3-1"
   ]
  },
  {
   "cell_type": "code",
   "execution_count": 116,
   "id": "a97b1da0",
   "metadata": {},
   "outputs": [],
   "source": [
    "#3-2\n",
    "def scor(scores):\n",
    "    scores = {'철수':70, '영희':55, '민희':60, '영수':45, '영철':50}\n",
    "    for i in scores:\n",
    "        if scores[i] >= 50:\n",
    "            scores[i] = 'Pass'\n",
    "        else:\n",
    "            scores[i] = 'Fail'\n",
    "    return scores"
   ]
  },
  {
   "cell_type": "code",
   "execution_count": 118,
   "id": "2aeab64d",
   "metadata": {},
   "outputs": [
    {
     "data": {
      "text/plain": [
       "{'철수': 'Pass', '영희': 'Pass', '민희': 'Pass', '영수': 'Fail', '영철': 'Pass'}"
      ]
     },
     "execution_count": 118,
     "metadata": {},
     "output_type": "execute_result"
    }
   ],
   "source": [
    "scor(scores)"
   ]
  },
  {
   "cell_type": "code",
   "execution_count": 111,
   "id": "19885cc4",
   "metadata": {},
   "outputs": [],
   "source": [
    "#3-3\n",
    "def scr(i, scores):\n",
    "    scores = {'철수':70, '영희':55, '민희':60, '영수':45, '영철':50}\n",
    "    for i in scores:\n",
    "        if scores[i] >= 50:\n",
    "            scores[i] = 'Pass'\n",
    "        else:\n",
    "            scores[i] = 'Fail'\n",
    "    return scores"
   ]
  },
  {
   "cell_type": "code",
   "execution_count": 112,
   "id": "0666a8a9",
   "metadata": {},
   "outputs": [
    {
     "data": {
      "text/plain": [
       "{'철수': 'Pass', '영희': 'Pass', '민희': 'Pass', '영수': 'Fail', '영철': 'Pass'}"
      ]
     },
     "execution_count": 112,
     "metadata": {},
     "output_type": "execute_result"
    }
   ],
   "source": [
    "scr(i,scores[i])"
   ]
  },
  {
   "cell_type": "code",
   "execution_count": 137,
   "id": "81f77e52",
   "metadata": {},
   "outputs": [
    {
     "name": "stdout",
     "output_type": "stream",
     "text": [
      "2.0\n"
     ]
    }
   ],
   "source": [
    "#4-1\n",
    "def function(N):\n",
    "    numbers = []\n",
    "    sum_ = 0\n",
    "    for i in range(N):\n",
    "        numbers.append(i)\n",
    "        sum_ += numbers[i]\n",
    "        average = sum_ / len(numbers)\n",
    "    return average\n",
    "\n",
    "average = function(5)\n",
    "print(average)"
   ]
  },
  {
   "cell_type": "code",
   "execution_count": 138,
   "id": "9ddd46d4",
   "metadata": {},
   "outputs": [
    {
     "name": "stdout",
     "output_type": "stream",
     "text": [
      "[0, 2, 4, 6]\n"
     ]
    }
   ],
   "source": [
    "#4-2\n",
    "def function(N):\n",
    "    numbers = []\n",
    "    A = []\n",
    "    for i in range(N):\n",
    "        numbers.append(i)\n",
    "        a = i*2\n",
    "        A.append(a)\n",
    "    return A\n",
    "\n",
    "A = function(4)\n",
    "print(A)"
   ]
  },
  {
   "cell_type": "code",
   "execution_count": 128,
   "id": "5272bc9a",
   "metadata": {},
   "outputs": [
    {
     "name": "stdout",
     "output_type": "stream",
     "text": [
      "2450\n"
     ]
    }
   ],
   "source": [
    "#5-1\n",
    "sum_ = 0\n",
    "for i in range(100):\n",
    "    if i%2==0:\n",
    "        sum_ += i\n",
    "    else:\n",
    "        pass\n",
    "print(sum_)"
   ]
  },
  {
   "cell_type": "code",
   "execution_count": 133,
   "id": "63add9ea",
   "metadata": {},
   "outputs": [
    {
     "name": "stdout",
     "output_type": "stream",
     "text": [
      "2550\n"
     ]
    }
   ],
   "source": [
    "#5-2\n",
    "sum_ = 0\n",
    "num = 1\n",
    "while num <= 100:\n",
    "    num += 1\n",
    "    if num % 2==0:\n",
    "        sum_+=num\n",
    "    else:\n",
    "        pass\n",
    "print(sum_)"
   ]
  },
  {
   "cell_type": "code",
   "execution_count": null,
   "id": "9f5e3656",
   "metadata": {},
   "outputs": [],
   "source": []
  }
 ],
 "metadata": {
  "kernelspec": {
   "display_name": "Python 3 (ipykernel)",
   "language": "python",
   "name": "python3"
  },
  "language_info": {
   "codemirror_mode": {
    "name": "ipython",
    "version": 3
   },
   "file_extension": ".py",
   "mimetype": "text/x-python",
   "name": "python",
   "nbconvert_exporter": "python",
   "pygments_lexer": "ipython3",
   "version": "3.11.4"
  }
 },
 "nbformat": 4,
 "nbformat_minor": 5
}
