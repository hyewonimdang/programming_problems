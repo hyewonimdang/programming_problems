{
 "cells": [
  {
   "cell_type": "code",
   "execution_count": 72,
   "id": "8b4ad43a",
   "metadata": {},
   "outputs": [
    {
     "name": "stdout",
     "output_type": "stream",
     "text": [
      "A+ :혜원, 100\n",
      "B : 민수, 55\n",
      "A: 가현, 60\n",
      "A: 효은, 80\n"
     ]
    }
   ],
   "source": [
    "scores = {'혜원':100,\n",
    "          '민수':55,\n",
    "          '가현':60,\n",
    "          '효은':80,\n",
    "         }\n",
    "\n",
    "for name, score in scores.items():\n",
    "    if score < 60:\n",
    "        print('B : %s, %d' % (name,score))\n",
    "    elif score < 85:\n",
    "        print('A: %s, %d' % (name, score))\n",
    "    else:\n",
    "        print('A+ :%s, %d' % (name,score))\n",
    "        "
   ]
  },
  {
   "cell_type": "code",
   "execution_count": 91,
   "id": "a5eb03bf",
   "metadata": {},
   "outputs": [
    {
     "name": "stdout",
     "output_type": "stream",
     "text": [
      "programming\n",
      "physics\n",
      "math\n"
     ]
    }
   ],
   "source": [
    "#리스트 안에 있는 요소 나열\n",
    "class_list = ['programming', 'physics', 'math']\n",
    "\n",
    "num_repeat = len(class_list)\n",
    "i = 0\n",
    "while i < num_repeat:\n",
    "    print(class_list[i])\n",
    "    i += 1"
   ]
  },
  {
   "cell_type": "code",
   "execution_count": 8,
   "id": "7b00938e",
   "metadata": {},
   "outputs": [
    {
     "name": "stdout",
     "output_type": "stream",
     "text": [
      "30414093201713378043612608166064768844377641568960512000000000000\n"
     ]
    }
   ],
   "source": [
    "# 1부터 50까지의 곱 리스트로\n",
    "result = 1\n",
    "for i in range(1,51):\n",
    "    result *= i\n",
    "print(result)"
   ]
  },
  {
   "cell_type": "code",
   "execution_count": 46,
   "id": "fba19e05",
   "metadata": {},
   "outputs": [
    {
     "name": "stdout",
     "output_type": "stream",
     "text": [
      "166833\n"
     ]
    }
   ],
   "source": [
    "result = 0\n",
    "i = 1\n",
    "while i <= 1000:\n",
    "    if i % 3 == 0:\n",
    "        result += i\n",
    "    i += 1\n",
    "print(result)"
   ]
  },
  {
   "cell_type": "code",
   "execution_count": 10,
   "id": "4809fe2e",
   "metadata": {},
   "outputs": [
    {
     "name": "stdout",
     "output_type": "stream",
     "text": [
      "1000\n"
     ]
    }
   ],
   "source": [
    "number = 1\n",
    "result = 0\n",
    "while number < 1000:\n",
    "    number += 1\n",
    "    if number % 3 == 0:\n",
    "        result += number\n",
    "    elif number % 5 == 0:\n",
    "        result += number\n",
    "print(number)\n",
    "    \n"
   ]
  },
  {
   "cell_type": "code",
   "execution_count": 11,
   "id": "e6d2d66b",
   "metadata": {},
   "outputs": [
    {
     "name": "stdout",
     "output_type": "stream",
     "text": [
      "233168\n"
     ]
    }
   ],
   "source": [
    "# 100미만의 자연수에서 3의 배수와 5의 배수의 총합\n",
    "result = 0\n",
    "for n in range(1,1000):\n",
    "    if n % 3 == 0 or n % 5 == 0:\n",
    "        result += n\n",
    "print(result)"
   ]
  },
  {
   "cell_type": "code",
   "execution_count": 17,
   "id": "cee6cd01",
   "metadata": {},
   "outputs": [
    {
     "name": "stdout",
     "output_type": "stream",
     "text": [
      "481\n"
     ]
    }
   ],
   "source": [
    "A = [20,55,67,82,45,33,90,87,100,25]\n",
    "sum_ = 0\n",
    "for a in A:\n",
    "    if a >= 50:\n",
    "        sum_ += a\n",
    "        \n",
    "print(sum_)"
   ]
  },
  {
   "cell_type": "code",
   "execution_count": 38,
   "id": "d7f3e155",
   "metadata": {},
   "outputs": [
    {
     "name": "stdout",
     "output_type": "stream",
     "text": [
      "[1, 2, 3]\n"
     ]
    }
   ],
   "source": [
    "a = [1,2,2,2,2,3,3,3,3]\n",
    "aSet = set(a)\n",
    "aSet = list(aSet)\n",
    "print(aSet)"
   ]
  },
  {
   "cell_type": "code",
   "execution_count": 46,
   "id": "528a4de0",
   "metadata": {},
   "outputs": [
    {
     "name": "stdout",
     "output_type": "stream",
     "text": [
      "택시\n"
     ]
    }
   ],
   "source": [
    "# 돈이 3000원 이상 or 카드 있으면 택시 타\n",
    "money = 2000\n",
    "card = True\n",
    "if money >= 3000 or card:\n",
    "    print('택시')\n",
    "else:\n",
    "    print('걸어가')\n",
    "    \n",
    "    "
   ]
  },
  {
   "cell_type": "code",
   "execution_count": 49,
   "id": "a588ff4e",
   "metadata": {},
   "outputs": [
    {
     "name": "stdout",
     "output_type": "stream",
     "text": [
      "taxi\n"
     ]
    }
   ],
   "source": [
    "pocket = ['paper','money','cellphone']\n",
    "if 'money' in pocket:                      # '' 잊지 말기!!!\n",
    "    print('taxi')\n",
    "elif 'card' in pocket:\n",
    "    print('taxi')\n",
    "else:\n",
    "    print('walk')"
   ]
  },
  {
   "cell_type": "code",
   "execution_count": 78,
   "id": "5e2d21c3",
   "metadata": {},
   "outputs": [
    {
     "name": "stdout",
     "output_type": "stream",
     "text": [
      "17\n"
     ]
    }
   ],
   "source": [
    "# 1~100까지 수 중 3의 배수면서 2의 배수는 아닌 수의 개수 출력\n",
    "count = 0\n",
    "for i in range(1,101):\n",
    "    if (i % 3 ==0 and i % 2 != 0):\n",
    "        count += 1\n",
    "print(count)"
   ]
  },
  {
   "cell_type": "code",
   "execution_count": 83,
   "id": "7a8ba693",
   "metadata": {},
   "outputs": [
    {
     "name": "stdout",
     "output_type": "stream",
     "text": [
      "정수는?: 50\n",
      "정수는?: 54\n",
      "정수는?: 54\n",
      "정수는?: 84\n",
      "정수는?: 74\n",
      "정수는?: 94\n",
      "정수는?: 74\n",
      "484\n"
     ]
    }
   ],
   "source": [
    "# 리스트 사용해 7개의 정수를 입력받고, 입력받은 정수들의 합 구하기\n",
    "sum_ = 0\n",
    "for i in range(7):\n",
    "    i = int(input('정수는?: '))\n",
    "    sum_ += i\n",
    "print(sum_)"
   ]
  },
  {
   "cell_type": "code",
   "execution_count": 89,
   "id": "349a7080",
   "metadata": {},
   "outputs": [
    {
     "name": "stdout",
     "output_type": "stream",
     "text": [
      "비밀번호 입력: 3521\n",
      "틀림\n",
      "비밀번호 입력: 3158\n",
      "맞음\n"
     ]
    }
   ],
   "source": [
    "#비밀번호 맞을 때까지 입력\n",
    "pwd = 3158\n",
    "while True:\n",
    "    pw = int(input('비밀번호 입력: '))\n",
    "    if pw == pwd:\n",
    "        print('맞음')\n",
    "        break\n",
    "    else:\n",
    "        print('틀림')"
   ]
  },
  {
   "cell_type": "code",
   "execution_count": 113,
   "id": "a06042ae",
   "metadata": {},
   "outputs": [
    {
     "name": "stdout",
     "output_type": "stream",
     "text": [
      "0 oh my god\n",
      "1 enjoy\n",
      "2 oh my god\n",
      "3 enjoy\n",
      "4 oh my god\n",
      "5 enjoy\n",
      "6 enjoy\n"
     ]
    }
   ],
   "source": [
    "hi = ['월요일','화요일','수요일','목요일','금요일','토요일','일요일']\n",
    "for i,v in enumerate(hi):\n",
    "    if v == '월요일' or v == '수요일' or v == '금요일':          # or 쓸 때는 식 다 써야함\n",
    "        print(i,'oh my god')\n",
    "    else:\n",
    "        print(i,'enjoy')"
   ]
  },
  {
   "cell_type": "code",
   "execution_count": 117,
   "id": "8cf1106c",
   "metadata": {},
   "outputs": [
    {
     "name": "stdout",
     "output_type": "stream",
     "text": [
      "2003\n",
      "03\n",
      "09\n",
      "그럭저럭\n"
     ]
    }
   ],
   "source": [
    "year = []\n",
    "month = []\n",
    "th = []\n",
    "year.append(int(input()))\n",
    "month.append(int(input()))\n",
    "th.append(int(input()))\n",
    "\n",
    "result = year.pop()-month.pop()+th.pop()\n",
    "if result == 0:\n",
    "    print('대박')\n",
    "else:\n",
    "    print('그럭저럭')"
   ]
  },
  {
   "cell_type": "code",
   "execution_count": 119,
   "id": "90c59e4d",
   "metadata": {},
   "outputs": [
    {
     "name": "stdout",
     "output_type": "stream",
     "text": [
      "태어난 년도를 입력하세요: 2003\n",
      "태어난 월을 입력하세요: 03\n",
      "태어난 일을 입력하세요: 09\n",
      "대박\n"
     ]
    }
   ],
   "source": [
    "# 100의 자리 숫자가 짝수면 \n",
    "년 = int(input(\"태어난 년도를 입력하세요: \"))\n",
    "월 = int(input(\"태어난 월을 입력하세요: \"))\n",
    "일 = int(input(\"태어난 일을 입력하세요: \"))\n",
    "\n",
    "합 = 년 + 월 + 일\n",
    "백의자리 = 합 // 100 % 10  # (년 + 월 + 일)의 100의 자리 숫자를 구함\n",
    "\n",
    "if 백의자리 % 2 == 0:\n",
    "    print(\"대박\")\n",
    "else:\n",
    "    print(\"그럭저럭\")"
   ]
  },
  {
   "cell_type": "code",
   "execution_count": 142,
   "id": "7280f258",
   "metadata": {},
   "outputs": [
    {
     "name": "stdout",
     "output_type": "stream",
     "text": [
      "50\n",
      "49\n",
      "78\n"
     ]
    },
    {
     "data": {
      "text/plain": [
       "50"
      ]
     },
     "execution_count": 142,
     "metadata": {},
     "output_type": "execute_result"
    }
   ],
   "source": [
    "a = []\n",
    "for i in range(3):\n",
    "    i = int(input())\n",
    "    a.append(i)\n",
    "    \n",
    "a.sort()\n",
    "a[1]"
   ]
  },
  {
   "cell_type": "code",
   "execution_count": 28,
   "id": "c69a7452",
   "metadata": {},
   "outputs": [
    {
     "name": "stdout",
     "output_type": "stream",
     "text": [
      "sd\n",
      "dfd\n",
      "sfefs\n"
     ]
    }
   ],
   "source": [
    "#리스트안의 요소들을 다 쓰고 싶을 때\n",
    "a = ['sd','dfd','sfefs']\n",
    "num_repeat = len(a)\n",
    "i = 0\n",
    "while i < num_repeat:\n",
    "    print(a[i])\n",
    "    i+=1"
   ]
  },
  {
   "cell_type": "code",
   "execution_count": 33,
   "id": "6f51ea5a",
   "metadata": {
    "scrolled": true
   },
   "outputs": [
    {
     "name": "stdout",
     "output_type": "stream",
     "text": [
      "무게: 5\n",
      "키: 168\n",
      "마름\n"
     ]
    }
   ],
   "source": [
    "weight = float(input('무게: '))\n",
    "height = float(input('키: '))        # m, cm 단위 조심!!!\n",
    "height = height / 100\n",
    "BMI = weight / (height*height)\n",
    "if BMI < 18.5:\n",
    "    print('마름')\n",
    "elif BMI < 25:\n",
    "    print('보통')\n",
    "elif BMI < 30:\n",
    "    print('가벼운 비만')\n",
    "else:\n",
    "    print('심각한 비만')"
   ]
  },
  {
   "cell_type": "code",
   "execution_count": 38,
   "id": "3298336b",
   "metadata": {},
   "outputs": [
    {
     "name": "stdout",
     "output_type": "stream",
     "text": [
      "윤년은?: 2003\n",
      "윤년 아님\n"
     ]
    }
   ],
   "source": [
    "year = int(input('윤년은?: '))\n",
    "if_leap = True\n",
    "if_leap = (year % 4 == 0) or (year % 100 != 0) or (year % 4 == 0)\n",
    "    if is_leap:\n",
    "        print('T')\n",
    "    else:\n",
    "        print('F')"
   ]
  },
  {
   "cell_type": "code",
   "execution_count": 40,
   "id": "c5bbf1ea",
   "metadata": {},
   "outputs": [
    {
     "name": "stdout",
     "output_type": "stream",
     "text": [
      "1\n",
      "2\n",
      "Fizz\n",
      "4\n",
      "Buzz\n",
      "Fizz\n",
      "7\n",
      "8\n",
      "Fizz\n",
      "Buzz\n",
      "11\n",
      "Fizz\n",
      "13\n",
      "14\n",
      "Fizz Buzz\n",
      "16\n",
      "17\n",
      "Fizz\n",
      "19\n",
      "Buzz\n"
     ]
    }
   ],
   "source": [
    "# Fizz Buzz 게임\n",
    "for i in range(1,21):             # if 도 순서가 중요!!!\n",
    "    if i % 15 == 0:\n",
    "        print('Fizz Buzz')\n",
    "    elif i % 3 == 0:\n",
    "        print('Fizz')\n",
    "    elif i % 5 == 0:\n",
    "        print('Buzz')\n",
    "    else:\n",
    "        print(i)"
   ]
  },
  {
   "cell_type": "code",
   "execution_count": 49,
   "id": "0a7e7965",
   "metadata": {},
   "outputs": [
    {
     "name": "stdout",
     "output_type": "stream",
     "text": [
      "banana\n",
      "위험\n",
      "fish\n",
      "carrot\n",
      "cabbage\n"
     ]
    }
   ],
   "source": [
    "foodstuff = ['banana','mango','fish','carrot','cabbage']\n",
    "for fruit in foodstuff:\n",
    "    if fruit == 'mango':         # if mango in fruit (X)\n",
    "        print('위험')\n",
    "    else:\n",
    "        print(fruit)"
   ]
  },
  {
   "cell_type": "code",
   "execution_count": 72,
   "id": "11316447",
   "metadata": {},
   "outputs": [
    {
     "name": "stdout",
     "output_type": "stream",
     "text": [
      "1 축하\n",
      "3 축하\n",
      "5 축하\n"
     ]
    }
   ],
   "source": [
    "# 60점 이상에게만 축하 나머지한테는 X\n",
    "marks = [90,25,67,45,80]\n",
    "for i in range(len(marks)):\n",
    "    if marks[i] >= 60:                # 되도 않는 else는 하지 말기\n",
    "        print(i+1,'축하')"
   ]
  },
  {
   "cell_type": "code",
   "execution_count": 73,
   "id": "29975a40",
   "metadata": {},
   "outputs": [
    {
     "name": "stdout",
     "output_type": "stream",
     "text": [
      "166833\n"
     ]
    }
   ],
   "source": [
    "# while문으로 1~1000까지 자연수중 3의 배수 합\n",
    "result = 0\n",
    "number = 0\n",
    "while number < 1000:\n",
    "    number += 1\n",
    "    if number % 3 == 0:\n",
    "        result += number\n",
    "print(result)"
   ]
  },
  {
   "cell_type": "code",
   "execution_count": 76,
   "id": "5280be20",
   "metadata": {},
   "outputs": [
    {
     "name": "stdout",
     "output_type": "stream",
     "text": [
      "1 2 3 4 5 6 7 8 9 10 11 12 13 14 15 16 17 18 19 20 21 22 23 24 25 26 27 28 29 30 31 32 33 34 35 36 37 38 39 40 41 42 43 44 45 46 47 48 49 50 51 52 53 54 55 56 57 58 59 60 61 62 63 64 65 66 67 68 69 70 71 72 73 74 75 76 77 78 79 80 81 82 83 84 85 86 87 88 89 90 91 92 93 94 95 96 97 98 99 100 "
     ]
    }
   ],
   "source": [
    "#for문으로 1~100까지의 숫자 출력\n",
    "for i in range(100):\n",
    "    print(i+1, end=' ')"
   ]
  },
  {
   "cell_type": "code",
   "execution_count": 77,
   "id": "8896b177",
   "metadata": {},
   "outputs": [
    {
     "name": "stdout",
     "output_type": "stream",
     "text": [
      "79.0\n"
     ]
    }
   ],
   "source": [
    "A = [70,60,55,75,95,90,80,80,85,100]\n",
    "sum_ = 0\n",
    "for a in A:\n",
    "    sum_ += a\n",
    "average = sum_ / len(A)\n",
    "print(average)"
   ]
  },
  {
   "cell_type": "code",
   "execution_count": 78,
   "id": "03c307b5",
   "metadata": {},
   "outputs": [
    {
     "name": "stdout",
     "output_type": "stream",
     "text": [
      "[2, 6, 10]\n"
     ]
    }
   ],
   "source": [
    "# 홀수에만 2 곱하기\n",
    "numbers = [1,2,3,4,5]\n",
    "b = []\n",
    "for i in numbers:\n",
    "    if i % 2 == 1:\n",
    "        b.append(i*2)\n",
    "print(b)"
   ]
  },
  {
   "cell_type": "code",
   "execution_count": 87,
   "id": "0f637f44",
   "metadata": {},
   "outputs": [
    {
     "name": "stdout",
     "output_type": "stream",
     "text": [
      "4\n",
      "144\n",
      "900\n",
      "3136\n",
      "8100\n",
      "17424\n",
      "33124\n",
      "57600\n",
      "93636\n",
      "144400\n",
      "213444\n",
      "304704\n",
      "422500\n",
      "571536\n",
      "756900\n",
      "984064\n",
      "1258884\n",
      "1587600\n",
      "1976836\n",
      "2433600\n",
      "2965284\n",
      "3579664\n",
      "4284900\n",
      "5089536\n",
      "6002500\n"
     ]
    }
   ],
   "source": [
    "# 1부터 50까지의 곱 리스트로\n",
    "\n",
    "product_list = []\n",
    "\n",
    "for i in range(1, 51):\n",
    "    product = 1\n",
    "    for j in range(1, i + 1):\n",
    "        product *= j\n",
    "    product_list.append(product)\n",
    "\n",
    "print(product_list)"
   ]
  },
  {
   "cell_type": "code",
   "execution_count": 90,
   "id": "adc2a75d",
   "metadata": {},
   "outputs": [
    {
     "name": "stdout",
     "output_type": "stream",
     "text": [
      "1275\n"
     ]
    }
   ],
   "source": [
    "# 1부터 50까지의 합\n",
    "num = 0\n",
    "for i in range(1,51):\n",
    "    if i % 2 == 0:\n",
    "        continue\n",
    "    else:\n",
    "        num += i + (i+1)\n",
    "print(num)"
   ]
  },
  {
   "cell_type": "code",
   "execution_count": 92,
   "id": "7cd77455",
   "metadata": {},
   "outputs": [
    {
     "name": "stdout",
     "output_type": "stream",
     "text": [
      "500500\n"
     ]
    }
   ],
   "source": [
    "# while문으로 1~100까지의 자연수의 함\n",
    "number = 0\n",
    "for i in range(1,1001):\n",
    "    number += i\n",
    "print(number)"
   ]
  },
  {
   "cell_type": "code",
   "execution_count": 93,
   "id": "e6678034",
   "metadata": {},
   "outputs": [
    {
     "name": "stdout",
     "output_type": "stream",
     "text": [
      "1 1\n",
      "1 2\n",
      "1 3\n",
      "1 4\n",
      "1 5\n",
      "1 6\n",
      "2 1\n",
      "2 2\n",
      "2 3\n",
      "2 4\n",
      "2 5\n",
      "2 6\n",
      "3 1\n",
      "3 2\n",
      "3 3\n",
      "3 4\n",
      "3 5\n",
      "3 6\n",
      "4 1\n",
      "4 2\n",
      "4 3\n",
      "4 4\n",
      "4 5\n",
      "4 6\n",
      "5 1\n",
      "5 2\n",
      "5 3\n",
      "5 4\n",
      "5 5\n",
      "5 6\n",
      "6 1\n",
      "6 2\n",
      "6 3\n",
      "6 4\n",
      "6 5\n",
      "6 6\n"
     ]
    }
   ],
   "source": [
    "n = 6\n",
    "m = 6\n",
    "for i in range(1, n+1):\n",
    "    for j in range(1,m+1):\n",
    "        print(i,j)\n",
    "    "
   ]
  },
  {
   "cell_type": "code",
   "execution_count": 97,
   "id": "9b5594b9",
   "metadata": {},
   "outputs": [
    {
     "name": "stdout",
     "output_type": "stream",
     "text": [
      "2\n",
      "3\n",
      "4\n",
      "5\n",
      "6\n",
      "7\n",
      "3\n",
      "4\n",
      "5\n",
      "6\n",
      "7\n",
      "8\n",
      "4\n",
      "5\n",
      "6\n",
      "7\n",
      "8\n",
      "9\n",
      "5\n",
      "6\n",
      "7\n",
      "8\n",
      "9\n",
      "10\n",
      "6\n",
      "7\n",
      "8\n",
      "9\n",
      "10\n",
      "11\n",
      "7\n",
      "8\n",
      "9\n",
      "10\n",
      "11\n",
      "12\n"
     ]
    }
   ],
   "source": [
    "for i in range(1,7):\n",
    "    for j in range(1,7):\n",
    "        print(i+j)"
   ]
  },
  {
   "cell_type": "code",
   "execution_count": 100,
   "id": "bc2cbaa8",
   "metadata": {},
   "outputs": [
    {
     "name": "stdout",
     "output_type": "stream",
     "text": [
      "6\n",
      "12\n"
     ]
    }
   ],
   "source": [
    "num = int(input())\n",
    "num >= 1 and num <= 100\n",
    "sum_ = 0\n",
    "for i in range(num+1):     !!!!!!!!!!!!!!!!!!!!!!\n",
    "    if i % 2 == 0:\n",
    "        sum_ += i\n",
    "print(sum_)"
   ]
  },
  {
   "cell_type": "code",
   "execution_count": 109,
   "id": "b3e3f2f4",
   "metadata": {},
   "outputs": [
    {
     "name": "stdout",
     "output_type": "stream",
     "text": [
      "4\n",
      "24\n"
     ]
    }
   ],
   "source": [
    "# 팩토리얼\n",
    "n = int(input())\n",
    "fac = 1\n",
    "for i in range(1,n+1):\n",
    "    fac *= i\n",
    "print(fac)"
   ]
  },
  {
   "cell_type": "code",
   "execution_count": 116,
   "id": "6ccdcfb0",
   "metadata": {},
   "outputs": [
    {
     "name": "stdout",
     "output_type": "stream",
     "text": [
      "5\n",
      "1 2 3 4 5  \n",
      "3\n"
     ]
    }
   ],
   "source": [
    "n = int(input())\n",
    "n >= 1 and n <= 10000\n",
    "count = 0\n",
    "for i in range(1,n+1):\n",
    "    print(i, end=' ')\n",
    "    if i % 2 == 1:\n",
    "        count += 1\n",
    "print(' ')\n",
    "print(count)"
   ]
  },
  {
   "cell_type": "code",
   "execution_count": 119,
   "id": "e1f1c34d",
   "metadata": {},
   "outputs": [
    {
     "name": "stdout",
     "output_type": "stream",
     "text": [
      "4\n",
      "8\n",
      "9\n"
     ]
    }
   ],
   "source": [
    "a = int(input())\n",
    "b = int(input())\n",
    "if a > b:                    # 미쳤다!!!!!!!!!!!!!!!!!!!!!!!!!!!!!!!!!!\n",
    "    a, b = b, a\n",
    "sum = 0\n",
    "for i in range(a,b+1):\n",
    "    if i % 2 == 1:\n",
    "        sum += i\n",
    "    else:\n",
    "        sum -= 1\n",
    "print(sum)"
   ]
  },
  {
   "cell_type": "code",
   "execution_count": 120,
   "id": "230de5e7",
   "metadata": {},
   "outputs": [
    {
     "name": "stdout",
     "output_type": "stream",
     "text": [
      "2\n"
     ]
    }
   ],
   "source": [
    "x = 1\n",
    "y = 2\n",
    "print(x*y)"
   ]
  },
  {
   "cell_type": "code",
   "execution_count": 12,
   "id": "e9a92855",
   "metadata": {},
   "outputs": [
    {
     "name": "stdout",
     "output_type": "stream",
     "text": [
      "몇 번 갔냐?: 3\n",
      "1\n"
     ]
    }
   ],
   "source": [
    "import random\n",
    "result = []\n",
    "\n",
    "for i in range(100):\n",
    "    location = 0\n",
    "    \n",
    "    for i in range(50):\n",
    "        infront = 1 if random.choice() >= 0.7 else: \n",
    "        location += infront\n",
    "    result.append(location)"
   ]
  },
  {
   "cell_type": "code",
   "execution_count": null,
   "id": "cb4f28ee",
   "metadata": {},
   "outputs": [],
   "source": []
  }
 ],
 "metadata": {
  "kernelspec": {
   "display_name": "Python 3 (ipykernel)",
   "language": "python",
   "name": "python3"
  },
  "language_info": {
   "codemirror_mode": {
    "name": "ipython",
    "version": 3
   },
   "file_extension": ".py",
   "mimetype": "text/x-python",
   "name": "python",
   "nbconvert_exporter": "python",
   "pygments_lexer": "ipython3",
   "version": "3.11.4"
  }
 },
 "nbformat": 4,
 "nbformat_minor": 5
}
