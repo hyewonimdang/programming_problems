{
 "cells": [
  {
   "cell_type": "code",
   "execution_count": 7,
   "id": "3356c331",
   "metadata": {},
   "outputs": [],
   "source": [
    "# 1-1\n",
    "x = [1,5,10,15,20]"
   ]
  },
  {
   "cell_type": "code",
   "execution_count": 8,
   "id": "b25276c7",
   "metadata": {},
   "outputs": [
    {
     "name": "stdout",
     "output_type": "stream",
     "text": [
      "51\n"
     ]
    }
   ],
   "source": [
    "#1-2\n",
    "sum_ = x[0]+x[1]+x[2]+x[3]+x[4]\n",
    "print(sum_)"
   ]
  },
  {
   "cell_type": "code",
   "execution_count": 9,
   "id": "5112f987",
   "metadata": {},
   "outputs": [],
   "source": [
    "#1-3\n",
    "y = [1.,3.,5.,7.,9.]"
   ]
  },
  {
   "cell_type": "code",
   "execution_count": 11,
   "id": "bbad6d52",
   "metadata": {},
   "outputs": [
    {
     "name": "stdout",
     "output_type": "stream",
     "text": [
      "(1.0, 0.0)\n",
      "(1.0, 2.0)\n",
      "(2.0, 0.0)\n",
      "(2.0, 1.0)\n",
      "(2.0, 2.0)\n"
     ]
    }
   ],
   "source": [
    "#1-4\n",
    "for i in range(len(x)):\n",
    "    print(divmod(x[i],y[i]))\n"
   ]
  },
  {
   "cell_type": "code",
   "execution_count": 21,
   "id": "eb3bda3a",
   "metadata": {},
   "outputs": [
    {
     "name": "stdout",
     "output_type": "stream",
     "text": [
      "두번째로 작은 수: 1\n",
      "두번째로 큰수: 99\n"
     ]
    }
   ],
   "source": [
    "# 2-1\n",
    "import numpy as np\n",
    "numbers = list(np.random.randint(1,100,(100,)))\n",
    "numbers.sort()\n",
    "print('두번째로 작은 수: %d' % numbers[1])\n",
    "print('두번째로 큰수: %d' % numbers[-2])"
   ]
  },
  {
   "cell_type": "code",
   "execution_count": 91,
   "id": "3ba12c09",
   "metadata": {},
   "outputs": [
    {
     "name": "stdout",
     "output_type": "stream",
     "text": [
      "[0.5, 0.5, 0.5, 0.5, 0.5, 1.5, 1.5, 1.5, 2.5, 2.5, 12, 16, 16, 5.5, 7.5, 7.5, 8.5, 36, 40, 40, 40, 10.5, 11.5, 12.5, 52, 13.5, 56, 56, 56, 60, 60, 15.5, 15.5, 68, 68, 17.5, 17.5, 72, 72, 80, 20.5, 84, 84, 84, 84, 88, 88, 92, 92, 23.5, 96, 96, 24.5, 25.5, 26.5, 26.5, 112, 28.5, 28.5, 28.5, 29.5, 29.5, 30.5, 124, 124, 31.5, 128, 128, 128, 32.5, 33.5, 136, 136, 140, 35.5, 35.5, 36.5, 36.5, 156, 160, 40.5, 40.5, 168, 42.5, 43.5, 43.5, 44.5, 180, 180, 45.5, 45.5, 184, 184, 188, 192, 192, 192, 196, 49.5, 49.5]\n"
     ]
    }
   ],
   "source": [
    "#2-2\n",
    "answer = []\n",
    "for i in range(len(numbers)):\n",
    "    if numbers[i] % 2 == 1:\n",
    "        result = numbers[i] / 2\n",
    "    else:\n",
    "        result = numbers[i] * 2\n",
    "    answer.append(result)\n",
    "print(answer)"
   ]
  },
  {
   "cell_type": "code",
   "execution_count": 1,
   "id": "bee20316",
   "metadata": {
    "scrolled": true
   },
   "outputs": [
    {
     "name": "stdout",
     "output_type": "stream",
     "text": [
      "1 시험 합격\n",
      "2 시험 불합격\n",
      "3 시험 합격\n",
      "4 시험 불합격\n",
      "5 시험 불합격\n",
      "6 시험 불합격\n",
      "7 시험 합격\n",
      "8 시험 합격\n",
      "9 시험 불합격\n",
      "10 시험 불합격\n",
      "11 시험 불합격\n",
      "12 시험 불합격\n",
      "13 시험 불합격\n",
      "14 시험 불합격\n",
      "15 시험 불합격\n",
      "시험이 끝났습니다\n"
     ]
    }
   ],
   "source": [
    "#3\n",
    "import numpy as np\n",
    "\n",
    "def get_score():\n",
    "    return np.random.randint(1,100)\n",
    "\n",
    "num_passed = 0\n",
    "while num_passed < 15:\n",
    "    num_passed += 1\n",
    "    if get_score() >= 80:\n",
    "        print(num_passed, '시험 합격')\n",
    "    else:\n",
    "        print(num_passed, '시험 불합격')\n",
    "print('시험이 끝났습니다')"
   ]
  },
  {
   "cell_type": "code",
   "execution_count": 4,
   "id": "adba9994",
   "metadata": {
    "scrolled": true
   },
   "outputs": [
    {
     "name": "stdout",
     "output_type": "stream",
     "text": [
      "1 시험 불합격\n",
      "2 시험 불합격\n",
      "3 시험 합격\n",
      "4 시험 불합격\n",
      "5 시험 불합격\n",
      "6 시험 불합격\n",
      "7 시험 불합격\n",
      "8 시험 불합격\n",
      "9 시험 불합격\n",
      "10 시험 불합격\n",
      "11 시험 불합격\n",
      "12 시험 불합격\n",
      "13 시험 합격\n",
      "14 시험 합격\n",
      "15 시험 불합격\n",
      "시험이 끝났습니다\n"
     ]
    }
   ],
   "source": [
    "#3-2\n",
    "num_passed = 1\n",
    "\n",
    "def get_score():\n",
    "    return np.random.randint(1,100)\n",
    "\n",
    "while num_passed <= 15:\n",
    "    if get_score() >= 80:\n",
    "        print(num_passed, '시험 합격')\n",
    "    else:\n",
    "        print(num_passed, '시험 불합격')\n",
    "    num_passed += 1   \n",
    "    \n",
    "print('시험이 끝났습니다')"
   ]
  },
  {
   "cell_type": "code",
   "execution_count": 92,
   "id": "cbde3b76",
   "metadata": {
    "scrolled": true
   },
   "outputs": [
    {
     "name": "stdout",
     "output_type": "stream",
     "text": [
      "A의 x좌표는: 1\n",
      "A의 y좌표는: 5\n",
      "B의 x좌표는: 5\n",
      "B의 y좌표는: 2\n",
      "C의 x좌표는: 5\n",
      "C의 y좌표는: 5\n",
      "D의 x성분 [1]\n"
     ]
    }
   ],
   "source": [
    "#4-1\n",
    "x1 = int(input('A의 x좌표는: '))\n",
    "y1 = int(input('A의 y좌표는: '))\n",
    "\n",
    "x2 = int(input('B의 x좌표는: '))\n",
    "y2 = int(input('B의 y좌표는: '))\n",
    "\n",
    "x3 = int(input('C의 x좌표는: '))\n",
    "y3 = int(input('C의 y좌표는: '))\n",
    "D = []\n",
    "\n",
    "if x1 == x2:\n",
    "    x4 = x3\n",
    "elif x1 == x3:\n",
    "    x4 = x2\n",
    "else:\n",
    "    x4 = x1\n",
    "D.append(x4)\n",
    "print('D의 x성분', D)"
   ]
  },
  {
   "cell_type": "code",
   "execution_count": 93,
   "id": "f5c8ff57",
   "metadata": {},
   "outputs": [
    {
     "name": "stdout",
     "output_type": "stream",
     "text": [
      "2\n"
     ]
    }
   ],
   "source": [
    "#4-2 \n",
    "if y1 == y2:\n",
    "    y4 = y3\n",
    "elif y1 == y3:\n",
    "    y4 = y2\n",
    "else:\n",
    "    y4 = y1\n",
    "print(y4)"
   ]
  },
  {
   "cell_type": "code",
   "execution_count": null,
   "id": "2175221e",
   "metadata": {},
   "outputs": [],
   "source": []
  }
 ],
 "metadata": {
  "kernelspec": {
   "display_name": "Python 3 (ipykernel)",
   "language": "python",
   "name": "python3"
  },
  "language_info": {
   "codemirror_mode": {
    "name": "ipython",
    "version": 3
   },
   "file_extension": ".py",
   "mimetype": "text/x-python",
   "name": "python",
   "nbconvert_exporter": "python",
   "pygments_lexer": "ipython3",
   "version": "3.11.4"
  }
 },
 "nbformat": 4,
 "nbformat_minor": 5
}
