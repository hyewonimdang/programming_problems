{
 "cells": [
  {
   "cell_type": "code",
   "execution_count": 1,
   "id": "7c50478d",
   "metadata": {},
   "outputs": [
    {
     "name": "stdout",
     "output_type": "stream",
     "text": [
      "Test in weeks 2\n",
      "Test in weeks 4\n",
      "Test in weeks 6\n",
      "Test in weeks 8\n",
      "Test in weeks 10\n",
      "Test in weeks 12\n",
      "Test in weeks 14\n"
     ]
    }
   ],
   "source": [
    "# 짝수주마다\n",
    "weeks = 0\n",
    "while weeks < 15:\n",
    "    weeks += 1\n",
    "    if weeks % 2 == 1:\n",
    "        continue\n",
    "    print('Test in weeks %d' % weeks)"
   ]
  },
  {
   "cell_type": "code",
   "execution_count": 6,
   "id": "8f744029",
   "metadata": {},
   "outputs": [
    {
     "ename": "SyntaxError",
     "evalue": "invalid syntax (2564761476.py, line 2)",
     "output_type": "error",
     "traceback": [
      "\u001b[1;36m  Cell \u001b[1;32mIn[6], line 2\u001b[1;36m\u001b[0m\n\u001b[1;33m    scores = ['민수': 70, '태현':80, '혜원':100]\u001b[0m\n\u001b[1;37m                  ^\u001b[0m\n\u001b[1;31mSyntaxError\u001b[0m\u001b[1;31m:\u001b[0m invalid syntax\n"
     ]
    }
   ],
   "source": [
    "#학생이 시험 통과했는지 \n",
    "scores = ['민수': 70, '태현':80, '혜원':100]\n",
    "for i in range(len(scores)):\n",
    "    if scores[i]<60:\n",
    "        continue\n",
    "    print('Studennt %d'% i)"
   ]
  },
  {
   "cell_type": "code",
   "execution_count": 13,
   "id": "250fdb49",
   "metadata": {},
   "outputs": [],
   "source": [
    "def major():\n",
    "    print('Major Factory')"
   ]
  },
  {
   "cell_type": "code",
   "execution_count": 14,
   "id": "cf48d195",
   "metadata": {},
   "outputs": [
    {
     "name": "stdout",
     "output_type": "stream",
     "text": [
      "Major Factory\n"
     ]
    }
   ],
   "source": [
    "major()"
   ]
  },
  {
   "cell_type": "code",
   "execution_count": 15,
   "id": "49f742bd",
   "metadata": {},
   "outputs": [
    {
     "data": {
      "text/plain": [
       "<function __main__.major()>"
      ]
     },
     "execution_count": 15,
     "metadata": {},
     "output_type": "execute_result"
    }
   ],
   "source": [
    "major"
   ]
  },
  {
   "cell_type": "code",
   "execution_count": 16,
   "id": "ed5e9ff3",
   "metadata": {},
   "outputs": [
    {
     "name": "stdout",
     "output_type": "stream",
     "text": [
      "Major Factory\n"
     ]
    }
   ],
   "source": [
    "A = major\n",
    "A()"
   ]
  },
  {
   "cell_type": "code",
   "execution_count": 18,
   "id": "afd9b66d",
   "metadata": {},
   "outputs": [],
   "source": [
    "def add_all(*a):\n",
    "    sum_ = 0\n",
    "    for num in a:\n",
    "        sum_ += num\n",
    "    return sum_"
   ]
  },
  {
   "cell_type": "code",
   "execution_count": 19,
   "id": "ef3e59ca",
   "metadata": {},
   "outputs": [
    {
     "data": {
      "text/plain": [
       "15"
      ]
     },
     "execution_count": 19,
     "metadata": {},
     "output_type": "execute_result"
    }
   ],
   "source": [
    "add_all(1,2,3,4,5)"
   ]
  },
  {
   "cell_type": "code",
   "execution_count": 20,
   "id": "a9944938",
   "metadata": {},
   "outputs": [],
   "source": [
    "def add_all(*inin):\n",
    "    sum_ = 0\n",
    "    for num in inin:\n",
    "        sum_ += num\n",
    "    return sum_"
   ]
  },
  {
   "cell_type": "code",
   "execution_count": 22,
   "id": "79977766",
   "metadata": {},
   "outputs": [
    {
     "data": {
      "text/plain": [
       "9"
      ]
     },
     "execution_count": 22,
     "metadata": {},
     "output_type": "execute_result"
    }
   ],
   "source": [
    "add_all(2,3,4)"
   ]
  },
  {
   "cell_type": "code",
   "execution_count": 29,
   "id": "d674da93",
   "metadata": {},
   "outputs": [],
   "source": [
    "# \n",
    "def ct_dog(key, *a):\n",
    "    if key == 'cat':\n",
    "        result = 0\n",
    "        for num in a:\n",
    "            result += num\n",
    "    elif key == 'dog':\n",
    "        result = 1\n",
    "        for num in a:\n",
    "            result *= num\n",
    "    return result"
   ]
  },
  {
   "cell_type": "code",
   "execution_count": 30,
   "id": "f4ab43d5",
   "metadata": {},
   "outputs": [
    {
     "data": {
      "text/plain": [
       "10"
      ]
     },
     "execution_count": 30,
     "metadata": {},
     "output_type": "execute_result"
    }
   ],
   "source": [
    "ct_dog('cat',1,2,3,4)"
   ]
  },
  {
   "cell_type": "code",
   "execution_count": 31,
   "id": "6055d58d",
   "metadata": {},
   "outputs": [],
   "source": [
    "def happy(**prince):\n",
    "    print(prince)"
   ]
  },
  {
   "cell_type": "code",
   "execution_count": 32,
   "id": "4a65689d",
   "metadata": {},
   "outputs": [
    {
     "name": "stdout",
     "output_type": "stream",
     "text": [
      "{'a': 1, 'b': 2}\n"
     ]
    }
   ],
   "source": [
    "happy(a=1, b=2)"
   ]
  },
  {
   "cell_type": "code",
   "execution_count": 37,
   "id": "82554946",
   "metadata": {},
   "outputs": [],
   "source": [
    "def cpi(a,b):\n",
    "    return a+b, a*b"
   ]
  },
  {
   "cell_type": "code",
   "execution_count": 38,
   "id": "1721a4ba",
   "metadata": {},
   "outputs": [
    {
     "data": {
      "text/plain": [
       "5"
      ]
     },
     "execution_count": 38,
     "metadata": {},
     "output_type": "execute_result"
    }
   ],
   "source": [
    "result = cpi(2,3)\n",
    "result[0]"
   ]
  },
  {
   "cell_type": "code",
   "execution_count": 42,
   "id": "bf012d4d",
   "metadata": {},
   "outputs": [],
   "source": [
    "def major(name, major = 'Smart Factory'):\n",
    "    print('%s\\'s major is %s' % (name,major))"
   ]
  },
  {
   "cell_type": "code",
   "execution_count": 43,
   "id": "7a38afe7",
   "metadata": {},
   "outputs": [
    {
     "name": "stdout",
     "output_type": "stream",
     "text": [
      "Hyewon's major is Smart Factory\n"
     ]
    }
   ],
   "source": [
    "major('Hyewon')"
   ]
  },
  {
   "cell_type": "code",
   "execution_count": 46,
   "id": "1a442dda",
   "metadata": {},
   "outputs": [
    {
     "name": "stdout",
     "output_type": "stream",
     "text": [
      "Hyewon's major is Software AI engineering\n"
     ]
    }
   ],
   "source": [
    "major('Hyewon', 'Software AI engineering')"
   ]
  },
  {
   "cell_type": "code",
   "execution_count": 56,
   "id": "87ef72bd",
   "metadata": {},
   "outputs": [],
   "source": [
    "a = 1\n",
    "def happy(a):\n",
    "    a+=1\n",
    "    \n",
    "happy(a)"
   ]
  },
  {
   "cell_type": "code",
   "execution_count": 57,
   "id": "73244a5a",
   "metadata": {},
   "outputs": [
    {
     "data": {
      "text/plain": [
       "1"
      ]
     },
     "execution_count": 57,
     "metadata": {},
     "output_type": "execute_result"
    }
   ],
   "source": [
    "a"
   ]
  },
  {
   "cell_type": "code",
   "execution_count": 53,
   "id": "03d3073f",
   "metadata": {},
   "outputs": [
    {
     "name": "stdout",
     "output_type": "stream",
     "text": [
      "2\n"
     ]
    }
   ],
   "source": [
    "a = 1\n",
    "def happy():\n",
    "    global a\n",
    "    a += 1\n",
    "    \n",
    "happy()\n",
    "print(a)"
   ]
  },
  {
   "cell_type": "code",
   "execution_count": 59,
   "id": "d9009d53",
   "metadata": {},
   "outputs": [],
   "source": [
    "add = lambda a,b: a+b"
   ]
  },
  {
   "cell_type": "code",
   "execution_count": 60,
   "id": "96e385e1",
   "metadata": {},
   "outputs": [
    {
     "data": {
      "text/plain": [
       "7"
      ]
     },
     "execution_count": 60,
     "metadata": {},
     "output_type": "execute_result"
    }
   ],
   "source": [
    "add(3,4)"
   ]
  },
  {
   "cell_type": "code",
   "execution_count": 62,
   "id": "d5409ab5",
   "metadata": {},
   "outputs": [
    {
     "data": {
      "text/plain": [
       "7"
      ]
     },
     "execution_count": 62,
     "metadata": {},
     "output_type": "execute_result"
    }
   ],
   "source": [
    "(lambda a,b:a+b)(3,4)"
   ]
  },
  {
   "cell_type": "code",
   "execution_count": 65,
   "id": "ace92cc5",
   "metadata": {},
   "outputs": [
    {
     "data": {
      "text/plain": [
       "[2, 4, 6, 8, 10]"
      ]
     },
     "execution_count": 65,
     "metadata": {},
     "output_type": "execute_result"
    }
   ],
   "source": [
    "# 각각의 값들 곱한 거(전체) 도출 / 함수 이용\n",
    "A = [1,2,3,4,5]\n",
    "\n",
    "def double(a):\n",
    "    return a*2\n",
    "list(map(double,A))"
   ]
  },
  {
   "cell_type": "code",
   "execution_count": 72,
   "id": "c145bfd9",
   "metadata": {},
   "outputs": [
    {
     "data": {
      "text/plain": [
       "[2, 4, 6, 8, 10]"
      ]
     },
     "execution_count": 72,
     "metadata": {},
     "output_type": "execute_result"
    }
   ],
   "source": [
    "A = [1,2,3,4,5]\n",
    "list(map(lambda a:a*2,A))"
   ]
  },
  {
   "cell_type": "code",
   "execution_count": 85,
   "id": "685b41bd",
   "metadata": {},
   "outputs": [],
   "source": [
    "def square(a):\n",
    "    return a**2"
   ]
  },
  {
   "cell_type": "code",
   "execution_count": 93,
   "id": "efbae4a2",
   "metadata": {},
   "outputs": [
    {
     "name": "stdout",
     "output_type": "stream",
     "text": [
      "[1, 4, 9, 16, 25]\n"
     ]
    }
   ],
   "source": [
    "A = [1,2,3,4,5]\n",
    "B = []\n",
    "\n",
    "for a in A:\n",
    "    B.append(square(a))\n",
    "print(B)"
   ]
  },
  {
   "cell_type": "code",
   "execution_count": 94,
   "id": "c99ba401",
   "metadata": {},
   "outputs": [
    {
     "data": {
      "text/plain": [
       "[1, 4, 9, 16, 25]"
      ]
     },
     "execution_count": 94,
     "metadata": {},
     "output_type": "execute_result"
    }
   ],
   "source": [
    "A = [1,2,3,4,5]\n",
    "A = map(square, A)\n",
    "list(A)"
   ]
  },
  {
   "cell_type": "code",
   "execution_count": 96,
   "id": "9b92e714",
   "metadata": {},
   "outputs": [
    {
     "data": {
      "text/plain": [
       "[1, 4, 9, 16, 25]"
      ]
     },
     "execution_count": 96,
     "metadata": {},
     "output_type": "execute_result"
    }
   ],
   "source": [
    "A = [1,2,3,4,5]\n",
    "list(map(square,A))"
   ]
  },
  {
   "cell_type": "code",
   "execution_count": 97,
   "id": "107364bd",
   "metadata": {},
   "outputs": [
    {
     "data": {
      "text/plain": [
       "[1, 4, 9, 16, 25]"
      ]
     },
     "execution_count": 97,
     "metadata": {},
     "output_type": "execute_result"
    }
   ],
   "source": [
    "list(map(lambda a:a**2, A))"
   ]
  },
  {
   "cell_type": "code",
   "execution_count": 98,
   "id": "75e4791d",
   "metadata": {},
   "outputs": [
    {
     "name": "stdout",
     "output_type": "stream",
     "text": [
      "s\n"
     ]
    }
   ],
   "source": [
    "a=input()"
   ]
  },
  {
   "cell_type": "code",
   "execution_count": 100,
   "id": "ff8ca856",
   "metadata": {},
   "outputs": [
    {
     "data": {
      "text/plain": [
       "10"
      ]
     },
     "execution_count": 100,
     "metadata": {},
     "output_type": "execute_result"
    }
   ],
   "source": [
    "from functools import reduce\n",
    "reduce(lambda x,y:x+y, [0,1,2,3,4])"
   ]
  },
  {
   "cell_type": "code",
   "execution_count": 103,
   "id": "885d1fe5",
   "metadata": {
    "scrolled": true
   },
   "outputs": [
    {
     "data": {
      "text/plain": [
       "'yppah'"
      ]
     },
     "execution_count": 103,
     "metadata": {},
     "output_type": "execute_result"
    }
   ],
   "source": [
    "reduce(lambda x,y:y+x, 'happy')"
   ]
  },
  {
   "cell_type": "code",
   "execution_count": 105,
   "id": "b3ea241d",
   "metadata": {},
   "outputs": [
    {
     "data": {
      "text/plain": [
       "[0, 1, 2, 3, 4]"
      ]
     },
     "execution_count": 105,
     "metadata": {},
     "output_type": "execute_result"
    }
   ],
   "source": [
    "list(filter(lambda x:x<5, range(10)))"
   ]
  },
  {
   "cell_type": "code",
   "execution_count": 110,
   "id": "c3e57b55",
   "metadata": {},
   "outputs": [
    {
     "data": {
      "text/plain": [
       "[2, 4, 6, 8, 10]"
      ]
     },
     "execution_count": 110,
     "metadata": {},
     "output_type": "execute_result"
    }
   ],
   "source": [
    "def number(x):\n",
    "    return x % 2 == 0\n",
    "\n",
    "list(filter(number, range(1,11)))"
   ]
  },
  {
   "cell_type": "code",
   "execution_count": 112,
   "id": "fbda112f",
   "metadata": {},
   "outputs": [
    {
     "data": {
      "text/plain": [
       "'00000hello'"
      ]
     },
     "execution_count": 112,
     "metadata": {},
     "output_type": "execute_result"
    }
   ],
   "source": [
    "a = 'hello'\n",
    "a.zfill(10)"
   ]
  },
  {
   "cell_type": "code",
   "execution_count": 113,
   "id": "6a9d2be8",
   "metadata": {},
   "outputs": [],
   "source": [
    "def code_in():\n",
    "    return eval(input())"
   ]
  },
  {
   "cell_type": "code",
   "execution_count": 115,
   "id": "375aa81f",
   "metadata": {},
   "outputs": [
    {
     "name": "stdout",
     "output_type": "stream",
     "text": [
      "1+2\n"
     ]
    },
    {
     "data": {
      "text/plain": [
       "3"
      ]
     },
     "execution_count": 115,
     "metadata": {},
     "output_type": "execute_result"
    }
   ],
   "source": [
    "code_in()"
   ]
  },
  {
   "cell_type": "code",
   "execution_count": 117,
   "id": "3a49d342",
   "metadata": {},
   "outputs": [],
   "source": [
    "def code_in():\n",
    "    return eval(input())"
   ]
  },
  {
   "cell_type": "code",
   "execution_count": 118,
   "id": "9d67c2d0",
   "metadata": {},
   "outputs": [
    {
     "name": "stdout",
     "output_type": "stream",
     "text": [
      "5\n"
     ]
    },
    {
     "data": {
      "text/plain": [
       "5"
      ]
     },
     "execution_count": 118,
     "metadata": {},
     "output_type": "execute_result"
    }
   ],
   "source": [
    "code_in()"
   ]
  },
  {
   "cell_type": "code",
   "execution_count": 2,
   "id": "2893c4f4",
   "metadata": {},
   "outputs": [],
   "source": [
    "f=open('sample.txt','w')\n",
    "for i in range(10):\n",
    "    f.write('Line %s\\n' % i)\n",
    "f.close()"
   ]
  },
  {
   "cell_type": "code",
   "execution_count": 5,
   "id": "c8aa22e8",
   "metadata": {},
   "outputs": [
    {
     "name": "stdout",
     "output_type": "stream",
     "text": [
      "Line 0\n",
      "Line 1\n",
      "Line 2\n",
      "Line 3\n",
      "Line 4\n",
      "Line 5\n",
      "Line 6\n",
      "Line 7\n",
      "Line 8\n",
      "Line 9\n"
     ]
    }
   ],
   "source": [
    "f = open('sample.txt','r')\n",
    "for i in range(10):\n",
    "    print(f.readline(), end ='')\n",
    "f.close()"
   ]
  },
  {
   "cell_type": "code",
   "execution_count": 7,
   "id": "894c212f",
   "metadata": {},
   "outputs": [
    {
     "name": "stdout",
     "output_type": "stream",
     "text": [
      "Line 0\n",
      "Line 1\n",
      "Line 2\n",
      "Line 3\n",
      "Line 4\n",
      "Line 5\n",
      "Line 6\n",
      "Line 7\n",
      "Line 8\n",
      "Line 9\n",
      "Line 10\n",
      "Line 11\n",
      "Line 12\n",
      "Line 13\n",
      "Line 14\n",
      "Line 15\n",
      "Line 16\n",
      "Line 17\n",
      "Line 18\n",
      "Line 19\n"
     ]
    }
   ],
   "source": [
    "f = open('sample.txt','r')\n",
    "while True:\n",
    "    line = f.readline()\n",
    "    if not line: break\n",
    "    print(line, end='')\n",
    "f.close()"
   ]
  },
  {
   "cell_type": "code",
   "execution_count": 3,
   "id": "ae703b01",
   "metadata": {},
   "outputs": [],
   "source": [
    "number = None\n",
    "\n",
    "def add(number, value):\n",
    "    if not number:\n",
    "        number = value\n",
    "    else:\n",
    "        number += value\n",
    "    return number\n",
    "\n",
    "def subs(number, value):\n",
    "    if not number:\n",
    "        number = value\n",
    "    else:\n",
    "        number -= value\n",
    "    return number"
   ]
  },
  {
   "cell_type": "code",
   "execution_count": 4,
   "id": "b7da25c5",
   "metadata": {},
   "outputs": [],
   "source": [
    "def add(a,b):\n",
    "    return a+b\n",
    "def subs(a,b):\n",
    "    return a-b"
   ]
  },
  {
   "cell_type": "code",
   "execution_count": null,
   "id": "19b43c47",
   "metadata": {},
   "outputs": [],
   "source": [
    "def divide(number, value):\n",
    "    if not number:\n",
    "        number /= value"
   ]
  },
  {
   "cell_type": "code",
   "execution_count": 6,
   "id": "b2df33ea",
   "metadata": {},
   "outputs": [],
   "source": [
    "class Calculator:\n",
    "    def __init__(self):\n",
    "        self.number = None\n",
    "    def add(self, value):\n",
    "        if not self.number:\n",
    "            self.number = value\n",
    "        else:\n",
    "            self.number += value"
   ]
  },
  {
   "cell_type": "code",
   "execution_count": 7,
   "id": "7c7f8e81",
   "metadata": {},
   "outputs": [
    {
     "name": "stdout",
     "output_type": "stream",
     "text": [
      "3\n"
     ]
    }
   ],
   "source": [
    "cal1 = Calculator()\n",
    "cal1.add(3)\n",
    "print(cal1.number)"
   ]
  },
  {
   "cell_type": "code",
   "execution_count": 8,
   "id": "ffb5cfae",
   "metadata": {},
   "outputs": [
    {
     "name": "stdout",
     "output_type": "stream",
     "text": [
      "8\n"
     ]
    }
   ],
   "source": [
    "cal1.add(5)\n",
    "print(cal1.number)"
   ]
  },
  {
   "cell_type": "code",
   "execution_count": 9,
   "id": "b962a1e5",
   "metadata": {},
   "outputs": [
    {
     "name": "stdout",
     "output_type": "stream",
     "text": [
      "5\n"
     ]
    }
   ],
   "source": [
    "cal1 = Calculator()\n",
    "cal2 = Calculator()\n",
    "\n",
    "cal1.add(5)\n",
    "cal2.add(7)\n",
    "print(cal1.number)"
   ]
  },
  {
   "cell_type": "code",
   "execution_count": 11,
   "id": "2a864751",
   "metadata": {},
   "outputs": [],
   "source": [
    "class Calculator:\n",
    "    def __init__(self):\n",
    "        self.result = None\n",
    "    def add(self,a):\n",
    "        if not self.result:\n",
    "            self.result = a\n",
    "        else:\n",
    "            self.result += a"
   ]
  },
  {
   "cell_type": "code",
   "execution_count": 13,
   "id": "fed22dd4",
   "metadata": {},
   "outputs": [],
   "source": [
    "class Calculator:\n",
    "    def __init__(self, a):\n",
    "        self.number = a"
   ]
  },
  {
   "cell_type": "code",
   "execution_count": 14,
   "id": "755e913c",
   "metadata": {},
   "outputs": [
    {
     "data": {
      "text/plain": [
       "0"
      ]
     },
     "execution_count": 14,
     "metadata": {},
     "output_type": "execute_result"
    }
   ],
   "source": [
    "cal1 = Calculator(0)\n",
    "cal1.number"
   ]
  },
  {
   "cell_type": "code",
   "execution_count": 3,
   "id": "c1864e0e",
   "metadata": {},
   "outputs": [],
   "source": [
    "class Calculator:\n",
    "    def __init__(self,a):\n",
    "        self.number = a\n",
    "        print('Current number is %s' % self.number)"
   ]
  },
  {
   "cell_type": "code",
   "execution_count": 4,
   "id": "5d0f114c",
   "metadata": {},
   "outputs": [],
   "source": [
    "class adv(Calculator):\n",
    "    def po(self,value):\n",
    "        self.number = self.number ** value\n",
    "        print('Current number is %s' % self.number)"
   ]
  },
  {
   "cell_type": "code",
   "execution_count": 5,
   "id": "5fa4e845",
   "metadata": {},
   "outputs": [],
   "source": [
    "class Adv(Calculator):\n",
    "    def divide(self,value):\n",
    "        if value == 0:\n",
    "            print('Cannot divide with zero')\n",
    "        else:\n",
    "            self.number = self.number/value\n",
    "            print('Current number is %s' % self.number)\n",
    "        def _pow(self,value):\n",
    "            self.number = self.number**value\n",
    "            print('Current number is %s' % self.number)"
   ]
  },
  {
   "cell_type": "code",
   "execution_count": 8,
   "id": "8bbc2fde",
   "metadata": {},
   "outputs": [],
   "source": [
    "class Calculator:\n",
    "    def __init__(self,a):\n",
    "        self.number = a\n",
    "        print('Current number is %s' % self.number)\n",
    "    def add(self,b):\n",
    "        self.number += b\n",
    "        print('Current number is %s' % self.number)\n",
    "        \n",
    "class Cal(Calculator):\n",
    "    def __init__(self,c):\n",
    "        super().__init__(number)\n",
    "        self.pi = 3.14\n",
    "    def pow(self,value):\n",
    "        self,number = self,number ** value\n",
    "        print('Current number is %s'% self.number)"
   ]
  },
  {
   "cell_type": "code",
   "execution_count": null,
   "id": "fc426003",
   "metadata": {},
   "outputs": [],
   "source": [
    "class yes(Calculator):\n",
    "    def __init__(self,**kwargs):\n",
    "        print(kwargs)\n",
    "        super(yes,self).__init__(**kwargs)\n",
    "        self.pi = 3.14\n",
    "    def pow(self,value):\n",
    "        self.number = self.number ** value\n",
    "        print('Current number is %s' % self.number)"
   ]
  },
  {
   "cell_type": "code",
   "execution_count": 22,
   "id": "bf7c697d",
   "metadata": {},
   "outputs": [],
   "source": [
    "import numpy as np\n",
    "import matplotlib.pyplot as plt\n",
    "\n",
    "def uniform_step(low_limit = 0, high_limit = 0.1):\n",
    "    direction = np.random.choice((-1,1))\n",
    "    move_L = np.random.uniform(low_limit, high_limit)\n",
    "    return direction, move_L\n",
    "\n",
    "class moving_agent():\n",
    "    def __init__(self, initial = 0.01):\n",
    "        self.X = initial\n",
    "        self.Distance = 0\n",
    "        self.Trial = 0\n",
    "    def stepping(self):\n",
    "        direction, move_L = uniform_step()\n",
    "        self.X += move_L * direction\n",
    "        self.Trial += 1\n",
    "        self.Distance += move_L\n",
    "    def check(self):\n",
    "        Done = False\n",
    "        if self.X < 0:\n",
    "            Done =True\n",
    "            self.Distance += self.X\n",
    "        elif self.X >1:\n",
    "            Done = True\n",
    "            self.Distance -= self.X\n",
    "        else:\n",
    "            pass\n",
    "        return Done"
   ]
  },
  {
   "cell_type": "code",
   "execution_count": 24,
   "id": "23925f54",
   "metadata": {
    "scrolled": true
   },
   "outputs": [
    {
     "name": "stdout",
     "output_type": "stream",
     "text": [
      "평균 움직인 거리: 0.6716987309874587\n",
      "평균 움직인 횟수: 15.0979\n"
     ]
    }
   ],
   "source": [
    "N_Trials = 10000\n",
    "\n",
    "Distance_set = []\n",
    "Distance_mean_set = []\n",
    "Trial_set = []\n",
    "\n",
    "for i in range(N_Trials):\n",
    "    agent = moving_agent()\n",
    "    Done = False\n",
    "    while not Done:\n",
    "        agent.stepping()\n",
    "        Done = agent.check()\n",
    "    Distance_set.append(agent.Distance)\n",
    "    Trial_set.append(agent.Trial)\n",
    "    Distance_mean_set.append(np.mean)\n",
    "print('평균 움직인 거리:', np.mean(Distance_set))\n",
    "print('평균 움직인 횟수:', np.mean(Trial_set))"
   ]
  },
  {
   "cell_type": "code",
   "execution_count": 27,
   "id": "07709730",
   "metadata": {},
   "outputs": [],
   "source": [
    "import numpy as np\n",
    "\n",
    "X = 0.01\n",
    "Distance = 0\n",
    "Trial = 0\n",
    "\n",
    "Done = False\n",
    "while not Done:\n",
    "    direction = np.random.choice((-1,1))\n",
    "    move_L = np.random.uniform(0,0.1)\n",
    "\n",
    "    X += direction * move_L\n",
    "    Trial += 1\n",
    "    Distance += move_L\n",
    "\n",
    "    if X < 0:\n",
    "        Done = True\n",
    "    elif X > 1:\n",
    "        Done = True\n",
    "    else:\n",
    "        pass\n",
    "print('평균 거리: ', np.mean(Distance_))"
   ]
  },
  {
   "cell_type": "code",
   "execution_count": 3,
   "id": "551fce7c",
   "metadata": {},
   "outputs": [
    {
     "name": "stdout",
     "output_type": "stream",
     "text": [
      "평균 움직인 거리: 0.6999032389653836\n",
      "평균 횟수: 14.7449\n"
     ]
    }
   ],
   "source": [
    "#1-3\n",
    "\n",
    "import numpy as np\n",
    "import matplotlib.pyplot as plt\n",
    "\n",
    "def uniform_step(low_limit=0, high_limit=0.1):\n",
    "    direction = np.random.choice((-1,1))\n",
    "    move_L = np.random.uniform(low_limit, high_limit)\n",
    "    return direction, move_L\n",
    "\n",
    "class moving_agent():\n",
    "    def __init__(self):\n",
    "        self.X = 0.01\n",
    "        self.Distance = 0\n",
    "        self.Trial = 0\n",
    "        \n",
    "    def stepping(self):\n",
    "        direction, move_L = uniform_step()\n",
    "        self.X += direction*move_L\n",
    "        self.Trial += 1\n",
    "        self.Distance += move_L\n",
    "    def check(self):\n",
    "        Done = False\n",
    "        if self.X < 0:\n",
    "            Done = True\n",
    "            self.Distance += self.X\n",
    "        elif self.X > 1:\n",
    "            Done = True\n",
    "            self.Distance -= (self.X -1)\n",
    "        else:\n",
    "            pass\n",
    "        return Done\n",
    "\n",
    "N_Trials = 10000\n",
    "Distance_set = []\n",
    "Distance_mean_set = []\n",
    "Trial_set = []\n",
    "\n",
    "for i in range(N_Trials):\n",
    "    agent = moving_agent()\n",
    "    Done = False\n",
    "    while not Done:\n",
    "        agent.stepping()\n",
    "        Done = agent.check()\n",
    "    Distance_set.append(agent.Distance)\n",
    "    Trial_set.append(agent.Trial)\n",
    "    Distance_mean_set.append(np.mean(Distance_set))\n",
    "    \n",
    "print('평균 움직인 거리:', np.mean(Distance_set))\n",
    "print('평균 횟수:', np.mean(Trial_set))        "
   ]
  },
  {
   "cell_type": "code",
   "execution_count": null,
   "id": "d85eec5c",
   "metadata": {},
   "outputs": [],
   "source": [
    "import numpy as np\n",
    "import matplotlib.pyplot as plt\n",
    "N_Trials = 10000\n",
    "\n",
    "Distance_set = []\n",
    "Distance_mean_set = []\n",
    "Trial_set = []\n",
    "\n",
    "for i in range(N_Trials):\n",
    "    X = 0.01\n",
    "    Distance = 0\n",
    "    Trial = 0\n",
    "    \n",
    "    Done = False\n",
    "    while not Done:\n",
    "        if X < 0:\n",
    "            Done = True\n",
    "            Distance_set.append(Distance+X)\n",
    "            Trial_set.append(Trial)\n",
    "        elif X > 1:\n",
    "            Done = True\n",
    "            Distance_set.append(Distance-X+1)\n",
    "            Trial_set.append(Trial)\n",
    "        else:\n",
    "            pass\n",
    "        Distance_mean_set.append(np.mean(Distance_set))"
   ]
  },
  {
   "cell_type": "code",
   "execution_count": 2,
   "id": "01c8d228",
   "metadata": {},
   "outputs": [],
   "source": [
    "# 1\n",
    "import numpy as np\n",
    "\n",
    "X = 0.01\n",
    "Distance = 0\n",
    "Trial = 0\n",
    "\n",
    "Done = False\n",
    "while not Done:\n",
    "    direction = np.random.choice((-1,1))\n",
    "    move_L = np.random.uniform(0,0.1)\n",
    "    \n",
    "    X += direction * move_L\n",
    "    Trial += 1\n",
    "    Distance += move_L\n",
    "    \n",
    "    if X<0:\n",
    "        Done = True\n",
    "    elif X>1:\n",
    "        Done = True\n",
    "    else:\n",
    "        pass\n",
    "    \n",
    "    "
   ]
  },
  {
   "cell_type": "code",
   "execution_count": 6,
   "id": "f4530138",
   "metadata": {},
   "outputs": [
    {
     "name": "stdout",
     "output_type": "stream",
     "text": [
      "평균 움직인 거리: 0.555799283913065\n",
      "평균 움직인 횟수: 10.99\n"
     ]
    }
   ],
   "source": [
    "import numpy as np\n",
    "N_Trials = 100\n",
    "\n",
    "Distance_set = []\n",
    "Trial_set = []\n",
    "\n",
    "for i in range(N_Trials):\n",
    "    X = 0.01\n",
    "    Distance = 0\n",
    "    Trial = 0\n",
    "    \n",
    "    Done = False\n",
    "    while not Done:\n",
    "        direction = np.random.choice((-1,1))\n",
    "        move_L = np.random.uniform(0,0.1)\n",
    "        \n",
    "        X += direction * move_L\n",
    "        Trial += 1\n",
    "        Distance += move_L\n",
    "        \n",
    "        if X<0 or X>1:\n",
    "            Done = True\n",
    "            Distance_set.append(Distance)\n",
    "            Trial_set.append(Trial)\n",
    "            \n",
    "        else:\n",
    "            pass\n",
    "print('평균 움직인 거리:', np.mean(Distance_set))\n",
    "print('평균 움직인 횟수:', np.mean(Trial_set))"
   ]
  },
  {
   "cell_type": "code",
   "execution_count": 7,
   "id": "12eb28c6",
   "metadata": {},
   "outputs": [
    {
     "name": "stdout",
     "output_type": "stream",
     "text": [
      "평균 움직인 거리: 0.7118741321087105\n",
      "평균 움직인 횟수: 14.9544\n"
     ]
    }
   ],
   "source": [
    "import numpy as np\n",
    "import matplotlib.pyplot as plt\n",
    "\n",
    "N_Trials = 10000\n",
    "\n",
    "Distance_set = []\n",
    "Distance_mean_set = []\n",
    "Trial_set = []\n",
    "\n",
    "for i in range(N_Trials):\n",
    "    X = 0.01\n",
    "    Distance = 0\n",
    "    Trial = 0\n",
    "    \n",
    "    Done = False\n",
    "    while not Done:\n",
    "        direction = np.random.choice((-1,1))\n",
    "        move_L = np.random.uniform(0,0.1)\n",
    "        \n",
    "        X += direction*move_L\n",
    "        Trial += 1\n",
    "        Distance += move_L\n",
    "        \n",
    "        if X<0:\n",
    "            Done = True\n",
    "            Distance_set.append(Distance + X)\n",
    "            Trial_set.append(Trial)\n",
    "        elif X>1:\n",
    "            Done = True\n",
    "            Distance_set.append(Distance - X +1)\n",
    "            Trial_set.append(Trial)\n",
    "        else:\n",
    "            pass\n",
    "    Distance_mean_set.append(np.mean(Distance_set))\n",
    "print('평균 움직인 거리:', np.mean(Distance_set))\n",
    "print('평균 움직인 횟수:', np.mean(Trial_set))"
   ]
  },
  {
   "cell_type": "code",
   "execution_count": 12,
   "id": "e709a9db",
   "metadata": {},
   "outputs": [
    {
     "name": "stdout",
     "output_type": "stream",
     "text": [
      "몇 단계의 삼각형 출력?: 5\n"
     ]
    },
    {
     "ename": "ValueError",
     "evalue": "not enough values to unpack (expected 3, got 2)",
     "output_type": "error",
     "traceback": [
      "\u001b[1;31m---------------------------------------------------------------------------\u001b[0m",
      "\u001b[1;31mValueError\u001b[0m                                Traceback (most recent call last)",
      "Cell \u001b[1;32mIn[12], line 24\u001b[0m\n\u001b[0;32m     21\u001b[0m             \u001b[38;5;28mprint\u001b[39m(triangle)\n\u001b[0;32m     23\u001b[0m user_steps \u001b[38;5;241m=\u001b[39m \u001b[38;5;28mint\u001b[39m(\u001b[38;5;28minput\u001b[39m(\u001b[38;5;124m\"\u001b[39m\u001b[38;5;124m몇 단계의 삼각형 출력?: \u001b[39m\u001b[38;5;124m\"\u001b[39m))\n\u001b[1;32m---> 24\u001b[0m generate_sierpinski_triangle(user_steps)\n",
      "Cell \u001b[1;32mIn[12], line 7\u001b[0m, in \u001b[0;36mgenerate_sierpinski_triangle\u001b[1;34m(steps)\u001b[0m\n\u001b[0;32m      5\u001b[0m new_triangles \u001b[38;5;241m=\u001b[39m []\n\u001b[0;32m      6\u001b[0m \u001b[38;5;28;01mfor\u001b[39;00m triangle \u001b[38;5;129;01min\u001b[39;00m triangles:\n\u001b[1;32m----> 7\u001b[0m     p1, p2, p3 \u001b[38;5;241m=\u001b[39m triangle\n\u001b[0;32m      8\u001b[0m     midpoints \u001b[38;5;241m=\u001b[39m [((p1[\u001b[38;5;241m0\u001b[39m]\u001b[38;5;241m+\u001b[39mp2[\u001b[38;5;241m0\u001b[39m])\u001b[38;5;241m/\u001b[39m\u001b[38;5;241m2\u001b[39m,(p1[\u001b[38;5;241m1\u001b[39m]\u001b[38;5;241m+\u001b[39mp2[\u001b[38;5;241m1\u001b[39m])\u001b[38;5;241m/\u001b[39m\u001b[38;5;241m2\u001b[39m),\n\u001b[0;32m      9\u001b[0m                  ((p2[\u001b[38;5;241m0\u001b[39m]\u001b[38;5;241m+\u001b[39mp3[\u001b[38;5;241m0\u001b[39m])\u001b[38;5;241m/\u001b[39m\u001b[38;5;241m2\u001b[39m,(p2[\u001b[38;5;241m1\u001b[39m]\u001b[38;5;241m+\u001b[39mp3[\u001b[38;5;241m1\u001b[39m])\u001b[38;5;241m/\u001b[39m\u001b[38;5;241m2\u001b[39m),\n\u001b[0;32m     10\u001b[0m                  ((p1[\u001b[38;5;241m0\u001b[39m]\u001b[38;5;241m+\u001b[39mp3[\u001b[38;5;241m0\u001b[39m])\u001b[38;5;241m/\u001b[39m\u001b[38;5;241m2\u001b[39m,(p1[\u001b[38;5;241m1\u001b[39m]\u001b[38;5;241m+\u001b[39mp3[\u001b[38;5;241m1\u001b[39m])\u001b[38;5;241m/\u001b[39m\u001b[38;5;241m2\u001b[39m)]\n\u001b[0;32m     11\u001b[0m     new_triangles\u001b[38;5;241m.\u001b[39mextend([\n\u001b[0;32m     12\u001b[0m         [p1, midpoints[\u001b[38;5;241m0\u001b[39m], midpoints[\u001b[38;5;241m2\u001b[39m]],\n\u001b[0;32m     13\u001b[0m         [midpoints[\u001b[38;5;241m0\u001b[39m], p2, midpoints[\u001b[38;5;241m1\u001b[39m]],\n\u001b[0;32m     14\u001b[0m         [midpoints[\u001b[38;5;241m2\u001b[39m], midpoints[\u001b[38;5;241m1\u001b[39m], p3]\n\u001b[0;32m     15\u001b[0m \n\u001b[0;32m     16\u001b[0m     ])\n",
      "\u001b[1;31mValueError\u001b[0m: not enough values to unpack (expected 3, got 2)"
     ]
    }
   ],
   "source": [
    "def generate_sierpinski_triangle(steps):\n",
    "    triangles = [(0,0),(1,0),(0.5,0.866)]\n",
    "    \n",
    "    for step in range(steps):\n",
    "        new_triangles = []\n",
    "        for triangle in triangles:\n",
    "            p1, p2, p3 = triangle\n",
    "            midpoints = [((p1[0]+p2[0])/2,(p1[1]+p2[1])/2),\n",
    "                         ((p2[0]+p3[0])/2,(p2[1]+p3[1])/2),\n",
    "                         ((p1[0]+p3[0])/2,(p1[1]+p3[1])/2)]\n",
    "            new_triangles.extend([\n",
    "                [p1, midpoints[0], midpoints[2]],\n",
    "                [midpoints[0], p2, midpoints[1]],\n",
    "                [midpoints[2], midpoints[1], p3]\n",
    "\n",
    "            ])\n",
    "        triangels = new_triangles\n",
    "        \n",
    "        print(f\"Step{step+1}좌표:\")\n",
    "        for triangle in triangles:\n",
    "            print(triangle)\n",
    "            \n",
    "user_steps = int(input(\"몇 단계의 삼각형 출력?: \"))\n",
    "generate_sierpinski_triangle(user_steps)"
   ]
  },
  {
   "cell_type": "code",
   "execution_count": 9,
   "id": "b4e6e41b",
   "metadata": {},
   "outputs": [
    {
     "name": "stdout",
     "output_type": "stream",
     "text": [
      "몇 단계의 시에르핀스키 삼각형을 출력하시겠습니까? 5\n",
      "Step 1 좌표:\n",
      "[(0, 0), (0.5, 0.0), (0.25, 0.433)]\n",
      "[(0.5, 0.0), (1, 0), (0.75, 0.433)]\n",
      "[(0.25, 0.433), (0.75, 0.433), (0.5, 0.866)]\n",
      "Step 2 좌표:\n",
      "[(0, 0), (0.25, 0.0), (0.125, 0.2165)]\n",
      "[(0.25, 0.0), (0.5, 0.0), (0.375, 0.2165)]\n",
      "[(0.125, 0.2165), (0.375, 0.2165), (0.25, 0.433)]\n",
      "[(0.5, 0.0), (0.75, 0.0), (0.625, 0.2165)]\n",
      "[(0.75, 0.0), (1, 0), (0.875, 0.2165)]\n",
      "[(0.625, 0.2165), (0.875, 0.2165), (0.75, 0.433)]\n",
      "[(0.25, 0.433), (0.5, 0.433), (0.375, 0.6495)]\n",
      "[(0.5, 0.433), (0.75, 0.433), (0.625, 0.6495)]\n",
      "[(0.375, 0.6495), (0.625, 0.6495), (0.5, 0.866)]\n",
      "Step 3 좌표:\n",
      "[(0, 0), (0.125, 0.0), (0.0625, 0.10825)]\n",
      "[(0.125, 0.0), (0.25, 0.0), (0.1875, 0.10825)]\n",
      "[(0.0625, 0.10825), (0.1875, 0.10825), (0.125, 0.2165)]\n",
      "[(0.25, 0.0), (0.375, 0.0), (0.3125, 0.10825)]\n",
      "[(0.375, 0.0), (0.5, 0.0), (0.4375, 0.10825)]\n",
      "[(0.3125, 0.10825), (0.4375, 0.10825), (0.375, 0.2165)]\n",
      "[(0.125, 0.2165), (0.25, 0.2165), (0.1875, 0.32475)]\n",
      "[(0.25, 0.2165), (0.375, 0.2165), (0.3125, 0.32475)]\n",
      "[(0.1875, 0.32475), (0.3125, 0.32475), (0.25, 0.433)]\n",
      "[(0.5, 0.0), (0.625, 0.0), (0.5625, 0.10825)]\n",
      "[(0.625, 0.0), (0.75, 0.0), (0.6875, 0.10825)]\n",
      "[(0.5625, 0.10825), (0.6875, 0.10825), (0.625, 0.2165)]\n",
      "[(0.75, 0.0), (0.875, 0.0), (0.8125, 0.10825)]\n",
      "[(0.875, 0.0), (1, 0), (0.9375, 0.10825)]\n",
      "[(0.8125, 0.10825), (0.9375, 0.10825), (0.875, 0.2165)]\n",
      "[(0.625, 0.2165), (0.75, 0.2165), (0.6875, 0.32475)]\n",
      "[(0.75, 0.2165), (0.875, 0.2165), (0.8125, 0.32475)]\n",
      "[(0.6875, 0.32475), (0.8125, 0.32475), (0.75, 0.433)]\n",
      "[(0.25, 0.433), (0.375, 0.433), (0.3125, 0.54125)]\n",
      "[(0.375, 0.433), (0.5, 0.433), (0.4375, 0.54125)]\n",
      "[(0.3125, 0.54125), (0.4375, 0.54125), (0.375, 0.6495)]\n",
      "[(0.5, 0.433), (0.625, 0.433), (0.5625, 0.54125)]\n",
      "[(0.625, 0.433), (0.75, 0.433), (0.6875, 0.54125)]\n",
      "[(0.5625, 0.54125), (0.6875, 0.54125), (0.625, 0.6495)]\n",
      "[(0.375, 0.6495), (0.5, 0.6495), (0.4375, 0.7577499999999999)]\n",
      "[(0.5, 0.6495), (0.625, 0.6495), (0.5625, 0.7577499999999999)]\n",
      "[(0.4375, 0.7577499999999999), (0.5625, 0.7577499999999999), (0.5, 0.866)]\n",
      "Step 4 좌표:\n",
      "[(0, 0), (0.0625, 0.0), (0.03125, 0.054125)]\n",
      "[(0.0625, 0.0), (0.125, 0.0), (0.09375, 0.054125)]\n",
      "[(0.03125, 0.054125), (0.09375, 0.054125), (0.0625, 0.10825)]\n",
      "[(0.125, 0.0), (0.1875, 0.0), (0.15625, 0.054125)]\n",
      "[(0.1875, 0.0), (0.25, 0.0), (0.21875, 0.054125)]\n",
      "[(0.15625, 0.054125), (0.21875, 0.054125), (0.1875, 0.10825)]\n",
      "[(0.0625, 0.10825), (0.125, 0.10825), (0.09375, 0.162375)]\n",
      "[(0.125, 0.10825), (0.1875, 0.10825), (0.15625, 0.162375)]\n",
      "[(0.09375, 0.162375), (0.15625, 0.162375), (0.125, 0.2165)]\n",
      "[(0.25, 0.0), (0.3125, 0.0), (0.28125, 0.054125)]\n",
      "[(0.3125, 0.0), (0.375, 0.0), (0.34375, 0.054125)]\n",
      "[(0.28125, 0.054125), (0.34375, 0.054125), (0.3125, 0.10825)]\n",
      "[(0.375, 0.0), (0.4375, 0.0), (0.40625, 0.054125)]\n",
      "[(0.4375, 0.0), (0.5, 0.0), (0.46875, 0.054125)]\n",
      "[(0.40625, 0.054125), (0.46875, 0.054125), (0.4375, 0.10825)]\n",
      "[(0.3125, 0.10825), (0.375, 0.10825), (0.34375, 0.162375)]\n",
      "[(0.375, 0.10825), (0.4375, 0.10825), (0.40625, 0.162375)]\n",
      "[(0.34375, 0.162375), (0.40625, 0.162375), (0.375, 0.2165)]\n",
      "[(0.125, 0.2165), (0.1875, 0.2165), (0.15625, 0.270625)]\n",
      "[(0.1875, 0.2165), (0.25, 0.2165), (0.21875, 0.270625)]\n",
      "[(0.15625, 0.270625), (0.21875, 0.270625), (0.1875, 0.32475)]\n",
      "[(0.25, 0.2165), (0.3125, 0.2165), (0.28125, 0.270625)]\n",
      "[(0.3125, 0.2165), (0.375, 0.2165), (0.34375, 0.270625)]\n",
      "[(0.28125, 0.270625), (0.34375, 0.270625), (0.3125, 0.32475)]\n",
      "[(0.1875, 0.32475), (0.25, 0.32475), (0.21875, 0.37887499999999996)]\n",
      "[(0.25, 0.32475), (0.3125, 0.32475), (0.28125, 0.37887499999999996)]\n",
      "[(0.21875, 0.37887499999999996), (0.28125, 0.37887499999999996), (0.25, 0.433)]\n",
      "[(0.5, 0.0), (0.5625, 0.0), (0.53125, 0.054125)]\n",
      "[(0.5625, 0.0), (0.625, 0.0), (0.59375, 0.054125)]\n",
      "[(0.53125, 0.054125), (0.59375, 0.054125), (0.5625, 0.10825)]\n",
      "[(0.625, 0.0), (0.6875, 0.0), (0.65625, 0.054125)]\n",
      "[(0.6875, 0.0), (0.75, 0.0), (0.71875, 0.054125)]\n",
      "[(0.65625, 0.054125), (0.71875, 0.054125), (0.6875, 0.10825)]\n",
      "[(0.5625, 0.10825), (0.625, 0.10825), (0.59375, 0.162375)]\n",
      "[(0.625, 0.10825), (0.6875, 0.10825), (0.65625, 0.162375)]\n",
      "[(0.59375, 0.162375), (0.65625, 0.162375), (0.625, 0.2165)]\n",
      "[(0.75, 0.0), (0.8125, 0.0), (0.78125, 0.054125)]\n",
      "[(0.8125, 0.0), (0.875, 0.0), (0.84375, 0.054125)]\n",
      "[(0.78125, 0.054125), (0.84375, 0.054125), (0.8125, 0.10825)]\n",
      "[(0.875, 0.0), (0.9375, 0.0), (0.90625, 0.054125)]\n",
      "[(0.9375, 0.0), (1, 0), (0.96875, 0.054125)]\n",
      "[(0.90625, 0.054125), (0.96875, 0.054125), (0.9375, 0.10825)]\n",
      "[(0.8125, 0.10825), (0.875, 0.10825), (0.84375, 0.162375)]\n",
      "[(0.875, 0.10825), (0.9375, 0.10825), (0.90625, 0.162375)]\n",
      "[(0.84375, 0.162375), (0.90625, 0.162375), (0.875, 0.2165)]\n",
      "[(0.625, 0.2165), (0.6875, 0.2165), (0.65625, 0.270625)]\n",
      "[(0.6875, 0.2165), (0.75, 0.2165), (0.71875, 0.270625)]\n",
      "[(0.65625, 0.270625), (0.71875, 0.270625), (0.6875, 0.32475)]\n",
      "[(0.75, 0.2165), (0.8125, 0.2165), (0.78125, 0.270625)]\n",
      "[(0.8125, 0.2165), (0.875, 0.2165), (0.84375, 0.270625)]\n",
      "[(0.78125, 0.270625), (0.84375, 0.270625), (0.8125, 0.32475)]\n",
      "[(0.6875, 0.32475), (0.75, 0.32475), (0.71875, 0.37887499999999996)]\n",
      "[(0.75, 0.32475), (0.8125, 0.32475), (0.78125, 0.37887499999999996)]\n",
      "[(0.71875, 0.37887499999999996), (0.78125, 0.37887499999999996), (0.75, 0.433)]\n",
      "[(0.25, 0.433), (0.3125, 0.433), (0.28125, 0.48712500000000003)]\n",
      "[(0.3125, 0.433), (0.375, 0.433), (0.34375, 0.48712500000000003)]\n",
      "[(0.28125, 0.48712500000000003), (0.34375, 0.48712500000000003), (0.3125, 0.54125)]\n",
      "[(0.375, 0.433), (0.4375, 0.433), (0.40625, 0.48712500000000003)]\n",
      "[(0.4375, 0.433), (0.5, 0.433), (0.46875, 0.48712500000000003)]\n",
      "[(0.40625, 0.48712500000000003), (0.46875, 0.48712500000000003), (0.4375, 0.54125)]\n",
      "[(0.3125, 0.54125), (0.375, 0.54125), (0.34375, 0.595375)]\n",
      "[(0.375, 0.54125), (0.4375, 0.54125), (0.40625, 0.595375)]\n",
      "[(0.34375, 0.595375), (0.40625, 0.595375), (0.375, 0.6495)]\n",
      "[(0.5, 0.433), (0.5625, 0.433), (0.53125, 0.48712500000000003)]\n",
      "[(0.5625, 0.433), (0.625, 0.433), (0.59375, 0.48712500000000003)]\n",
      "[(0.53125, 0.48712500000000003), (0.59375, 0.48712500000000003), (0.5625, 0.54125)]\n",
      "[(0.625, 0.433), (0.6875, 0.433), (0.65625, 0.48712500000000003)]\n",
      "[(0.6875, 0.433), (0.75, 0.433), (0.71875, 0.48712500000000003)]\n",
      "[(0.65625, 0.48712500000000003), (0.71875, 0.48712500000000003), (0.6875, 0.54125)]\n",
      "[(0.5625, 0.54125), (0.625, 0.54125), (0.59375, 0.595375)]\n",
      "[(0.625, 0.54125), (0.6875, 0.54125), (0.65625, 0.595375)]\n",
      "[(0.59375, 0.595375), (0.65625, 0.595375), (0.625, 0.6495)]\n",
      "[(0.375, 0.6495), (0.4375, 0.6495), (0.40625, 0.703625)]\n",
      "[(0.4375, 0.6495), (0.5, 0.6495), (0.46875, 0.703625)]\n",
      "[(0.40625, 0.703625), (0.46875, 0.703625), (0.4375, 0.7577499999999999)]\n",
      "[(0.5, 0.6495), (0.5625, 0.6495), (0.53125, 0.703625)]\n",
      "[(0.5625, 0.6495), (0.625, 0.6495), (0.59375, 0.703625)]\n",
      "[(0.53125, 0.703625), (0.59375, 0.703625), (0.5625, 0.7577499999999999)]\n",
      "[(0.4375, 0.7577499999999999), (0.5, 0.7577499999999999), (0.46875, 0.8118749999999999)]\n",
      "[(0.5, 0.7577499999999999), (0.5625, 0.7577499999999999), (0.53125, 0.8118749999999999)]\n",
      "[(0.46875, 0.8118749999999999), (0.53125, 0.8118749999999999), (0.5, 0.866)]\n",
      "Step 5 좌표:\n",
      "[(0, 0), (0.03125, 0.0), (0.015625, 0.0270625)]\n",
      "[(0.03125, 0.0), (0.0625, 0.0), (0.046875, 0.0270625)]\n",
      "[(0.015625, 0.0270625), (0.046875, 0.0270625), (0.03125, 0.054125)]\n",
      "[(0.0625, 0.0), (0.09375, 0.0), (0.078125, 0.0270625)]\n",
      "[(0.09375, 0.0), (0.125, 0.0), (0.109375, 0.0270625)]\n",
      "[(0.078125, 0.0270625), (0.109375, 0.0270625), (0.09375, 0.054125)]\n",
      "[(0.03125, 0.054125), (0.0625, 0.054125), (0.046875, 0.0811875)]\n",
      "[(0.0625, 0.054125), (0.09375, 0.054125), (0.078125, 0.0811875)]\n",
      "[(0.046875, 0.0811875), (0.078125, 0.0811875), (0.0625, 0.10825)]\n",
      "[(0.125, 0.0), (0.15625, 0.0), (0.140625, 0.0270625)]\n",
      "[(0.15625, 0.0), (0.1875, 0.0), (0.171875, 0.0270625)]\n",
      "[(0.140625, 0.0270625), (0.171875, 0.0270625), (0.15625, 0.054125)]\n",
      "[(0.1875, 0.0), (0.21875, 0.0), (0.203125, 0.0270625)]\n",
      "[(0.21875, 0.0), (0.25, 0.0), (0.234375, 0.0270625)]\n",
      "[(0.203125, 0.0270625), (0.234375, 0.0270625), (0.21875, 0.054125)]\n",
      "[(0.15625, 0.054125), (0.1875, 0.054125), (0.171875, 0.0811875)]\n",
      "[(0.1875, 0.054125), (0.21875, 0.054125), (0.203125, 0.0811875)]\n",
      "[(0.171875, 0.0811875), (0.203125, 0.0811875), (0.1875, 0.10825)]\n",
      "[(0.0625, 0.10825), (0.09375, 0.10825), (0.078125, 0.1353125)]\n",
      "[(0.09375, 0.10825), (0.125, 0.10825), (0.109375, 0.1353125)]\n",
      "[(0.078125, 0.1353125), (0.109375, 0.1353125), (0.09375, 0.162375)]\n",
      "[(0.125, 0.10825), (0.15625, 0.10825), (0.140625, 0.1353125)]\n",
      "[(0.15625, 0.10825), (0.1875, 0.10825), (0.171875, 0.1353125)]\n",
      "[(0.140625, 0.1353125), (0.171875, 0.1353125), (0.15625, 0.162375)]\n",
      "[(0.09375, 0.162375), (0.125, 0.162375), (0.109375, 0.18943749999999998)]\n",
      "[(0.125, 0.162375), (0.15625, 0.162375), (0.140625, 0.18943749999999998)]\n",
      "[(0.109375, 0.18943749999999998), (0.140625, 0.18943749999999998), (0.125, 0.2165)]\n",
      "[(0.25, 0.0), (0.28125, 0.0), (0.265625, 0.0270625)]\n",
      "[(0.28125, 0.0), (0.3125, 0.0), (0.296875, 0.0270625)]\n",
      "[(0.265625, 0.0270625), (0.296875, 0.0270625), (0.28125, 0.054125)]\n",
      "[(0.3125, 0.0), (0.34375, 0.0), (0.328125, 0.0270625)]\n",
      "[(0.34375, 0.0), (0.375, 0.0), (0.359375, 0.0270625)]\n",
      "[(0.328125, 0.0270625), (0.359375, 0.0270625), (0.34375, 0.054125)]\n",
      "[(0.28125, 0.054125), (0.3125, 0.054125), (0.296875, 0.0811875)]\n",
      "[(0.3125, 0.054125), (0.34375, 0.054125), (0.328125, 0.0811875)]\n",
      "[(0.296875, 0.0811875), (0.328125, 0.0811875), (0.3125, 0.10825)]\n",
      "[(0.375, 0.0), (0.40625, 0.0), (0.390625, 0.0270625)]\n",
      "[(0.40625, 0.0), (0.4375, 0.0), (0.421875, 0.0270625)]\n",
      "[(0.390625, 0.0270625), (0.421875, 0.0270625), (0.40625, 0.054125)]\n",
      "[(0.4375, 0.0), (0.46875, 0.0), (0.453125, 0.0270625)]\n",
      "[(0.46875, 0.0), (0.5, 0.0), (0.484375, 0.0270625)]\n",
      "[(0.453125, 0.0270625), (0.484375, 0.0270625), (0.46875, 0.054125)]\n",
      "[(0.40625, 0.054125), (0.4375, 0.054125), (0.421875, 0.0811875)]\n",
      "[(0.4375, 0.054125), (0.46875, 0.054125), (0.453125, 0.0811875)]\n",
      "[(0.421875, 0.0811875), (0.453125, 0.0811875), (0.4375, 0.10825)]\n",
      "[(0.3125, 0.10825), (0.34375, 0.10825), (0.328125, 0.1353125)]\n",
      "[(0.34375, 0.10825), (0.375, 0.10825), (0.359375, 0.1353125)]\n",
      "[(0.328125, 0.1353125), (0.359375, 0.1353125), (0.34375, 0.162375)]\n",
      "[(0.375, 0.10825), (0.40625, 0.10825), (0.390625, 0.1353125)]\n",
      "[(0.40625, 0.10825), (0.4375, 0.10825), (0.421875, 0.1353125)]\n",
      "[(0.390625, 0.1353125), (0.421875, 0.1353125), (0.40625, 0.162375)]\n",
      "[(0.34375, 0.162375), (0.375, 0.162375), (0.359375, 0.18943749999999998)]\n",
      "[(0.375, 0.162375), (0.40625, 0.162375), (0.390625, 0.18943749999999998)]\n",
      "[(0.359375, 0.18943749999999998), (0.390625, 0.18943749999999998), (0.375, 0.2165)]\n",
      "[(0.125, 0.2165), (0.15625, 0.2165), (0.140625, 0.24356250000000002)]\n",
      "[(0.15625, 0.2165), (0.1875, 0.2165), (0.171875, 0.24356250000000002)]\n",
      "[(0.140625, 0.24356250000000002), (0.171875, 0.24356250000000002), (0.15625, 0.270625)]\n",
      "[(0.1875, 0.2165), (0.21875, 0.2165), (0.203125, 0.24356250000000002)]\n",
      "[(0.21875, 0.2165), (0.25, 0.2165), (0.234375, 0.24356250000000002)]\n",
      "[(0.203125, 0.24356250000000002), (0.234375, 0.24356250000000002), (0.21875, 0.270625)]\n",
      "[(0.15625, 0.270625), (0.1875, 0.270625), (0.171875, 0.2976875)]\n",
      "[(0.1875, 0.270625), (0.21875, 0.270625), (0.203125, 0.2976875)]\n",
      "[(0.171875, 0.2976875), (0.203125, 0.2976875), (0.1875, 0.32475)]\n",
      "[(0.25, 0.2165), (0.28125, 0.2165), (0.265625, 0.24356250000000002)]\n",
      "[(0.28125, 0.2165), (0.3125, 0.2165), (0.296875, 0.24356250000000002)]\n",
      "[(0.265625, 0.24356250000000002), (0.296875, 0.24356250000000002), (0.28125, 0.270625)]\n",
      "[(0.3125, 0.2165), (0.34375, 0.2165), (0.328125, 0.24356250000000002)]\n",
      "[(0.34375, 0.2165), (0.375, 0.2165), (0.359375, 0.24356250000000002)]\n",
      "[(0.328125, 0.24356250000000002), (0.359375, 0.24356250000000002), (0.34375, 0.270625)]\n",
      "[(0.28125, 0.270625), (0.3125, 0.270625), (0.296875, 0.2976875)]\n",
      "[(0.3125, 0.270625), (0.34375, 0.270625), (0.328125, 0.2976875)]\n",
      "[(0.296875, 0.2976875), (0.328125, 0.2976875), (0.3125, 0.32475)]\n",
      "[(0.1875, 0.32475), (0.21875, 0.32475), (0.203125, 0.3518125)]\n",
      "[(0.21875, 0.32475), (0.25, 0.32475), (0.234375, 0.3518125)]\n",
      "[(0.203125, 0.3518125), (0.234375, 0.3518125), (0.21875, 0.37887499999999996)]\n",
      "[(0.25, 0.32475), (0.28125, 0.32475), (0.265625, 0.3518125)]\n",
      "[(0.28125, 0.32475), (0.3125, 0.32475), (0.296875, 0.3518125)]\n",
      "[(0.265625, 0.3518125), (0.296875, 0.3518125), (0.28125, 0.37887499999999996)]\n",
      "[(0.21875, 0.37887499999999996), (0.25, 0.37887499999999996), (0.234375, 0.40593749999999995)]\n",
      "[(0.25, 0.37887499999999996), (0.28125, 0.37887499999999996), (0.265625, 0.40593749999999995)]\n",
      "[(0.234375, 0.40593749999999995), (0.265625, 0.40593749999999995), (0.25, 0.433)]\n",
      "[(0.5, 0.0), (0.53125, 0.0), (0.515625, 0.0270625)]\n",
      "[(0.53125, 0.0), (0.5625, 0.0), (0.546875, 0.0270625)]\n",
      "[(0.515625, 0.0270625), (0.546875, 0.0270625), (0.53125, 0.054125)]\n",
      "[(0.5625, 0.0), (0.59375, 0.0), (0.578125, 0.0270625)]\n",
      "[(0.59375, 0.0), (0.625, 0.0), (0.609375, 0.0270625)]\n",
      "[(0.578125, 0.0270625), (0.609375, 0.0270625), (0.59375, 0.054125)]\n",
      "[(0.53125, 0.054125), (0.5625, 0.054125), (0.546875, 0.0811875)]\n",
      "[(0.5625, 0.054125), (0.59375, 0.054125), (0.578125, 0.0811875)]\n",
      "[(0.546875, 0.0811875), (0.578125, 0.0811875), (0.5625, 0.10825)]\n",
      "[(0.625, 0.0), (0.65625, 0.0), (0.640625, 0.0270625)]\n",
      "[(0.65625, 0.0), (0.6875, 0.0), (0.671875, 0.0270625)]\n",
      "[(0.640625, 0.0270625), (0.671875, 0.0270625), (0.65625, 0.054125)]\n",
      "[(0.6875, 0.0), (0.71875, 0.0), (0.703125, 0.0270625)]\n",
      "[(0.71875, 0.0), (0.75, 0.0), (0.734375, 0.0270625)]\n",
      "[(0.703125, 0.0270625), (0.734375, 0.0270625), (0.71875, 0.054125)]\n",
      "[(0.65625, 0.054125), (0.6875, 0.054125), (0.671875, 0.0811875)]\n",
      "[(0.6875, 0.054125), (0.71875, 0.054125), (0.703125, 0.0811875)]\n",
      "[(0.671875, 0.0811875), (0.703125, 0.0811875), (0.6875, 0.10825)]\n",
      "[(0.5625, 0.10825), (0.59375, 0.10825), (0.578125, 0.1353125)]\n",
      "[(0.59375, 0.10825), (0.625, 0.10825), (0.609375, 0.1353125)]\n",
      "[(0.578125, 0.1353125), (0.609375, 0.1353125), (0.59375, 0.162375)]\n",
      "[(0.625, 0.10825), (0.65625, 0.10825), (0.640625, 0.1353125)]\n",
      "[(0.65625, 0.10825), (0.6875, 0.10825), (0.671875, 0.1353125)]\n",
      "[(0.640625, 0.1353125), (0.671875, 0.1353125), (0.65625, 0.162375)]\n",
      "[(0.59375, 0.162375), (0.625, 0.162375), (0.609375, 0.18943749999999998)]\n",
      "[(0.625, 0.162375), (0.65625, 0.162375), (0.640625, 0.18943749999999998)]\n",
      "[(0.609375, 0.18943749999999998), (0.640625, 0.18943749999999998), (0.625, 0.2165)]\n",
      "[(0.75, 0.0), (0.78125, 0.0), (0.765625, 0.0270625)]\n",
      "[(0.78125, 0.0), (0.8125, 0.0), (0.796875, 0.0270625)]\n",
      "[(0.765625, 0.0270625), (0.796875, 0.0270625), (0.78125, 0.054125)]\n",
      "[(0.8125, 0.0), (0.84375, 0.0), (0.828125, 0.0270625)]\n",
      "[(0.84375, 0.0), (0.875, 0.0), (0.859375, 0.0270625)]\n",
      "[(0.828125, 0.0270625), (0.859375, 0.0270625), (0.84375, 0.054125)]\n",
      "[(0.78125, 0.054125), (0.8125, 0.054125), (0.796875, 0.0811875)]\n",
      "[(0.8125, 0.054125), (0.84375, 0.054125), (0.828125, 0.0811875)]\n",
      "[(0.796875, 0.0811875), (0.828125, 0.0811875), (0.8125, 0.10825)]\n",
      "[(0.875, 0.0), (0.90625, 0.0), (0.890625, 0.0270625)]\n",
      "[(0.90625, 0.0), (0.9375, 0.0), (0.921875, 0.0270625)]\n",
      "[(0.890625, 0.0270625), (0.921875, 0.0270625), (0.90625, 0.054125)]\n",
      "[(0.9375, 0.0), (0.96875, 0.0), (0.953125, 0.0270625)]\n",
      "[(0.96875, 0.0), (1, 0), (0.984375, 0.0270625)]\n",
      "[(0.953125, 0.0270625), (0.984375, 0.0270625), (0.96875, 0.054125)]\n",
      "[(0.90625, 0.054125), (0.9375, 0.054125), (0.921875, 0.0811875)]\n",
      "[(0.9375, 0.054125), (0.96875, 0.054125), (0.953125, 0.0811875)]\n",
      "[(0.921875, 0.0811875), (0.953125, 0.0811875), (0.9375, 0.10825)]\n",
      "[(0.8125, 0.10825), (0.84375, 0.10825), (0.828125, 0.1353125)]\n",
      "[(0.84375, 0.10825), (0.875, 0.10825), (0.859375, 0.1353125)]\n",
      "[(0.828125, 0.1353125), (0.859375, 0.1353125), (0.84375, 0.162375)]\n",
      "[(0.875, 0.10825), (0.90625, 0.10825), (0.890625, 0.1353125)]\n",
      "[(0.90625, 0.10825), (0.9375, 0.10825), (0.921875, 0.1353125)]\n",
      "[(0.890625, 0.1353125), (0.921875, 0.1353125), (0.90625, 0.162375)]\n",
      "[(0.84375, 0.162375), (0.875, 0.162375), (0.859375, 0.18943749999999998)]\n",
      "[(0.875, 0.162375), (0.90625, 0.162375), (0.890625, 0.18943749999999998)]\n",
      "[(0.859375, 0.18943749999999998), (0.890625, 0.18943749999999998), (0.875, 0.2165)]\n",
      "[(0.625, 0.2165), (0.65625, 0.2165), (0.640625, 0.24356250000000002)]\n",
      "[(0.65625, 0.2165), (0.6875, 0.2165), (0.671875, 0.24356250000000002)]\n",
      "[(0.640625, 0.24356250000000002), (0.671875, 0.24356250000000002), (0.65625, 0.270625)]\n",
      "[(0.6875, 0.2165), (0.71875, 0.2165), (0.703125, 0.24356250000000002)]\n",
      "[(0.71875, 0.2165), (0.75, 0.2165), (0.734375, 0.24356250000000002)]\n",
      "[(0.703125, 0.24356250000000002), (0.734375, 0.24356250000000002), (0.71875, 0.270625)]\n",
      "[(0.65625, 0.270625), (0.6875, 0.270625), (0.671875, 0.2976875)]\n",
      "[(0.6875, 0.270625), (0.71875, 0.270625), (0.703125, 0.2976875)]\n",
      "[(0.671875, 0.2976875), (0.703125, 0.2976875), (0.6875, 0.32475)]\n",
      "[(0.75, 0.2165), (0.78125, 0.2165), (0.765625, 0.24356250000000002)]\n",
      "[(0.78125, 0.2165), (0.8125, 0.2165), (0.796875, 0.24356250000000002)]\n",
      "[(0.765625, 0.24356250000000002), (0.796875, 0.24356250000000002), (0.78125, 0.270625)]\n",
      "[(0.8125, 0.2165), (0.84375, 0.2165), (0.828125, 0.24356250000000002)]\n",
      "[(0.84375, 0.2165), (0.875, 0.2165), (0.859375, 0.24356250000000002)]\n",
      "[(0.828125, 0.24356250000000002), (0.859375, 0.24356250000000002), (0.84375, 0.270625)]\n",
      "[(0.78125, 0.270625), (0.8125, 0.270625), (0.796875, 0.2976875)]\n",
      "[(0.8125, 0.270625), (0.84375, 0.270625), (0.828125, 0.2976875)]\n",
      "[(0.796875, 0.2976875), (0.828125, 0.2976875), (0.8125, 0.32475)]\n",
      "[(0.6875, 0.32475), (0.71875, 0.32475), (0.703125, 0.3518125)]\n",
      "[(0.71875, 0.32475), (0.75, 0.32475), (0.734375, 0.3518125)]\n",
      "[(0.703125, 0.3518125), (0.734375, 0.3518125), (0.71875, 0.37887499999999996)]\n",
      "[(0.75, 0.32475), (0.78125, 0.32475), (0.765625, 0.3518125)]\n",
      "[(0.78125, 0.32475), (0.8125, 0.32475), (0.796875, 0.3518125)]\n",
      "[(0.765625, 0.3518125), (0.796875, 0.3518125), (0.78125, 0.37887499999999996)]\n",
      "[(0.71875, 0.37887499999999996), (0.75, 0.37887499999999996), (0.734375, 0.40593749999999995)]\n",
      "[(0.75, 0.37887499999999996), (0.78125, 0.37887499999999996), (0.765625, 0.40593749999999995)]\n",
      "[(0.734375, 0.40593749999999995), (0.765625, 0.40593749999999995), (0.75, 0.433)]\n",
      "[(0.25, 0.433), (0.28125, 0.433), (0.265625, 0.46006250000000004)]\n",
      "[(0.28125, 0.433), (0.3125, 0.433), (0.296875, 0.46006250000000004)]\n",
      "[(0.265625, 0.46006250000000004), (0.296875, 0.46006250000000004), (0.28125, 0.48712500000000003)]\n",
      "[(0.3125, 0.433), (0.34375, 0.433), (0.328125, 0.46006250000000004)]\n",
      "[(0.34375, 0.433), (0.375, 0.433), (0.359375, 0.46006250000000004)]\n",
      "[(0.328125, 0.46006250000000004), (0.359375, 0.46006250000000004), (0.34375, 0.48712500000000003)]\n",
      "[(0.28125, 0.48712500000000003), (0.3125, 0.48712500000000003), (0.296875, 0.5141875)]\n",
      "[(0.3125, 0.48712500000000003), (0.34375, 0.48712500000000003), (0.328125, 0.5141875)]\n",
      "[(0.296875, 0.5141875), (0.328125, 0.5141875), (0.3125, 0.54125)]\n",
      "[(0.375, 0.433), (0.40625, 0.433), (0.390625, 0.46006250000000004)]\n",
      "[(0.40625, 0.433), (0.4375, 0.433), (0.421875, 0.46006250000000004)]\n",
      "[(0.390625, 0.46006250000000004), (0.421875, 0.46006250000000004), (0.40625, 0.48712500000000003)]\n",
      "[(0.4375, 0.433), (0.46875, 0.433), (0.453125, 0.46006250000000004)]\n",
      "[(0.46875, 0.433), (0.5, 0.433), (0.484375, 0.46006250000000004)]\n",
      "[(0.453125, 0.46006250000000004), (0.484375, 0.46006250000000004), (0.46875, 0.48712500000000003)]\n",
      "[(0.40625, 0.48712500000000003), (0.4375, 0.48712500000000003), (0.421875, 0.5141875)]\n",
      "[(0.4375, 0.48712500000000003), (0.46875, 0.48712500000000003), (0.453125, 0.5141875)]\n",
      "[(0.421875, 0.5141875), (0.453125, 0.5141875), (0.4375, 0.54125)]\n",
      "[(0.3125, 0.54125), (0.34375, 0.54125), (0.328125, 0.5683125)]\n",
      "[(0.34375, 0.54125), (0.375, 0.54125), (0.359375, 0.5683125)]\n",
      "[(0.328125, 0.5683125), (0.359375, 0.5683125), (0.34375, 0.595375)]\n",
      "[(0.375, 0.54125), (0.40625, 0.54125), (0.390625, 0.5683125)]\n",
      "[(0.40625, 0.54125), (0.4375, 0.54125), (0.421875, 0.5683125)]\n",
      "[(0.390625, 0.5683125), (0.421875, 0.5683125), (0.40625, 0.595375)]\n",
      "[(0.34375, 0.595375), (0.375, 0.595375), (0.359375, 0.6224375)]\n",
      "[(0.375, 0.595375), (0.40625, 0.595375), (0.390625, 0.6224375)]\n",
      "[(0.359375, 0.6224375), (0.390625, 0.6224375), (0.375, 0.6495)]\n",
      "[(0.5, 0.433), (0.53125, 0.433), (0.515625, 0.46006250000000004)]\n",
      "[(0.53125, 0.433), (0.5625, 0.433), (0.546875, 0.46006250000000004)]\n",
      "[(0.515625, 0.46006250000000004), (0.546875, 0.46006250000000004), (0.53125, 0.48712500000000003)]\n",
      "[(0.5625, 0.433), (0.59375, 0.433), (0.578125, 0.46006250000000004)]\n",
      "[(0.59375, 0.433), (0.625, 0.433), (0.609375, 0.46006250000000004)]\n",
      "[(0.578125, 0.46006250000000004), (0.609375, 0.46006250000000004), (0.59375, 0.48712500000000003)]\n",
      "[(0.53125, 0.48712500000000003), (0.5625, 0.48712500000000003), (0.546875, 0.5141875)]\n",
      "[(0.5625, 0.48712500000000003), (0.59375, 0.48712500000000003), (0.578125, 0.5141875)]\n",
      "[(0.546875, 0.5141875), (0.578125, 0.5141875), (0.5625, 0.54125)]\n",
      "[(0.625, 0.433), (0.65625, 0.433), (0.640625, 0.46006250000000004)]\n",
      "[(0.65625, 0.433), (0.6875, 0.433), (0.671875, 0.46006250000000004)]\n",
      "[(0.640625, 0.46006250000000004), (0.671875, 0.46006250000000004), (0.65625, 0.48712500000000003)]\n",
      "[(0.6875, 0.433), (0.71875, 0.433), (0.703125, 0.46006250000000004)]\n",
      "[(0.71875, 0.433), (0.75, 0.433), (0.734375, 0.46006250000000004)]\n",
      "[(0.703125, 0.46006250000000004), (0.734375, 0.46006250000000004), (0.71875, 0.48712500000000003)]\n",
      "[(0.65625, 0.48712500000000003), (0.6875, 0.48712500000000003), (0.671875, 0.5141875)]\n",
      "[(0.6875, 0.48712500000000003), (0.71875, 0.48712500000000003), (0.703125, 0.5141875)]\n",
      "[(0.671875, 0.5141875), (0.703125, 0.5141875), (0.6875, 0.54125)]\n",
      "[(0.5625, 0.54125), (0.59375, 0.54125), (0.578125, 0.5683125)]\n",
      "[(0.59375, 0.54125), (0.625, 0.54125), (0.609375, 0.5683125)]\n",
      "[(0.578125, 0.5683125), (0.609375, 0.5683125), (0.59375, 0.595375)]\n",
      "[(0.625, 0.54125), (0.65625, 0.54125), (0.640625, 0.5683125)]\n",
      "[(0.65625, 0.54125), (0.6875, 0.54125), (0.671875, 0.5683125)]\n",
      "[(0.640625, 0.5683125), (0.671875, 0.5683125), (0.65625, 0.595375)]\n",
      "[(0.59375, 0.595375), (0.625, 0.595375), (0.609375, 0.6224375)]\n",
      "[(0.625, 0.595375), (0.65625, 0.595375), (0.640625, 0.6224375)]\n",
      "[(0.609375, 0.6224375), (0.640625, 0.6224375), (0.625, 0.6495)]\n",
      "[(0.375, 0.6495), (0.40625, 0.6495), (0.390625, 0.6765625)]\n",
      "[(0.40625, 0.6495), (0.4375, 0.6495), (0.421875, 0.6765625)]\n",
      "[(0.390625, 0.6765625), (0.421875, 0.6765625), (0.40625, 0.703625)]\n",
      "[(0.4375, 0.6495), (0.46875, 0.6495), (0.453125, 0.6765625)]\n",
      "[(0.46875, 0.6495), (0.5, 0.6495), (0.484375, 0.6765625)]\n",
      "[(0.453125, 0.6765625), (0.484375, 0.6765625), (0.46875, 0.703625)]\n",
      "[(0.40625, 0.703625), (0.4375, 0.703625), (0.421875, 0.7306874999999999)]\n",
      "[(0.4375, 0.703625), (0.46875, 0.703625), (0.453125, 0.7306874999999999)]\n",
      "[(0.421875, 0.7306874999999999), (0.453125, 0.7306874999999999), (0.4375, 0.7577499999999999)]\n",
      "[(0.5, 0.6495), (0.53125, 0.6495), (0.515625, 0.6765625)]\n",
      "[(0.53125, 0.6495), (0.5625, 0.6495), (0.546875, 0.6765625)]\n",
      "[(0.515625, 0.6765625), (0.546875, 0.6765625), (0.53125, 0.703625)]\n",
      "[(0.5625, 0.6495), (0.59375, 0.6495), (0.578125, 0.6765625)]\n",
      "[(0.59375, 0.6495), (0.625, 0.6495), (0.609375, 0.6765625)]\n",
      "[(0.578125, 0.6765625), (0.609375, 0.6765625), (0.59375, 0.703625)]\n",
      "[(0.53125, 0.703625), (0.5625, 0.703625), (0.546875, 0.7306874999999999)]\n",
      "[(0.5625, 0.703625), (0.59375, 0.703625), (0.578125, 0.7306874999999999)]\n",
      "[(0.546875, 0.7306874999999999), (0.578125, 0.7306874999999999), (0.5625, 0.7577499999999999)]\n",
      "[(0.4375, 0.7577499999999999), (0.46875, 0.7577499999999999), (0.453125, 0.7848124999999999)]\n",
      "[(0.46875, 0.7577499999999999), (0.5, 0.7577499999999999), (0.484375, 0.7848124999999999)]\n",
      "[(0.453125, 0.7848124999999999), (0.484375, 0.7848124999999999), (0.46875, 0.8118749999999999)]\n",
      "[(0.5, 0.7577499999999999), (0.53125, 0.7577499999999999), (0.515625, 0.7848124999999999)]\n",
      "[(0.53125, 0.7577499999999999), (0.5625, 0.7577499999999999), (0.546875, 0.7848124999999999)]\n",
      "[(0.515625, 0.7848124999999999), (0.546875, 0.7848124999999999), (0.53125, 0.8118749999999999)]\n",
      "[(0.46875, 0.8118749999999999), (0.5, 0.8118749999999999), (0.484375, 0.8389374999999999)]\n",
      "[(0.5, 0.8118749999999999), (0.53125, 0.8118749999999999), (0.515625, 0.8389374999999999)]\n",
      "[(0.484375, 0.8389374999999999), (0.515625, 0.8389374999999999), (0.5, 0.866)]\n"
     ]
    }
   ],
   "source": [
    "def generate_sierpinski_triangle(steps):\n",
    "    triangles = [[(0, 0), (1, 0), (0.5, 0.866)]]\n",
    "\n",
    "    for step in range(steps):\n",
    "        new_triangles = []\n",
    "        for triangle in triangles:\n",
    "            p1, p2, p3 = triangle\n",
    "            midpoints = [((p1[0] + p2[0]) / 2, (p1[1] + p2[1]) / 2),\n",
    "                         ((p2[0] + p3[0]) / 2, (p2[1] + p3[1]) / 2),\n",
    "                         ((p1[0] + p3[0]) / 2, (p1[1] + p3[1]) / 2)]\n",
    "            new_triangles.extend([\n",
    "                [p1, midpoints[0], midpoints[2]],\n",
    "                [midpoints[0], p2, midpoints[1]],\n",
    "                [midpoints[2], midpoints[1], p3]\n",
    "            ])\n",
    "        triangles = new_triangles\n",
    "\n",
    "        print(f\"Step {step + 1} 좌표:\")\n",
    "        for triangle in triangles:\n",
    "            print(triangle)\n",
    "\n",
    "user_steps = int(input(\"몇 단계의 시에르핀스키 삼각형을 출력하시겠습니까? \"))\n",
    "generate_sierpinski_triangle(user_steps)"
   ]
  },
  {
   "cell_type": "code",
   "execution_count": 4,
   "id": "9e87271f",
   "metadata": {},
   "outputs": [],
   "source": [
    "class Calculator:\n",
    "    def __init__(self):\n",
    "        self.number = None\n",
    "    def add(self, value):\n",
    "        if not self.number:\n",
    "            self.number = value\n",
    "        else:\n",
    "            self.number += value"
   ]
  },
  {
   "cell_type": "code",
   "execution_count": 5,
   "id": "4566f6d6",
   "metadata": {},
   "outputs": [
    {
     "name": "stdout",
     "output_type": "stream",
     "text": [
      "3\n"
     ]
    }
   ],
   "source": [
    "cal1 = Calculator()\n",
    "cal1.add(3)\n",
    "print(cal1.number)"
   ]
  },
  {
   "cell_type": "code",
   "execution_count": 7,
   "id": "7c94253c",
   "metadata": {},
   "outputs": [],
   "source": [
    "class Adv(Calculator):\n",
    "    def pow(self, value):\n",
    "        self.number = self.number ** value\n",
    "        print('Current number is %s' % self.number)"
   ]
  },
  {
   "cell_type": "code",
   "execution_count": 8,
   "id": "7fa03a6a",
   "metadata": {},
   "outputs": [],
   "source": [
    "class Adv(Calculator):\n",
    "    def divide(self, value):\n",
    "        if value == 0:\n",
    "            print('Cannot divide with zero')\n",
    "        else:\n",
    "            self.number = self.number / value\n",
    "            print('Qurrent number is %s' % self.number)\n",
    "    def _pow(self, value):\n",
    "        self.number = self.number**value\n",
    "        print('Qurrent number is %s' % self.number)"
   ]
  },
  {
   "cell_type": "code",
   "execution_count": 9,
   "id": "5c9ce8d9",
   "metadata": {},
   "outputs": [],
   "source": [
    "class Calculator:\n",
    "    def __init__(self, a):\n",
    "        self.number = a\n",
    "        print('Qurrent number is %s' % self.number)\n",
    "    def add(self,value):\n",
    "        self.number += value\n",
    "        print('Current number is %s' % self.number)\n",
    "        \n",
    "class Calculator(Calculator):\n",
    "    def __init__(self):\n",
    "        self.pi = 3.14\n",
    "    def pow(self, value):\n",
    "        self.number = self.number ** value\n",
    "        print('Qurrent number is %s' % self.number)"
   ]
  },
  {
   "cell_type": "code",
   "execution_count": 10,
   "id": "16f05cc5",
   "metadata": {},
   "outputs": [],
   "source": [
    "class Adv(Calculator):\n",
    "    def __init__(self, **kwargs):\n",
    "        print(kwargs)\n",
    "        super().__init__(**kwargs)\n",
    "        self.pi = 3.14\n",
    "    def _pow(self, value):\n",
    "        self.number = self.number ** value\n",
    "        print('Current number is %s' % self.number)"
   ]
  },
  {
   "cell_type": "code",
   "execution_count": 1,
   "id": "7d773063",
   "metadata": {},
   "outputs": [
    {
     "name": "stdout",
     "output_type": "stream",
     "text": [
      "[2, 4, 6, 8, 10]\n"
     ]
    }
   ],
   "source": [
    "#----------------------------\n",
    "def double(a):\n",
    "    return 2*a\n",
    "\n",
    "# a 요소 두배한 값\n",
    "A = [1,2,3,4,5]\n",
    "B = []\n",
    "for a in A:\n",
    "    B.append(2*a)\n",
    "print(B)"
   ]
  },
  {
   "cell_type": "code",
   "execution_count": 3,
   "id": "e4f87fd9",
   "metadata": {},
   "outputs": [
    {
     "name": "stdout",
     "output_type": "stream",
     "text": [
      "[2, 4, 6, 8, 10]\n"
     ]
    }
   ],
   "source": [
    "B = [double(1),double(2),double(3),double(4),double(5)]\n",
    "print(B)"
   ]
  },
  {
   "cell_type": "code",
   "execution_count": 5,
   "id": "58eddcfc",
   "metadata": {},
   "outputs": [
    {
     "name": "stdout",
     "output_type": "stream",
     "text": [
      "[2, 4, 6, 8, 10]\n"
     ]
    }
   ],
   "source": [
    "B2 = list(map(double,A))\n",
    "print(B2)"
   ]
  },
  {
   "cell_type": "code",
   "execution_count": 6,
   "id": "6d7963ad",
   "metadata": {},
   "outputs": [
    {
     "data": {
      "text/plain": [
       "[2, 4, 6, 8, 10]"
      ]
     },
     "execution_count": 6,
     "metadata": {},
     "output_type": "execute_result"
    }
   ],
   "source": [
    "list(map(lambda a:2*a,A))"
   ]
  },
  {
   "cell_type": "code",
   "execution_count": 7,
   "id": "adf2ff8d",
   "metadata": {},
   "outputs": [
    {
     "data": {
      "text/plain": [
       "2"
      ]
     },
     "execution_count": 7,
     "metadata": {},
     "output_type": "execute_result"
    }
   ],
   "source": [
    "(lambda a:a*2)(1)"
   ]
  },
  {
   "cell_type": "code",
   "execution_count": 8,
   "id": "d952656b",
   "metadata": {},
   "outputs": [
    {
     "data": {
      "text/plain": [
       "[2, 4, 6, 8, 10]"
      ]
     },
     "execution_count": 8,
     "metadata": {},
     "output_type": "execute_result"
    }
   ],
   "source": [
    "[2*a for a in A]"
   ]
  },
  {
   "cell_type": "code",
   "execution_count": 9,
   "id": "0b1e8c09",
   "metadata": {},
   "outputs": [
    {
     "data": {
      "text/plain": [
       "[2, 4, 6, 8, 10]"
      ]
     },
     "execution_count": 9,
     "metadata": {},
     "output_type": "execute_result"
    }
   ],
   "source": [
    "[2*a for a in A]"
   ]
  },
  {
   "cell_type": "code",
   "execution_count": 10,
   "id": "d83303b9",
   "metadata": {},
   "outputs": [
    {
     "data": {
      "text/plain": [
       "7"
      ]
     },
     "execution_count": 10,
     "metadata": {},
     "output_type": "execute_result"
    }
   ],
   "source": [
    "abs(-7)"
   ]
  },
  {
   "cell_type": "code",
   "execution_count": 13,
   "id": "97a4d9a0",
   "metadata": {},
   "outputs": [
    {
     "data": {
      "text/plain": [
       "7"
      ]
     },
     "execution_count": 13,
     "metadata": {},
     "output_type": "execute_result"
    }
   ],
   "source": [
    "def add(a,b):\n",
    "    return a+b\n",
    "num = 0\n",
    "num = add(num, 2)\n",
    "num = add(num, 5)\n",
    "num"
   ]
  },
  {
   "cell_type": "code",
   "execution_count": 18,
   "id": "81a59dab",
   "metadata": {},
   "outputs": [
    {
     "name": "stdout",
     "output_type": "stream",
     "text": [
      "Hello\n"
     ]
    }
   ],
   "source": [
    "class Calculator:\n",
    "    def __init__(self,a,b):\n",
    "        print('Hello')\n",
    "        self.name = a\n",
    "        self.grade = b\n",
    "        \n",
    "cal = Calculator('Happy',80)"
   ]
  },
  {
   "cell_type": "code",
   "execution_count": null,
   "id": "96adbe6e",
   "metadata": {},
   "outputs": [],
   "source": [
    "class"
   ]
  }
 ],
 "metadata": {
  "kernelspec": {
   "display_name": "Python 3 (ipykernel)",
   "language": "python",
   "name": "python3"
  },
  "language_info": {
   "codemirror_mode": {
    "name": "ipython",
    "version": 3
   },
   "file_extension": ".py",
   "mimetype": "text/x-python",
   "name": "python",
   "nbconvert_exporter": "python",
   "pygments_lexer": "ipython3",
   "version": "3.11.4"
  }
 },
 "nbformat": 4,
 "nbformat_minor": 5
}
