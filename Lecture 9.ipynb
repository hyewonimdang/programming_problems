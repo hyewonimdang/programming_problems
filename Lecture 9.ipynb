{
 "cells": [
  {
   "cell_type": "code",
   "execution_count": 1,
   "id": "6b065c88",
   "metadata": {},
   "outputs": [
    {
     "data": {
      "text/plain": [
       "(2, 1)"
      ]
     },
     "execution_count": 1,
     "metadata": {},
     "output_type": "execute_result"
    }
   ],
   "source": [
    "divmod(5,2)"
   ]
  },
  {
   "cell_type": "code",
   "execution_count": 2,
   "id": "f3e06e0b",
   "metadata": {},
   "outputs": [],
   "source": [
    "A = divmod(5,2)"
   ]
  },
  {
   "cell_type": "code",
   "execution_count": 3,
   "id": "f4e0fa0d",
   "metadata": {},
   "outputs": [],
   "source": [
    "def add(x,y):\n",
    "    return x + y"
   ]
  },
  {
   "cell_type": "code",
   "execution_count": 4,
   "id": "09b3d836",
   "metadata": {},
   "outputs": [
    {
     "data": {
      "text/plain": [
       "3"
      ]
     },
     "execution_count": 4,
     "metadata": {},
     "output_type": "execute_result"
    }
   ],
   "source": [
    "add(1,2)"
   ]
  },
  {
   "cell_type": "code",
   "execution_count": 6,
   "id": "fd3e274f",
   "metadata": {},
   "outputs": [
    {
     "data": {
      "text/plain": [
       "3"
      ]
     },
     "execution_count": 6,
     "metadata": {},
     "output_type": "execute_result"
    }
   ],
   "source": [
    "add(x=1, y=2)"
   ]
  },
  {
   "cell_type": "code",
   "execution_count": 7,
   "id": "30d3b765",
   "metadata": {},
   "outputs": [],
   "source": [
    "result = add(x=1, y=2)"
   ]
  },
  {
   "cell_type": "code",
   "execution_count": 8,
   "id": "3327e91c",
   "metadata": {},
   "outputs": [
    {
     "name": "stdout",
     "output_type": "stream",
     "text": [
      "3\n"
     ]
    }
   ],
   "source": [
    "print(result)"
   ]
  },
  {
   "cell_type": "code",
   "execution_count": 9,
   "id": "f40c1379",
   "metadata": {},
   "outputs": [],
   "source": [
    "def add(x,y):\n",
    "    c = x + y\n",
    "    return c"
   ]
  },
  {
   "cell_type": "code",
   "execution_count": 10,
   "id": "21db33ca",
   "metadata": {},
   "outputs": [
    {
     "data": {
      "text/plain": [
       "3"
      ]
     },
     "execution_count": 10,
     "metadata": {},
     "output_type": "execute_result"
    }
   ],
   "source": [
    "add(1,2)   # 인풋"
   ]
  },
  {
   "cell_type": "code",
   "execution_count": 12,
   "id": "ee06e3da",
   "metadata": {},
   "outputs": [],
   "source": [
    "x = 1       # 함수 작동 방식\n",
    "y = 2\n",
    "c = x+y\n",
    "c"
   ]
  },
  {
   "cell_type": "code",
   "execution_count": 15,
   "id": "46786934",
   "metadata": {},
   "outputs": [
    {
     "data": {
      "text/plain": [
       "3"
      ]
     },
     "execution_count": 15,
     "metadata": {},
     "output_type": "execute_result"
    }
   ],
   "source": [
    "add(1,2)"
   ]
  },
  {
   "cell_type": "code",
   "execution_count": 23,
   "id": "3bbaf312",
   "metadata": {},
   "outputs": [],
   "source": [
    "def add2(x,y):\n",
    "    c = x +2*y\n",
    "    return c"
   ]
  },
  {
   "cell_type": "code",
   "execution_count": 24,
   "id": "f4e43ea1",
   "metadata": {},
   "outputs": [
    {
     "data": {
      "text/plain": [
       "5"
      ]
     },
     "execution_count": 24,
     "metadata": {},
     "output_type": "execute_result"
    }
   ],
   "source": [
    "add2(1,2)"
   ]
  },
  {
   "cell_type": "code",
   "execution_count": 25,
   "id": "0d59b80b",
   "metadata": {},
   "outputs": [
    {
     "data": {
      "text/plain": [
       "4"
      ]
     },
     "execution_count": 25,
     "metadata": {},
     "output_type": "execute_result"
    }
   ],
   "source": [
    "add2(2,1)"
   ]
  },
  {
   "cell_type": "code",
   "execution_count": 26,
   "id": "e62e0f1e",
   "metadata": {},
   "outputs": [
    {
     "data": {
      "text/plain": [
       "4"
      ]
     },
     "execution_count": 26,
     "metadata": {},
     "output_type": "execute_result"
    }
   ],
   "source": [
    "add2(x=2, y=1)"
   ]
  },
  {
   "cell_type": "code",
   "execution_count": 30,
   "id": "e5c0b88c",
   "metadata": {},
   "outputs": [],
   "source": [
    "def add2(x,y=2):\n",
    "    c = x +2*y\n",
    "    return c"
   ]
  },
  {
   "cell_type": "code",
   "execution_count": 31,
   "id": "5ceb9981",
   "metadata": {},
   "outputs": [
    {
     "data": {
      "text/plain": [
       "5"
      ]
     },
     "execution_count": 31,
     "metadata": {},
     "output_type": "execute_result"
    }
   ],
   "source": [
    "add2(1)"
   ]
  },
  {
   "cell_type": "code",
   "execution_count": 32,
   "id": "f1aa4923",
   "metadata": {},
   "outputs": [
    {
     "data": {
      "text/plain": [
       "10"
      ]
     },
     "execution_count": 32,
     "metadata": {},
     "output_type": "execute_result"
    }
   ],
   "source": [
    "add2(2,4)"
   ]
  },
  {
   "cell_type": "code",
   "execution_count": 33,
   "id": "854ad8ee",
   "metadata": {},
   "outputs": [],
   "source": [
    "def add():\n",
    "    return"
   ]
  },
  {
   "cell_type": "code",
   "execution_count": 34,
   "id": "1501c355",
   "metadata": {},
   "outputs": [],
   "source": [
    "add()"
   ]
  },
  {
   "cell_type": "code",
   "execution_count": 35,
   "id": "fba5aebb",
   "metadata": {},
   "outputs": [],
   "source": [
    "def add():\n",
    "    pass"
   ]
  },
  {
   "cell_type": "code",
   "execution_count": 36,
   "id": "578d1e81",
   "metadata": {},
   "outputs": [],
   "source": [
    "add()"
   ]
  },
  {
   "cell_type": "code",
   "execution_count": 37,
   "id": "a6dfc512",
   "metadata": {},
   "outputs": [
    {
     "data": {
      "text/plain": [
       "NoneType"
      ]
     },
     "execution_count": 37,
     "metadata": {},
     "output_type": "execute_result"
    }
   ],
   "source": [
    "A = add()\n",
    "type(A)                # A 비어있어서"
   ]
  },
  {
   "cell_type": "code",
   "execution_count": 38,
   "id": "0e0c5682",
   "metadata": {},
   "outputs": [],
   "source": [
    "def major():\n",
    "    print('Smart Factory')  # return (X) 유의"
   ]
  },
  {
   "cell_type": "code",
   "execution_count": 39,
   "id": "d575777b",
   "metadata": {},
   "outputs": [
    {
     "name": "stdout",
     "output_type": "stream",
     "text": [
      "Smart Factory\n"
     ]
    }
   ],
   "source": [
    "A = major()"
   ]
  },
  {
   "cell_type": "code",
   "execution_count": 40,
   "id": "f4b50097",
   "metadata": {},
   "outputs": [
    {
     "data": {
      "text/plain": [
       "NoneType"
      ]
     },
     "execution_count": 40,
     "metadata": {},
     "output_type": "execute_result"
    }
   ],
   "source": [
    "type(A)  # return 안 줬으니까 아무것도 안 뜬다."
   ]
  },
  {
   "cell_type": "code",
   "execution_count": 41,
   "id": "30a58486",
   "metadata": {},
   "outputs": [
    {
     "data": {
      "text/plain": [
       "<function __main__.major()>"
      ]
     },
     "execution_count": 41,
     "metadata": {},
     "output_type": "execute_result"
    }
   ],
   "source": [
    "major"
   ]
  },
  {
   "cell_type": "code",
   "execution_count": 42,
   "id": "35775008",
   "metadata": {},
   "outputs": [
    {
     "data": {
      "text/plain": [
       "function"
      ]
     },
     "execution_count": 42,
     "metadata": {},
     "output_type": "execute_result"
    }
   ],
   "source": [
    "type(major)"
   ]
  },
  {
   "cell_type": "code",
   "execution_count": 44,
   "id": "5dacdbfa",
   "metadata": {},
   "outputs": [],
   "source": [
    "A = major"
   ]
  },
  {
   "cell_type": "code",
   "execution_count": 45,
   "id": "5ce44e44",
   "metadata": {},
   "outputs": [
    {
     "name": "stdout",
     "output_type": "stream",
     "text": [
      "Smart Factory\n"
     ]
    }
   ],
   "source": [
    "A()"
   ]
  },
  {
   "cell_type": "code",
   "execution_count": 46,
   "id": "92f9e692",
   "metadata": {},
   "outputs": [],
   "source": [
    "def add(x,y):\n",
    "    return x+y"
   ]
  },
  {
   "cell_type": "code",
   "execution_count": 48,
   "id": "e4ceca0c",
   "metadata": {},
   "outputs": [],
   "source": [
    "def add(x,y,z):\n",
    "    return x+y+z"
   ]
  },
  {
   "cell_type": "code",
   "execution_count": 49,
   "id": "e1cb8a76",
   "metadata": {},
   "outputs": [],
   "source": [
    "def add(x,y,z,p):\n",
    "    return x+y+z+p"
   ]
  },
  {
   "cell_type": "code",
   "execution_count": 50,
   "id": "5c47cc0d",
   "metadata": {},
   "outputs": [],
   "source": [
    "# 정해놓지 않은 여러가지 인풋의 개수\n",
    "def add(A):\n",
    "    return sum(A)"
   ]
  },
  {
   "cell_type": "code",
   "execution_count": 51,
   "id": "63389d6b",
   "metadata": {},
   "outputs": [
    {
     "data": {
      "text/plain": [
       "15"
      ]
     },
     "execution_count": 51,
     "metadata": {},
     "output_type": "execute_result"
    }
   ],
   "source": [
    "add([1,2,3,4,5])"
   ]
  },
  {
   "cell_type": "code",
   "execution_count": 54,
   "id": "7b1fcb9a",
   "metadata": {},
   "outputs": [
    {
     "ename": "TypeError",
     "evalue": "add() takes 1 positional argument but 3 were given",
     "output_type": "error",
     "traceback": [
      "\u001b[1;31m---------------------------------------------------------------------------\u001b[0m",
      "\u001b[1;31mTypeError\u001b[0m                                 Traceback (most recent call last)",
      "Cell \u001b[1;32mIn[54], line 1\u001b[0m\n\u001b[1;32m----> 1\u001b[0m add(\u001b[38;5;241m1\u001b[39m,\u001b[38;5;241m2\u001b[39m,\u001b[38;5;241m3\u001b[39m)\n",
      "\u001b[1;31mTypeError\u001b[0m: add() takes 1 positional argument but 3 were given"
     ]
    }
   ],
   "source": [
    "add(1,2,3)"
   ]
  },
  {
   "cell_type": "code",
   "execution_count": 53,
   "id": "3092f77a",
   "metadata": {},
   "outputs": [
    {
     "data": {
      "text/plain": [
       "6"
      ]
     },
     "execution_count": 53,
     "metadata": {},
     "output_type": "execute_result"
    }
   ],
   "source": [
    "add((1,2,3))"
   ]
  },
  {
   "cell_type": "code",
   "execution_count": 60,
   "id": "68a4520c",
   "metadata": {},
   "outputs": [],
   "source": [
    "def add1(A):\n",
    "    return sum(A)               \n",
    "\n",
    "def add2(*A):                # *A : 들어온 모든 인풋들을 하나로 묶어서 튜플로 정의해놓고 출력\n",
    "    A = (1,2,3,4)\n",
    "    return sum(A)"
   ]
  },
  {
   "cell_type": "code",
   "execution_count": 61,
   "id": "c156c598",
   "metadata": {},
   "outputs": [
    {
     "data": {
      "text/plain": [
       "10"
      ]
     },
     "execution_count": 61,
     "metadata": {},
     "output_type": "execute_result"
    }
   ],
   "source": [
    "add1((1,2,3,4))"
   ]
  },
  {
   "cell_type": "code",
   "execution_count": 62,
   "id": "e5c84f8a",
   "metadata": {},
   "outputs": [
    {
     "data": {
      "text/plain": [
       "10"
      ]
     },
     "execution_count": 62,
     "metadata": {},
     "output_type": "execute_result"
    }
   ],
   "source": [
    "add2(1,2,3,4)"
   ]
  },
  {
   "cell_type": "code",
   "execution_count": 64,
   "id": "782c787d",
   "metadata": {},
   "outputs": [],
   "source": [
    "def add2(*A):\n",
    "    _sum = 0\n",
    "    for a in A:\n",
    "        _sum += a\n",
    "        return _sum"
   ]
  }
 ],
 "metadata": {
  "kernelspec": {
   "display_name": "Python 3 (ipykernel)",
   "language": "python",
   "name": "python3"
  },
  "language_info": {
   "codemirror_mode": {
    "name": "ipython",
    "version": 3
   },
   "file_extension": ".py",
   "mimetype": "text/x-python",
   "name": "python",
   "nbconvert_exporter": "python",
   "pygments_lexer": "ipython3",
   "version": "3.11.4"
  }
 },
 "nbformat": 4,
 "nbformat_minor": 5
}
