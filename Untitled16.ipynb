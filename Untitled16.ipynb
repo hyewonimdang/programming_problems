{
 "cells": [
  {
   "cell_type": "code",
   "execution_count": 1,
   "id": "81e472d2",
   "metadata": {},
   "outputs": [],
   "source": [
    "scores = {'철수':70,\n",
    "          '영희':55,\n",
    "          '민희':60,\n",
    "          '영수':45,\n",
    "          '영철':50,\n",
    "         }"
   ]
  },
  {
   "cell_type": "code",
   "execution_count": 5,
   "id": "252fdad6",
   "metadata": {},
   "outputs": [
    {
     "name": "stdout",
     "output_type": "stream",
     "text": [
      "철수 : Pass\n",
      "영희 : Pass\n",
      "민희 : Pass\n",
      "영수 : Fail\n",
      "영철 : Pass\n"
     ]
    }
   ],
   "source": [
    "for name, score in scores.items():\n",
    "    if score >= 50:\n",
    "        print(name, ': Pass')\n",
    "    else:\n",
    "        print(name, ': Fail')"
   ]
  },
  {
   "cell_type": "code",
   "execution_count": 18,
   "id": "8df683f2",
   "metadata": {},
   "outputs": [
    {
     "name": "stdout",
     "output_type": "stream",
     "text": [
      "수강생 수: 2\n",
      "수강생 이름: 양양ㅇ\n",
      "점수: 54\n",
      "수강생 이름: ㅇ\n",
      "점수: 5\n",
      "양양ㅇ : Pass\n",
      "ㅇ : Fail\n"
     ]
    }
   ],
   "source": [
    "def process_scores():\n",
    "    scores = {}\n",
    "    num_students = int(input('수강생 수: '))\n",
    "\n",
    "    for i in range(num_students):\n",
    "        name = input('수강생 이름: ')\n",
    "        score = int(input('점수: '))\n",
    "        scores[name] = score\n",
    "        \n",
    "    for name, score in scores.items():\n",
    "        if score >= 50:\n",
    "            print(name, ': Pass')\n",
    "            \n",
    "        else:\n",
    "            print(name, ': Fail')\n",
    "    \n",
    "process_scores()"
   ]
  },
  {
   "cell_type": "code",
   "execution_count": 19,
   "id": "4ec311b7",
   "metadata": {},
   "outputs": [],
   "source": [
    "# 리스트\n",
    "\n",
    "a = [1,2,3]\n",
    "del a [1]\n",
    "a.append(4)\n",
    "\n",
    "a.sort()\n",
    "a.reverse()\n",
    "\n",
    "a.index(3)\n",
    "a.insert(0,4)\n",
    "a.pop()\n",
    "a.count(1)\n",
    "a.extend([1,2,3,4])\n"
   ]
  },
  {
   "cell_type": "code",
   "execution_count": 22,
   "id": "7a394af8",
   "metadata": {},
   "outputs": [],
   "source": [
    "# 튜플\n",
    "\n",
    "# 리스트\n",
    "\n",
    "#a[keys] = value\n",
    "#del a[keys]\n",
    "\n",
    "#a.keys()\n",
    "#a.values()\n",
    "#a.items()"
   ]
  },
  {
   "cell_type": "code",
   "execution_count": 23,
   "id": "5d7a7d81",
   "metadata": {},
   "outputs": [],
   "source": [
    "a = [1,2,3]\n",
    "b = a"
   ]
  },
  {
   "cell_type": "code",
   "execution_count": 25,
   "id": "98b45b14",
   "metadata": {},
   "outputs": [
    {
     "data": {
      "text/plain": [
       "True"
      ]
     },
     "execution_count": 25,
     "metadata": {},
     "output_type": "execute_result"
    }
   ],
   "source": [
    "a is b\n",
    "id(a) == id(b)\n",
    "a == b"
   ]
  },
  {
   "cell_type": "code",
   "execution_count": 26,
   "id": "40e2a22a",
   "metadata": {},
   "outputs": [
    {
     "data": {
      "text/plain": [
       "[1, 5, 3]"
      ]
     },
     "execution_count": 26,
     "metadata": {},
     "output_type": "execute_result"
    }
   ],
   "source": [
    "a[1] = 5\n",
    "a"
   ]
  },
  {
   "cell_type": "code",
   "execution_count": 27,
   "id": "d848154b",
   "metadata": {},
   "outputs": [],
   "source": [
    "b[1] = 5"
   ]
  },
  {
   "cell_type": "code",
   "execution_count": 28,
   "id": "b59fcdaa",
   "metadata": {},
   "outputs": [
    {
     "data": {
      "text/plain": [
       "[1, 5, 3]"
      ]
     },
     "execution_count": 28,
     "metadata": {},
     "output_type": "execute_result"
    }
   ],
   "source": [
    "b"
   ]
  },
  {
   "cell_type": "code",
   "execution_count": 29,
   "id": "9290ac3a",
   "metadata": {},
   "outputs": [],
   "source": [
    "from copy import copy\n",
    "c = copy(b)\n",
    "b[0] = 7"
   ]
  },
  {
   "cell_type": "code",
   "execution_count": 30,
   "id": "36a3c423",
   "metadata": {},
   "outputs": [
    {
     "data": {
      "text/plain": [
       "[7, 5, 3]"
      ]
     },
     "execution_count": 30,
     "metadata": {},
     "output_type": "execute_result"
    }
   ],
   "source": [
    "a"
   ]
  },
  {
   "cell_type": "code",
   "execution_count": 31,
   "id": "ef8a081b",
   "metadata": {},
   "outputs": [
    {
     "data": {
      "text/plain": [
       "[7, 5, 3]"
      ]
     },
     "execution_count": 31,
     "metadata": {},
     "output_type": "execute_result"
    }
   ],
   "source": [
    "b"
   ]
  },
  {
   "cell_type": "code",
   "execution_count": 32,
   "id": "76f4c5cb",
   "metadata": {},
   "outputs": [
    {
     "data": {
      "text/plain": [
       "[1, 5, 3]"
      ]
     },
     "execution_count": 32,
     "metadata": {},
     "output_type": "execute_result"
    }
   ],
   "source": [
    "c"
   ]
  },
  {
   "cell_type": "code",
   "execution_count": 33,
   "id": "f1d61701",
   "metadata": {},
   "outputs": [
    {
     "name": "stdout",
     "output_type": "stream",
     "text": [
      "week 1 in this semester\n",
      "week 2 in this semester\n",
      "week 3 in this semester\n",
      "week 4 in this semester\n",
      "week 5 in this semester\n",
      "week 6 in this semester\n",
      "week 7 in this semester\n",
      "week 8 in this semester\n",
      "week 9 in this semester\n",
      "week 10 in this semester\n",
      "week 11 in this semester\n",
      "week 12 in this semester\n",
      "week 13 in this semester\n",
      "week 14 in this semester\n",
      "week 15 in this semester\n",
      "End\n"
     ]
    }
   ],
   "source": [
    "num_week = 0\n",
    "while num_week < 15:\n",
    "    num_week += 1\n",
    "    print('week %d in this semester' % num_week)\n",
    "    if num_week == 15:\n",
    "        print('End')"
   ]
  },
  {
   "cell_type": "code",
   "execution_count": 37,
   "id": "5803c571",
   "metadata": {},
   "outputs": [],
   "source": [
    "prompt = 'Enter the response\\n 1. Study\\n 2.Study\\n 3.Study\\n 4.Study\\n 4.Sleep'"
   ]
  },
  {
   "cell_type": "code",
   "execution_count": 38,
   "id": "462c54d4",
   "metadata": {},
   "outputs": [
    {
     "name": "stdout",
     "output_type": "stream",
     "text": [
      "Enter the response\n",
      " 1. Study\n",
      " 2.Study\n",
      " 3.Study\n",
      " 4.Study\n",
      " 4.Sleep\n",
      "1\n",
      "Enter the response\n",
      " 1. Study\n",
      " 2.Study\n",
      " 3.Study\n",
      " 4.Study\n",
      " 4.Sleep\n",
      "2\n",
      "Enter the response\n",
      " 1. Study\n",
      " 2.Study\n",
      " 3.Study\n",
      " 4.Study\n",
      " 4.Sleep\n",
      "5\n",
      "Enter the response\n",
      " 1. Study\n",
      " 2.Study\n",
      " 3.Study\n",
      " 4.Study\n",
      " 4.Sleep\n",
      "4\n"
     ]
    }
   ],
   "source": [
    "number = 0\n",
    "while number != 4:\n",
    "    print(prompt)\n",
    "    number = int(input())"
   ]
  },
  {
   "cell_type": "code",
   "execution_count": 39,
   "id": "eb0d49c8",
   "metadata": {},
   "outputs": [
    {
     "name": "stdout",
     "output_type": "stream",
     "text": [
      "weeks 1 in this semester\n",
      "weeks 2 in this semester\n",
      "weeks 3 in this semester\n",
      "weeks 4 in this semester\n",
      "weeks 5 in this semester\n",
      "weeks 6 in this semester\n",
      "weeks 7 in this semester\n",
      "weeks 8 in this semester\n",
      "weeks 9 in this semester\n",
      "weeks 10 in this semester\n",
      "weeks 11 in this semester\n",
      "weeks 12 in this semester\n",
      "weeks 13 in this semester\n",
      "weeks 14 in this semester\n",
      "weeks 15 in this semester\n"
     ]
    }
   ],
   "source": [
    "weeks = 0\n",
    "while True:\n",
    "    weeks += 1\n",
    "    print('weeks %d in this semester' % weeks)\n",
    "    if weeks == 15:\n",
    "        break"
   ]
  },
  {
   "cell_type": "code",
   "execution_count": 41,
   "id": "0424360c",
   "metadata": {},
   "outputs": [
    {
     "name": "stdout",
     "output_type": "stream",
     "text": [
      "2\n",
      "4\n",
      "6\n",
      "8\n",
      "10\n",
      "12\n",
      "14\n"
     ]
    }
   ],
   "source": [
    "weeks = 0\n",
    "while weeks < 15:\n",
    "    weeks += 1\n",
    "    if weeks % 2 == 0:\n",
    "        print(weeks)"
   ]
  },
  {
   "cell_type": "code",
   "execution_count": 44,
   "id": "fd850c60",
   "metadata": {},
   "outputs": [
    {
     "name": "stdout",
     "output_type": "stream",
     "text": [
      "a\n",
      "b\n",
      "c\n"
     ]
    }
   ],
   "source": [
    "class_list = ['a','b','c']\n",
    "\n",
    "for i in range(3):\n",
    "    print(class_list[i])"
   ]
  },
  {
   "cell_type": "code",
   "execution_count": 45,
   "id": "2cb4d1d4",
   "metadata": {},
   "outputs": [
    {
     "name": "stdout",
     "output_type": "stream",
     "text": [
      "0 Class: a\n",
      "1 Class: b\n",
      "2 Class: c\n"
     ]
    }
   ],
   "source": [
    "for i, class_name in enumerate(class_list):\n",
    "    print('%d Class: %s' % (i,class_name))"
   ]
  },
  {
   "cell_type": "code",
   "execution_count": 52,
   "id": "5cdfaa13",
   "metadata": {},
   "outputs": [
    {
     "name": "stdout",
     "output_type": "stream",
     "text": [
      "1 : A\n",
      "2 : B\n",
      "3 : C\n",
      " \n",
      "1 : A\n",
      "2 : B\n",
      "3 : C\n"
     ]
    }
   ],
   "source": [
    "A = [(1,'A'),(2,'B'),(3,'C')]\n",
    "for a in A:\n",
    "    class_num = a[0]\n",
    "    class_name = a[1]\n",
    "    print(class_num, ':', class_name)\n",
    "    \n",
    "print(' ')\n",
    "\n",
    "for (class_num, class_name) in A:\n",
    "    print(class_num, ':', class_name)"
   ]
  },
  {
   "cell_type": "code",
   "execution_count": 57,
   "id": "8972b21d",
   "metadata": {},
   "outputs": [
    {
     "name": "stdout",
     "output_type": "stream",
     "text": [
      "1 : A\n",
      "2 : B\n",
      "3 : C\n"
     ]
    }
   ],
   "source": [
    "class_list = ['A','B','C']\n",
    "\n",
    "for (i,class_name) in enumerate(class_list):\n",
    "    print(i+1, ':', class_name)\n",
    "    \n",
    "class_list[0] = 7"
   ]
  },
  {
   "cell_type": "code",
   "execution_count": 58,
   "id": "b246ed51",
   "metadata": {},
   "outputs": [
    {
     "name": "stdout",
     "output_type": "stream",
     "text": [
      "[3, 6, 9, 12, 15]\n"
     ]
    }
   ],
   "source": [
    "a = [1,2,3,4,5]\n",
    "b = []\n",
    "\n",
    "for num in a:\n",
    "    b.append(num*3)\n",
    "print(b)"
   ]
  },
  {
   "cell_type": "code",
   "execution_count": 59,
   "id": "ae73be2b",
   "metadata": {},
   "outputs": [
    {
     "name": "stdout",
     "output_type": "stream",
     "text": [
      "1\n",
      "3\n",
      "5\n",
      "7\n",
      "9\n",
      "11\n",
      "13\n",
      "15\n"
     ]
    }
   ],
   "source": [
    "num_week = 0\n",
    "while True:\n",
    "    num_week += 1\n",
    "    if num_week % 2 == 0:\n",
    "        continue\n",
    "    print(num_week)\n",
    "    if num_week == 15:\n",
    "        break"
   ]
  },
  {
   "cell_type": "code",
   "execution_count": 4,
   "id": "ce5d75da",
   "metadata": {},
   "outputs": [],
   "source": [
    "scores = {'철수':70,\n",
    "          '영희':55,\n",
    "          '민희':60,\n",
    "          '영수':45,\n",
    "          '영철':50,\n",
    "         }"
   ]
  },
  {
   "cell_type": "code",
   "execution_count": 7,
   "id": "d0b64d1c",
   "metadata": {},
   "outputs": [
    {
     "name": "stdout",
     "output_type": "stream",
     "text": [
      "철수 : Pass\n",
      "영희 : Pass\n",
      "민희 : Pass\n",
      "영수 : Fail\n",
      "영철 : Pass\n"
     ]
    }
   ],
   "source": [
    "def scores():\n",
    "    for name, score in scores.items():\n",
    "    if score >= 50:\n",
    "        print(name, ':', 'Pass')\n",
    "    else:\n",
    "        print(name, ':', 'Fail')"
   ]
  },
  {
   "cell_type": "code",
   "execution_count": null,
   "id": "c52c6866",
   "metadata": {},
   "outputs": [],
   "source": [
    "scores = {}\n",
    "scores = int(input())\n",
    "\n",
    "\n",
    "for name, score in range(5):\n",
    "    if score > 50:\n",
    "        print('Pass')\n",
    "    else:\n",
    "        print('Fail')"
   ]
  },
  {
   "cell_type": "code",
   "execution_count": 8,
   "id": "98ef5cd6",
   "metadata": {},
   "outputs": [
    {
     "name": "stdout",
     "output_type": "stream",
     "text": [
      "철수: Pass\n",
      "영희: Pass\n",
      "민희: Pass\n",
      "영수: Fail\n",
      "영철: Pass\n"
     ]
    }
   ],
   "source": [
    "def check_scores(scores):\n",
    "    result = {}  # 새로운 dictionary를 초기화합니다.\n",
    "    for name, score in scores.items():\n",
    "        if score >= 50:\n",
    "            result[name] = 'Pass'\n",
    "        else:\n",
    "            result[name] = 'Fail'\n",
    "    return result\n",
    "\n",
    "# 주어진 점수 dictionary\n",
    "scores = {\n",
    "    '철수': 70,\n",
    "    '영희': 55,\n",
    "    '민희': 60,\n",
    "    '영수': 45,\n",
    "    '영철': 50\n",
    "}\n",
    "\n",
    "# check_scores 함수를 호출하여 새로운 결과 dictionary를 얻습니다.\n",
    "result = check_scores(scores)\n",
    "\n",
    "# 결과 출력\n",
    "for name, status in result.items():\n",
    "    print(f'{name}: {status}')"
   ]
  },
  {
   "cell_type": "code",
   "execution_count": null,
   "id": "daad636f",
   "metadata": {},
   "outputs": [],
   "source": []
  }
 ],
 "metadata": {
  "kernelspec": {
   "display_name": "Python 3 (ipykernel)",
   "language": "python",
   "name": "python3"
  },
  "language_info": {
   "codemirror_mode": {
    "name": "ipython",
    "version": 3
   },
   "file_extension": ".py",
   "mimetype": "text/x-python",
   "name": "python",
   "nbconvert_exporter": "python",
   "pygments_lexer": "ipython3",
   "version": "3.11.4"
  }
 },
 "nbformat": 4,
 "nbformat_minor": 5
}
